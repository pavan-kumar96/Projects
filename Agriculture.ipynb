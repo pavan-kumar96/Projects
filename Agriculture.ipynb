{
 "cells": [
  {
   "cell_type": "markdown",
   "metadata": {},
   "source": [
    "### Project name :\n",
    "### Reduction in use Pesiticides and provide a way for organic farming"
   ]
  },
  {
   "cell_type": "markdown",
   "metadata": {},
   "source": [
    "#### Aim : Replace the use of pesticides with another organic farming methods and compare the productivity and health of the proucts and crop"
   ]
  },
  {
   "cell_type": "markdown",
   "metadata": {},
   "source": [
    "### Need of data:\n",
    "\n",
    "1. Data of any one crop from starting stages to end stage(Rougly three  months for any crop)\n",
    "\n",
    "2. Dieases and use of pesticides associated data for that particular crop\n",
    "\n",
    "#### - Method 1: Check the productivity using the pesticides data see the health of the product and it's productivty\n",
    "    \n",
    "#### - Method 2: Replacing those pesticides use with some different organic farming method and check the health and productivity of the crop\n",
    "\n",
    "#### - Method 3: Using the AI technology for the farming and using the  pesticides check the productivity and health of crop or products\n",
    "\n",
    "#### - Method 4: Using the AI technology for the farming and using the  organic farming methods check the productivity and health of crop or products\n",
    "    \n",
    "    \n",
    "\n"
   ]
  },
  {
   "cell_type": "markdown",
   "metadata": {},
   "source": [
    "Need of data:\n",
    "    \n",
    "1. Need the healthcare data of people for above  all this methods\n",
    "- methood 2 :Our grandfather grandfather's were using the organic farming and their life span was 100 years without any diieses like bp, sugar)\n",
    "- method 1: This is our fathers generation . Our father's generation lifespan is limited to 60-80 years. because of use of more toxic in food products)\n",
    "- method 3 : The  productivity using the AI technology is 9times greater than the normal one. But the health of the product is also the important topic\n",
    "    \n"
   ]
  },
  {
   "cell_type": "markdown",
   "metadata": {},
   "source": [
    "### At last:\n",
    "- Aim is to see the Health statistics  on the above 4 different methods of farming and show the future of the AI technology and health care assiciated with it.\n",
    "- Too recommend the use of organic farming wihout any toxic things in the crop"
   ]
  },
  {
   "cell_type": "code",
   "execution_count": null,
   "metadata": {},
   "outputs": [],
   "source": []
  }
 ],
 "metadata": {
  "kernelspec": {
   "display_name": "Python 3",
   "language": "python",
   "name": "python3"
  },
  "language_info": {
   "codemirror_mode": {
    "name": "ipython",
    "version": 3
   },
   "file_extension": ".py",
   "mimetype": "text/x-python",
   "name": "python",
   "nbconvert_exporter": "python",
   "pygments_lexer": "ipython3",
   "version": "3.8.3"
  }
 },
 "nbformat": 4,
 "nbformat_minor": 4
}
