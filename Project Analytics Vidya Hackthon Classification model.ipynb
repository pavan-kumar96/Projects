{
 "cells": [
  {
   "cell_type": "code",
   "execution_count": 25,
   "metadata": {},
   "outputs": [],
   "source": [
    "import pandas as pd\n",
    "from lightgbm import LGBMClassifier \n",
    "from sklearn.tree import DecisionTreeClassifier\n",
    "from sklearn.preprocessing import MinMaxScaler\n",
    "import random\n",
    "from sklearn.metrics import accuracy_score, f1_score, confusion_matrix\n",
    "from sklearn.model_selection import KFold, StratifiedKFold\n",
    "from xgboost import XGBClassifier\n",
    "from catboost import CatBoostClassifier\n",
    "from sklearn.linear_model import LogisticRegression\n",
    "from sklearn.ensemble import RandomForestClassifier\n",
    "from sklearn.preprocessing import OrdinalEncoder\n",
    "from sklearn.model_selection import train_test_split"
   ]
  },
  {
   "cell_type": "markdown",
   "metadata": {},
   "source": [
    "#### Function for downloading the submission file"
   ]
  },
  {
   "cell_type": "code",
   "execution_count": 84,
   "metadata": {},
   "outputs": [],
   "source": [
    "\n",
    "def download_file(predict_data, file_name= 'analytics_vidya_hackthon_sub'):\n",
    "    sample['term_deposit_subscribed'] = predict_data\n",
    "    predict_csv = sample.to_csv()\n",
    "    fp = open(file_name, 'w')\n",
    "    fp.write(predict_csv)\n",
    "    fp.close()"
   ]
  },
  {
   "cell_type": "markdown",
   "metadata": {},
   "source": [
    "#### Reading the data"
   ]
  },
  {
   "cell_type": "code",
   "execution_count": 3,
   "metadata": {},
   "outputs": [],
   "source": [
    "train = pd.read_csv('hack_anal.csv')\n",
    "test = pd.read_csv('hack_test.csv')"
   ]
  },
  {
   "cell_type": "code",
   "execution_count": 83,
   "metadata": {},
   "outputs": [],
   "source": [
    "sample = pd.read_csv('sample.csv')\n",
    "sample.set_index('id', inplace = True)"
   ]
  },
  {
   "cell_type": "code",
   "execution_count": 5,
   "metadata": {},
   "outputs": [],
   "source": [
    "### Handling  missing values for train_data\n",
    "train.days_since_prev_campaign_contact.fillna(0, inplace = True)\n",
    "train.customer_age.fillna(random.randrange(19,90), inplace = True)\n",
    "train.marital.fillna('single', inplace = True)\n",
    "train.balance.fillna(train.balance.mean(), inplace = True)\n",
    "### Trying with adding the new data in the column\n",
    "train.personal_loan.fillna('NA', inplace  = True)\n",
    "train.last_contact_duration.fillna(0, inplace = True)\n",
    "train.num_contacts_in_campaign.fillna(0, inplace = True)"
   ]
  },
  {
   "cell_type": "code",
   "execution_count": 6,
   "metadata": {},
   "outputs": [],
   "source": [
    "#Handling the missing values in the test_data\n",
    "test.days_since_prev_campaign_contact.fillna(0, inplace = True)\n",
    "test.customer_age.fillna(random.randrange(19,90), inplace = True)\n",
    "test.marital.fillna('single', inplace = True)\n",
    "test.balance.fillna(test.balance.mean(), inplace = True)\n",
    "### Trying with adding the new data in the column\n",
    "test.personal_loan.fillna('NA', inplace  = True)\n",
    "test.last_contact_duration.fillna(0, inplace = True)\n",
    "test.num_contacts_in_campaign.fillna(0, inplace = True)"
   ]
  },
  {
   "cell_type": "markdown",
   "metadata": {},
   "source": [
    "#### Converting the catgorical values into numerical values`"
   ]
  },
  {
   "cell_type": "code",
   "execution_count": 7,
   "metadata": {},
   "outputs": [
    {
     "name": "stderr",
     "output_type": "stream",
     "text": [
      "/home/paramathma/anaconda3/lib/python3.8/site-packages/pandas/core/frame.py:3990: SettingWithCopyWarning: \n",
      "A value is trying to be set on a copy of a slice from a DataFrame\n",
      "\n",
      "See the caveats in the documentation: https://pandas.pydata.org/pandas-docs/stable/user_guide/indexing.html#returning-a-view-versus-a-copy\n",
      "  return super().drop(\n",
      "/home/paramathma/anaconda3/lib/python3.8/site-packages/pandas/core/frame.py:3990: SettingWithCopyWarning: \n",
      "A value is trying to be set on a copy of a slice from a DataFrame\n",
      "\n",
      "See the caveats in the documentation: https://pandas.pydata.org/pandas-docs/stable/user_guide/indexing.html#returning-a-view-versus-a-copy\n",
      "  return super().drop(\n"
     ]
    }
   ],
   "source": [
    "oe = OrdinalEncoder()\n",
    "### test_data  -- ordinal encoding\n",
    "cat_test = test.select_dtypes(include= 'O')\n",
    "cat_test.drop(columns = ['id'], inplace = True)\n",
    "test[cat_test.columns] = oe.fit_transform(cat_test)\n",
    "\n",
    "### train_data -- ordinal encoding\n",
    "cat_train = train.select_dtypes(include= 'O')\n",
    "cat_train.drop(columns = ['id'], inplace = True)\n",
    "train[cat_train.columns] = oe.fit_transform(cat_train)"
   ]
  },
  {
   "cell_type": "markdown",
   "metadata": {},
   "source": [
    "### Base line model"
   ]
  },
  {
   "cell_type": "code",
   "execution_count": 115,
   "metadata": {},
   "outputs": [],
   "source": [
    "features = train.drop(columns = ['id', 'term_deposit_subscribed'])\n",
    "trainX, testX, trainY, testY = train_test_split(features, train.term_deposit_subscribed)"
   ]
  },
  {
   "cell_type": "code",
   "execution_count": 9,
   "metadata": {},
   "outputs": [
    {
     "name": "stdout",
     "output_type": "stream",
     "text": [
      "f1_score 0.5353260869565217\n"
     ]
    }
   ],
   "source": [
    "re = RandomForestClassifier()\n",
    "re.fit(trainX, trainY)\n",
    "print('f1_score',f1_score(y_pred=re.predict(testX), y_true = testY))\n"
   ]
  },
  {
   "cell_type": "code",
   "execution_count": 10,
   "metadata": {},
   "outputs": [],
   "source": [
    "### Downloading the prediction_file\n",
    "predict_data = re.predict(test.drop(columns =  ['id']))\n",
    "download_file(predict_data)"
   ]
  },
  {
   "cell_type": "code",
   "execution_count": 11,
   "metadata": {},
   "outputs": [
    {
     "name": "stdout",
     "output_type": "stream",
     "text": [
      "f1_score 0.5019965772960638\n"
     ]
    }
   ],
   "source": [
    "### Try with the Decisiontree\n",
    "de = DecisionTreeClassifier()\n",
    "de.fit(trainX, trainY)\n",
    "print('f1_score',f1_score(y_pred=de.predict(testX), y_true = testY))"
   ]
  },
  {
   "cell_type": "markdown",
   "metadata": {},
   "source": [
    "### Hyperparameter tuning"
   ]
  },
  {
   "cell_type": "code",
   "execution_count": 12,
   "metadata": {},
   "outputs": [],
   "source": [
    "parms = {\n",
    "    'n_estimators': [50,100, 150, 200, 300, 400, 500],\n",
    "    'max_depth': [4, 6, 8, 10, 12],\n",
    "    'criterion': ['gini', 'entropy'],\n",
    "    'min_samples_split': [2, 10, 20, 30, 40],\n",
    "    'max_features': [0.2, 0.4, 0.6, 0.8, 1],\n",
    "    'max_leaf_nodes': [8, 16, 32, 64, 128],\n",
    "    'class_weight': [{0: 1, 1: 1}, {0: 1, 1: 2}, {0: 1, 1: 3}, {0: 1, 1: 4}, {0: 1, 1: 5}]\n",
    "}\n"
   ]
  },
  {
   "cell_type": "code",
   "execution_count": 13,
   "metadata": {},
   "outputs": [
    {
     "data": {
      "text/plain": [
       "{'n_estimators': 100,\n",
       " 'min_samples_split': 40,\n",
       " 'max_leaf_nodes': 64,\n",
       " 'max_features': 0.6,\n",
       " 'max_depth': 10,\n",
       " 'criterion': 'gini',\n",
       " 'class_weight': {0: 1, 1: 3}}"
      ]
     },
     "execution_count": 13,
     "metadata": {},
     "output_type": "execute_result"
    }
   ],
   "source": [
    "### For Random forest\n",
    "from sklearn.model_selection import RandomizedSearchCV\n",
    "rv = RandomizedSearchCV(estimator=RandomForestClassifier(), param_distributions= parms, random_state=1)\n",
    "rv.fit(trainX, trainY)\n",
    "rv.best_params_\n"
   ]
  },
  {
   "cell_type": "code",
   "execution_count": 119,
   "metadata": {},
   "outputs": [
    {
     "data": {
      "text/plain": [
       "RandomForestClassifier(class_weight={0: 1, 1: 3}, max_depth=10,\n",
       "                       max_features=0.6, max_leaf_nodes=64,\n",
       "                       min_samples_split=40, random_state=1)"
      ]
     },
     "execution_count": 119,
     "metadata": {},
     "output_type": "execute_result"
    }
   ],
   "source": [
    "params =  {'n_estimators': 100,\n",
    " 'min_samples_split': 40,\n",
    " 'max_leaf_nodes': 64,\n",
    " 'max_features': 0.6,\n",
    " 'max_depth': 10,\n",
    " 'criterion': 'gini',\n",
    " 'class_weight': {0: 1, 1: 3}}\n",
    "re = RandomForestClassifier(random_state=1, **params)\n",
    "re.fit(trainX, trainY)"
   ]
  },
  {
   "cell_type": "code",
   "execution_count": 120,
   "metadata": {},
   "outputs": [
    {
     "data": {
      "text/plain": [
       "0.903690596562184"
      ]
     },
     "execution_count": 120,
     "metadata": {},
     "output_type": "execute_result"
    }
   ],
   "source": [
    "re.score(testX, testY)"
   ]
  },
  {
   "cell_type": "code",
   "execution_count": 121,
   "metadata": {},
   "outputs": [
    {
     "data": {
      "text/plain": [
       "0.6279296875000001"
      ]
     },
     "execution_count": 121,
     "metadata": {},
     "output_type": "execute_result"
    }
   ],
   "source": [
    "f1_score(re.predict(testX), testY)"
   ]
  },
  {
   "cell_type": "code",
   "execution_count": 14,
   "metadata": {},
   "outputs": [],
   "source": [
    "### Downloading the prediction_file\n",
    "predict_data = re.predict(test.drop(columns =  ['id']))\n",
    "download_file(predict_data, file_name = 'analytics_vidya_hackthon_sub1')"
   ]
  },
  {
   "cell_type": "code",
   "execution_count": 15,
   "metadata": {},
   "outputs": [],
   "source": [
    "target = train.term_deposit_subscribed\n",
    "target_column = 'term_deposit_subscribed'"
   ]
  },
  {
   "cell_type": "code",
   "execution_count": 16,
   "metadata": {},
   "outputs": [],
   "source": [
    "import numpy as np\n",
    "from sklearn.preprocessing import StandardScaler"
   ]
  },
  {
   "cell_type": "code",
   "execution_count": null,
   "metadata": {},
   "outputs": [],
   "source": [
    "pred_values = pred_val\n",
    "download_file(pred_values, file_name= 'analytics_vidya_hackthon_sub2')"
   ]
  },
  {
   "cell_type": "code",
   "execution_count": 92,
   "metadata": {},
   "outputs": [],
   "source": [
    "def run_clf(clf, train, test, features):\n",
    "    oops = np.zeros(len(train))\n",
    "    preds = np.zeros(len(test))\n",
    "    n_splits = 5\n",
    "    folds = StratifiedKFold(n_splits= n_splits)\n",
    "    for folds_, (train_index, val_index) in enumerate (folds.split(train, train[TARGET_COL])):\n",
    "        trainX, trainY = train[features.columns].iloc[train_index], target.iloc[train_index]\n",
    "        testX, testY = train[features.columns].iloc[val_index], target.iloc[val_index]\n",
    "        X_test = test[features.columns]\n",
    "    \n",
    "        _ = clf.fit(trainX, trainY)\n",
    "        \n",
    "        f1score = f1_score(testY,clf.predict(testX))\n",
    "        \n",
    "        print('f1 score on validation test', f1score)\n",
    "        val_predicts = clf.predict_proba(testX)[:,1]\n",
    "        test_predicts= clf.predict_proba(test[features.columns])[:,1]\n",
    "        \n",
    "        oops[val_index] = val_predicts\n",
    "        preds += test_predicts/n_splits\n",
    "        \n",
    "    oops_score = f1_score(target, oops.round())\n",
    "    print('oops f1-score', oops_score)\n",
    "    \n",
    "    return oops , preds\n",
    "    \n",
    "    \n",
    "    \n",
    "    "
   ]
  },
  {
   "cell_type": "code",
   "execution_count": 62,
   "metadata": {},
   "outputs": [
    {
     "name": "stdout",
     "output_type": "stream",
     "text": [
      "f1 score on validation test 0.5508253692441355\n",
      "f1 score on validation test 0.5543006081668115\n",
      "f1 score on validation test 0.5026642984014209\n",
      "f1 score on validation test 0.5376532399299475\n",
      "f1 score on validation test 0.49506726457399114\n",
      "oops f1-score 0.5284080914687775\n"
     ]
    },
    {
     "data": {
      "text/plain": [
       "(array([0.  , 0.09, 0.  , ..., 0.  , 0.02, 0.01]),\n",
       " array([0.   , 0.002, 0.006, ..., 0.   , 0.   , 0.002]))"
      ]
     },
     "execution_count": 62,
     "metadata": {},
     "output_type": "execute_result"
    }
   ],
   "source": [
    "### Random forest algo\n",
    "run_clf(re, train, test, features)"
   ]
  },
  {
   "cell_type": "code",
   "execution_count": 63,
   "metadata": {},
   "outputs": [
    {
     "name": "stdout",
     "output_type": "stream",
     "text": [
      "f1 score on validation test 0.5835411471321696\n",
      "f1 score on validation test 0.5891980360065466\n",
      "f1 score on validation test 0.5602605863192183\n",
      "f1 score on validation test 0.5730994152046783\n",
      "f1 score on validation test 0.5454545454545454\n",
      "oops f1-score 0.5703875455448824\n"
     ]
    }
   ],
   "source": [
    "lr = LGBMClassifier()\n",
    "TARGET_COL = 'term_deposit_subscribed'\n",
    "target = train[TARGET_COL]\n",
    "oofs_val, pred_val = run_clf(lr, train, test, features)"
   ]
  },
  {
   "cell_type": "code",
   "execution_count": 36,
   "metadata": {},
   "outputs": [
    {
     "name": "stdout",
     "output_type": "stream",
     "text": [
      "f1 score on validation test 0.5835411471321696\n",
      "f1 score on validation test 0.5891980360065466\n",
      "f1 score on validation test 0.5602605863192183\n",
      "f1 score on validation test 0.5730994152046783\n",
      "f1 score on validation test 0.5454545454545454\n",
      "oops f1-score 0.5703875455448824\n"
     ]
    }
   ],
   "source": [
    "lg_oops, lg_pred = run_clf(lr, train, test, features)"
   ]
  },
  {
   "cell_type": "code",
   "execution_count": 71,
   "metadata": {},
   "outputs": [],
   "source": [
    "import matplotlib.pyplot as plt\n",
    "%matplotlib inline"
   ]
  },
  {
   "cell_type": "code",
   "execution_count": 72,
   "metadata": {},
   "outputs": [],
   "source": [
    "def get_optimal_f1thresold(target, oops):\n",
    "    threshold = np.arange(0,100)/100\n",
    "    threshold_score= []\n",
    "    for thre in threshold:\n",
    "        oops_rounded = (oops>thre)*1\n",
    "        f1score = f1_score(target, oops_rounded)\n",
    "        threshold_score.append(f1score)\n",
    "    optimal_thre = pd.Series(data=threshold_score, index= threshold)\n",
    "    optimal_thre.plot(figsize=(10, 6), fontsize=14)\n",
    "  \n",
    "    plt.xlabel('Threshold', fontsize=14)\n",
    "    plt.ylabel('F1 Score', fontsize=14)\n",
    "    return optimal_thre.sort_values(ascending=False)[0]"
   ]
  },
  {
   "cell_type": "code",
   "execution_count": null,
   "metadata": {},
   "outputs": [],
   "source": []
  },
  {
   "cell_type": "code",
   "execution_count": 93,
   "metadata": {},
   "outputs": [
    {
     "name": "stdout",
     "output_type": "stream",
     "text": [
      "f1 score on validation test 0.5835411471321696\n",
      "f1 score on validation test 0.5891980360065466\n",
      "f1 score on validation test 0.5602605863192183\n",
      "f1 score on validation test 0.5730994152046783\n",
      "f1 score on validation test 0.5454545454545454\n",
      "oops f1-score 0.5703875455448824\n",
      "0.6363040629095674\n"
     ]
    },
    {
     "data": {
      "image/png": "[encoded data removed]",
      "text/plain": [
       "<Figure size 720x432 with 1 Axes>"
      ]
     },
     "metadata": {
      "needs_background": "light"
     },
     "output_type": "display_data"
    }
   ],
   "source": [
    "oops , preed_val = run_clf(lr, train, test, features)\n",
    "optimal_value = get_optimal_f1thresold(target,oops)\n",
    "print(f1_score(target, (oops>optimal_value)*1))"
   ]
  },
  {
   "cell_type": "code",
   "execution_count": 97,
   "metadata": {},
   "outputs": [],
   "source": [
    "pred_val = (preed_val>optimal_value)*1\n",
    "download_file(pred_val, file_name='analytics_vidya_hackthon_sub7.csv')"
   ]
  },
  {
   "cell_type": "markdown",
   "metadata": {},
   "source": [
    "### **Tuning LightGBM**\n",
    "\n",
    "* Early Stopping: Stopping the model training, when the model starts to overfit\n",
    "  * How do we know if model is overfitting ?\n",
    "* HyperParameter Optimization.\n",
    "  * Is random search the best way to go ?"
   ]
  },
  {
   "cell_type": "markdown",
   "metadata": {},
   "source": [
    "**Simple Function to Run Gradient Boosting**\n",
    "\n",
    "Let's make a simple function to call gradient boosting and get our oofs and predictions. Rather than copying and pasting the same code again and again/"
   ]
  },
  {
   "cell_type": "code",
   "execution_count": 111,
   "metadata": {},
   "outputs": [],
   "source": [
    "def run_gradient_boosting(clf, fit_params, train, test, features):\n",
    "    N_SPLITS = 5\n",
    "    oofs = np.zeros(len(train))\n",
    "    preds = np.zeros((len(test)))\n",
    "\n",
    "    folds = StratifiedKFold(n_splits = N_SPLITS)\n",
    "\n",
    "    for fold_, (trn_idx, val_idx) in enumerate(folds.split(train, train[TARGET_COL])):\n",
    "        print(f'\\n------------- Fold {fold_ + 1} -------------')\n",
    "\n",
    "        ### Training Set\n",
    "        X_trn, y_trn = train[features.columns].iloc[trn_idx], target.iloc[trn_idx]\n",
    "\n",
    "        ### Validation Set\n",
    "        X_val, y_val = train[features.columns].iloc[val_idx], target.iloc[val_idx]\n",
    "\n",
    "        ### Test Set\n",
    "        X_test = test[features.columns]\n",
    "\n",
    "        scaler = StandardScaler()\n",
    "        _ = scaler.fit(X_trn)\n",
    "\n",
    "        X_trn = scaler.transform(X_trn)\n",
    "        X_val = scaler.transform(X_val)\n",
    "        X_test = scaler.transform(X_test)\n",
    "\n",
    "        _ = clf.fit(X_trn, y_trn, eval_set = [(X_val, y_val)], **fit_params)\n",
    "\n",
    "        ### Instead of directly predicting the classes we will obtain the probability of positive class.\n",
    "        preds_val = clf.predict_proba(X_val)[:, 1]\n",
    "        preds_test = clf.predict_proba(X_test)[:, 1]\n",
    "\n",
    "        fold_score = f1_score(y_val, preds_val.round())\n",
    "        print(f'\\nF1 score for validation set is {fold_score}')\n",
    "\n",
    "        oofs[val_idx] = preds_val\n",
    "        preds += preds_test / N_SPLITS\n",
    "\n",
    "\n",
    "    oofs_score = f1_score(target, oofs.round())\n",
    "    print(f'\\n\\nF1 score for oofs is {oofs_score}')\n",
    "\n",
    "    return oofs, preds"
   ]
  },
  {
   "cell_type": "code",
   "execution_count": 112,
   "metadata": {},
   "outputs": [
    {
     "name": "stdout",
     "output_type": "stream",
     "text": [
      "\n",
      "------------- Fold 1 -------------\n",
      "Training until validation scores don't improve for 400 rounds\n",
      "[200]\tvalid_0's binary_logloss: 0.217906\n",
      "[400]\tvalid_0's binary_logloss: 0.193036\n",
      "[600]\tvalid_0's binary_logloss: 0.183353\n",
      "[800]\tvalid_0's binary_logloss: 0.179436\n",
      "[1000]\tvalid_0's binary_logloss: 0.177502\n",
      "[1200]\tvalid_0's binary_logloss: 0.176647\n",
      "[1400]\tvalid_0's binary_logloss: 0.176237\n",
      "[1600]\tvalid_0's binary_logloss: 0.175989\n",
      "[1800]\tvalid_0's binary_logloss: 0.175874\n",
      "[2000]\tvalid_0's binary_logloss: 0.176054\n",
      "Early stopping, best iteration is:\n",
      "[1740]\tvalid_0's binary_logloss: 0.175831\n",
      "\n",
      "F1 score for validation set is 0.5719148936170213\n",
      "\n",
      "------------- Fold 2 -------------\n",
      "Training until validation scores don't improve for 400 rounds\n",
      "[200]\tvalid_0's binary_logloss: 0.217925\n",
      "[400]\tvalid_0's binary_logloss: 0.192572\n",
      "[600]\tvalid_0's binary_logloss: 0.182683\n",
      "[800]\tvalid_0's binary_logloss: 0.178457\n",
      "[1000]\tvalid_0's binary_logloss: 0.176641\n",
      "[1200]\tvalid_0's binary_logloss: 0.175246\n",
      "[1400]\tvalid_0's binary_logloss: 0.174741\n",
      "[1600]\tvalid_0's binary_logloss: 0.174542\n",
      "[1800]\tvalid_0's binary_logloss: 0.174653\n",
      "[2000]\tvalid_0's binary_logloss: 0.174827\n",
      "Early stopping, best iteration is:\n",
      "[1633]\tvalid_0's binary_logloss: 0.174488\n",
      "\n",
      "F1 score for validation set is 0.5631399317406144\n",
      "\n",
      "------------- Fold 3 -------------\n",
      "Training until validation scores don't improve for 400 rounds\n",
      "[200]\tvalid_0's binary_logloss: 0.220255\n",
      "[400]\tvalid_0's binary_logloss: 0.196271\n",
      "[600]\tvalid_0's binary_logloss: 0.18707\n",
      "[800]\tvalid_0's binary_logloss: 0.182799\n",
      "[1000]\tvalid_0's binary_logloss: 0.180892\n",
      "[1200]\tvalid_0's binary_logloss: 0.179932\n",
      "[1400]\tvalid_0's binary_logloss: 0.179729\n",
      "[1600]\tvalid_0's binary_logloss: 0.179995\n",
      "Early stopping, best iteration is:\n",
      "[1320]\tvalid_0's binary_logloss: 0.179631\n",
      "\n",
      "F1 score for validation set is 0.5142364106988784\n",
      "\n",
      "------------- Fold 4 -------------\n",
      "Training until validation scores don't improve for 400 rounds\n",
      "[200]\tvalid_0's binary_logloss: 0.2184\n",
      "[400]\tvalid_0's binary_logloss: 0.194786\n",
      "[600]\tvalid_0's binary_logloss: 0.185434\n",
      "[800]\tvalid_0's binary_logloss: 0.181485\n",
      "[1000]\tvalid_0's binary_logloss: 0.179813\n",
      "[1200]\tvalid_0's binary_logloss: 0.179104\n",
      "[1400]\tvalid_0's binary_logloss: 0.178664\n",
      "[1600]\tvalid_0's binary_logloss: 0.178581\n",
      "[1800]\tvalid_0's binary_logloss: 0.178765\n",
      "Early stopping, best iteration is:\n",
      "[1540]\tvalid_0's binary_logloss: 0.178534\n",
      "\n",
      "F1 score for validation set is 0.5406824146981628\n",
      "\n",
      "------------- Fold 5 -------------\n",
      "Training until validation scores don't improve for 400 rounds\n",
      "[200]\tvalid_0's binary_logloss: 0.221537\n",
      "[400]\tvalid_0's binary_logloss: 0.197796\n",
      "[600]\tvalid_0's binary_logloss: 0.189078\n",
      "[800]\tvalid_0's binary_logloss: 0.186063\n",
      "[1000]\tvalid_0's binary_logloss: 0.184653\n",
      "[1200]\tvalid_0's binary_logloss: 0.184174\n",
      "[1400]\tvalid_0's binary_logloss: 0.183899\n",
      "[1600]\tvalid_0's binary_logloss: 0.183972\n",
      "[1800]\tvalid_0's binary_logloss: 0.184141\n",
      "Early stopping, best iteration is:\n",
      "[1523]\tvalid_0's binary_logloss: 0.183851\n",
      "\n",
      "F1 score for validation set is 0.5271317829457365\n",
      "\n",
      "\n",
      "F1 score for oofs is 0.5435456110154906\n",
      "Optimal threhold is 0.19371593276447588\n",
      "Optimized F1 is 0.6294632831798788\n"
     ]
    },
    {
     "data": {
      "image/png": "[encoded data removed]",
      "text/plain": [
       "<Figure size 720x432 with 1 Axes>"
      ]
     },
     "metadata": {
      "needs_background": "light"
     },
     "output_type": "display_data"
    }
   ],
   "source": [
    "clf = LGBMClassifier(n_estimators = 3000,\n",
    "                        learning_rate = 0.01,\n",
    "                        colsample_bytree = 0.38,\n",
    "                        reg_alpha = 1,\n",
    "                        reg_lambda = 1,\n",
    "                        )\n",
    "fit_params = {'verbose': 200, 'early_stopping_rounds': 400}\n",
    "lgb_oofs, lgb_preds = run_gradient_boosting(clf, fit_params, train, test, features)\n",
    "\n",
    "optimal_thresh = get_optimal_f1thresold(target, lgb_oofs)\n",
    "print(f'Optimal threhold is {optimal_thresh}')\n",
    "optimized_f1 = f1_score(target, (lgb_oofs > optimal_thresh) * 1)\n",
    "print(f'Optimized F1 is {optimized_f1}')"
   ]
  }
 ],
 "metadata": {
  "kernelspec": {
   "display_name": "Python 3",
   "language": "python",
   "name": "python3"
  },
  "language_info": {
   "codemirror_mode": {
    "name": "ipython",
    "version": 3
   },
   "file_extension": ".py",
   "mimetype": "text/x-python",
   "name": "python",
   "nbconvert_exporter": "python",
   "pygments_lexer": "ipython3",
   "version": "3.8.3"
  }
 },
 "nbformat": 4,
 "nbformat_minor": 4
}
