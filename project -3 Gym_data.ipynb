{
 "cells": [
  {
   "cell_type": "code",
   "execution_count": 215,
   "metadata": {},
   "outputs": [],
   "source": [
    "import pandas as pd\n",
    "import numpy as np"
   ]
  },
  {
   "cell_type": "code",
   "execution_count": 216,
   "metadata": {},
   "outputs": [],
   "source": [
    "data = pd.read_csv('gym_data.csv')"
   ]
  },
  {
   "cell_type": "code",
   "execution_count": 217,
   "metadata": {},
   "outputs": [],
   "source": [
    "data.drop(columns = ['Unnamed: 25','User'],inplace = True)"
   ]
  },
  {
   "cell_type": "code",
   "execution_count": 218,
   "metadata": {},
   "outputs": [
    {
     "name": "stderr",
     "output_type": "stream",
     "text": [
      "C:\\ProgramData\\Anaconda3\\lib\\site-packages\\ipykernel_launcher.py:1: SettingWithCopyWarning: \n",
      "A value is trying to be set on a copy of a slice from a DataFrame\n",
      "\n",
      "See the caveats in the documentation: http://pandas.pydata.org/pandas-docs/stable/user_guide/indexing.html#returning-a-view-versus-a-copy\n",
      "  \"\"\"Entry point for launching an IPython kernel.\n"
     ]
    }
   ],
   "source": [
    "data['Category 11'][2712]= 2"
   ]
  },
  {
   "cell_type": "code",
   "execution_count": 219,
   "metadata": {
    "scrolled": true
   },
   "outputs": [],
   "source": [
    "data['Category 11'] = pd.to_numeric(data['Category 11'])"
   ]
  },
  {
   "cell_type": "code",
   "execution_count": 220,
   "metadata": {},
   "outputs": [
    {
     "name": "stdout",
     "output_type": "stream",
     "text": [
      "<class 'pandas.core.frame.DataFrame'>\n",
      "RangeIndex: 5456 entries, 0 to 5455\n",
      "Data columns (total 24 columns):\n",
      "Category 1     5456 non-null float64\n",
      "Category 2     5456 non-null float64\n",
      "Category 3     5456 non-null float64\n",
      "Category 4     5456 non-null float64\n",
      "Category 5     5456 non-null float64\n",
      "Category 6     5456 non-null float64\n",
      "Category 7     5456 non-null float64\n",
      "Category 8     5456 non-null float64\n",
      "Category 9     5456 non-null float64\n",
      "Category 10    5456 non-null float64\n",
      "Category 11    5456 non-null float64\n",
      "Category 12    5455 non-null float64\n",
      "Category 13    5456 non-null float64\n",
      "Category 14    5456 non-null float64\n",
      "Category 15    5456 non-null float64\n",
      "Category 16    5456 non-null float64\n",
      "Category 17    5456 non-null float64\n",
      "Category 18    5456 non-null float64\n",
      "Category 19    5456 non-null float64\n",
      "Category 20    5456 non-null float64\n",
      "Category 21    5456 non-null float64\n",
      "Category 22    5456 non-null float64\n",
      "Category 23    5456 non-null float64\n",
      "Category 24    5455 non-null float64\n",
      "dtypes: float64(24)\n",
      "memory usage: 1023.1 KB\n"
     ]
    }
   ],
   "source": [
    "data.info()"
   ]
  },
  {
   "cell_type": "code",
   "execution_count": 221,
   "metadata": {},
   "outputs": [],
   "source": [
    "data['averge'] =np.round((data.sum(axis = 1))/(len(data.columns)),1)"
   ]
  },
  {
   "cell_type": "markdown",
   "metadata": {},
   "source": [
    "### By considering  the mean of all categories as the satisfaction level for joining or taking the gym membership we are preparing the model based on this condition"
   ]
  },
  {
   "cell_type": "code",
   "execution_count": 222,
   "metadata": {},
   "outputs": [],
   "source": [
    "data['membership'] = data.averge.map(lambda d: \"Yes\" if d > data.averge.mean() else \"No\")"
   ]
  },
  {
   "cell_type": "markdown",
   "metadata": {},
   "source": [
    "### Base line model without pipeline and any parameter tuning"
   ]
  },
  {
   "cell_type": "code",
   "execution_count": 223,
   "metadata": {},
   "outputs": [],
   "source": [
    "from sklearn.model_selection import train_test_split"
   ]
  },
  {
   "cell_type": "code",
   "execution_count": 224,
   "metadata": {},
   "outputs": [],
   "source": [
    "from sklearn.preprocessing import LabelEncoder"
   ]
  },
  {
   "cell_type": "code",
   "execution_count": 225,
   "metadata": {},
   "outputs": [],
   "source": [
    "data['membership_data'] = LabelEncoder().fit_transform(target_data)"
   ]
  },
  {
   "cell_type": "code",
   "execution_count": 226,
   "metadata": {},
   "outputs": [
    {
     "data": {
      "text/plain": [
       "Index(['Category 1', 'Category 2', 'Category 3', 'Category 4', 'Category 5',\n",
       "       'Category 6', 'Category 7', 'Category 8', 'Category 9', 'Category 10',\n",
       "       'Category 11', 'Category 12', 'Category 13', 'Category 14',\n",
       "       'Category 15', 'Category 16', 'Category 17', 'Category 18',\n",
       "       'Category 19', 'Category 20', 'Category 21', 'Category 22',\n",
       "       'Category 23', 'Category 24', 'averge', 'membership',\n",
       "       'membership_data'],\n",
       "      dtype='object')"
      ]
     },
     "execution_count": 226,
     "metadata": {},
     "output_type": "execute_result"
    }
   ],
   "source": [
    "data.columns"
   ]
  },
  {
   "cell_type": "code",
   "execution_count": 227,
   "metadata": {},
   "outputs": [],
   "source": [
    "feature_data =  data.drop(columns = ['membership','membership_data','averge'])"
   ]
  },
  {
   "cell_type": "code",
   "execution_count": 243,
   "metadata": {},
   "outputs": [],
   "source": [
    "feature_data.fillna(data.averge.mean(),inplace = True)"
   ]
  },
  {
   "cell_type": "code",
   "execution_count": 245,
   "metadata": {},
   "outputs": [],
   "source": [
    "target_data  = data.membership_data"
   ]
  },
  {
   "cell_type": "code",
   "execution_count": 246,
   "metadata": {},
   "outputs": [],
   "source": [
    "trainX, testX, trainY, testY = train_test_split(feature_data, target_data)"
   ]
  },
  {
   "cell_type": "code",
   "execution_count": 247,
   "metadata": {},
   "outputs": [],
   "source": [
    "from sklearn.linear_model import LinearRegression\n",
    "from sklearn.linear_model import LogisticRegression\n",
    "from sklearn.tree import DecisionTreeClassifier\n",
    "from sklearn.naive_bayes import GaussianNB\n",
    "from sklearn.ensemble import RandomForestClassifier\n",
    "from xgboost import XGBClassifier"
   ]
  },
  {
   "cell_type": "code",
   "execution_count": 248,
   "metadata": {},
   "outputs": [
    {
     "name": "stdout",
     "output_type": "stream",
     "text": [
      "<class 'pandas.core.frame.DataFrame'>\n",
      "RangeIndex: 5456 entries, 0 to 5455\n",
      "Data columns (total 24 columns):\n",
      "Category 1     5456 non-null float64\n",
      "Category 2     5456 non-null float64\n",
      "Category 3     5456 non-null float64\n",
      "Category 4     5456 non-null float64\n",
      "Category 5     5456 non-null float64\n",
      "Category 6     5456 non-null float64\n",
      "Category 7     5456 non-null float64\n",
      "Category 8     5456 non-null float64\n",
      "Category 9     5456 non-null float64\n",
      "Category 10    5456 non-null float64\n",
      "Category 11    5456 non-null float64\n",
      "Category 12    5456 non-null float64\n",
      "Category 13    5456 non-null float64\n",
      "Category 14    5456 non-null float64\n",
      "Category 15    5456 non-null float64\n",
      "Category 16    5456 non-null float64\n",
      "Category 17    5456 non-null float64\n",
      "Category 18    5456 non-null float64\n",
      "Category 19    5456 non-null float64\n",
      "Category 20    5456 non-null float64\n",
      "Category 21    5456 non-null float64\n",
      "Category 22    5456 non-null float64\n",
      "Category 23    5456 non-null float64\n",
      "Category 24    5456 non-null float64\n",
      "dtypes: float64(24)\n",
      "memory usage: 1023.1 KB\n"
     ]
    }
   ],
   "source": [
    "feature_data.info()"
   ]
  },
  {
   "cell_type": "code",
   "execution_count": 249,
   "metadata": {},
   "outputs": [
    {
     "data": {
      "text/plain": [
       "Category 1     0\n",
       "Category 2     0\n",
       "Category 3     0\n",
       "Category 4     0\n",
       "Category 5     0\n",
       "Category 6     0\n",
       "Category 7     0\n",
       "Category 8     0\n",
       "Category 9     0\n",
       "Category 10    0\n",
       "Category 11    0\n",
       "Category 12    0\n",
       "Category 13    0\n",
       "Category 14    0\n",
       "Category 15    0\n",
       "Category 16    0\n",
       "Category 17    0\n",
       "Category 18    0\n",
       "Category 19    0\n",
       "Category 20    0\n",
       "Category 21    0\n",
       "Category 22    0\n",
       "Category 23    0\n",
       "Category 24    0\n",
       "dtype: int64"
      ]
     },
     "execution_count": 249,
     "metadata": {},
     "output_type": "execute_result"
    }
   ],
   "source": [
    "feature_data.isna().sum()"
   ]
  },
  {
   "cell_type": "code",
   "execution_count": 250,
   "metadata": {},
   "outputs": [
    {
     "name": "stdout",
     "output_type": "stream",
     "text": [
      "0.6351263454540195\n"
     ]
    },
    {
     "name": "stderr",
     "output_type": "stream",
     "text": [
      "C:\\ProgramData\\Anaconda3\\lib\\site-packages\\sklearn\\linear_model\\logistic.py:432: FutureWarning: Default solver will be changed to 'lbfgs' in 0.22. Specify a solver to silence this warning.\n",
      "  FutureWarning)\n"
     ]
    },
    {
     "name": "stdout",
     "output_type": "stream",
     "text": [
      "0.9714076246334311\n",
      "0.8357771260997068\n",
      "0.7265395894428153\n"
     ]
    },
    {
     "name": "stderr",
     "output_type": "stream",
     "text": [
      "C:\\ProgramData\\Anaconda3\\lib\\site-packages\\sklearn\\ensemble\\forest.py:245: FutureWarning: The default value of n_estimators will change from 10 in version 0.20 to 100 in 0.22.\n",
      "  \"10 in version 0.20 to 100 in 0.22.\", FutureWarning)\n"
     ]
    },
    {
     "name": "stdout",
     "output_type": "stream",
     "text": [
      "0.8673020527859238\n",
      "0.9288856304985337\n"
     ]
    }
   ],
   "source": [
    "names = ['linear_model','logistic_model','Decision_tree','Naive_bayes','randomforest','xgbclassifier']\n",
    "models =  [LinearRegression(),LogisticRegression(),DecisionTreeClassifier(),GaussianNB(),RandomForestClassifier(),XGBClassifier()]\n",
    "for name, estimator in zip(names, models):\n",
    "    estimator.fit(trainX,trainY)\n",
    "    print(estimator.score(testX,testY))"
   ]
  },
  {
   "cell_type": "markdown",
   "metadata": {},
   "source": [
    "### Feature_selection "
   ]
  },
  {
   "cell_type": "code",
   "execution_count": 268,
   "metadata": {},
   "outputs": [],
   "source": [
    "from sklearn.pipeline import make_pipeline\n",
    "from sklearn.impute import SimpleImputer\n",
    "from sklearn.feature_selection import f_classif, SelectKBest"
   ]
  },
  {
   "cell_type": "code",
   "execution_count": 259,
   "metadata": {},
   "outputs": [],
   "source": [
    "float_data = feature_data.select_dtypes(include = ['float'])"
   ]
  },
  {
   "cell_type": "code",
   "execution_count": 260,
   "metadata": {},
   "outputs": [],
   "source": [
    "int_data = feature_data.select_dtypes(include=['int64'])"
   ]
  },
  {
   "cell_type": "code",
   "execution_count": 261,
   "metadata": {},
   "outputs": [],
   "source": [
    "from sklearn.preprocessing import MinMaxScaler"
   ]
  },
  {
   "cell_type": "code",
   "execution_count": 263,
   "metadata": {},
   "outputs": [],
   "source": [
    "float_pipeline = make_pipeline(MinMaxScaler())\n",
    "int_pipeline = make_pipeline(MinMaxScaler())"
   ]
  },
  {
   "cell_type": "code",
   "execution_count": 264,
   "metadata": {},
   "outputs": [],
   "source": [
    "from sklearn.compose import make_column_transformer"
   ]
  },
  {
   "cell_type": "code",
   "execution_count": 266,
   "metadata": {},
   "outputs": [],
   "source": [
    "preprocessor = make_column_transformer(\n",
    "(int_pipeline, int_data.columns),(float_pipeline, float_data.columns), remainder = 'passthrough'\n",
    ")"
   ]
  },
  {
   "cell_type": "code",
   "execution_count": 267,
   "metadata": {},
   "outputs": [],
   "source": [
    "from sklearn.preprocessing import StandardScaler\n"
   ]
  },
  {
   "cell_type": "code",
   "execution_count": 270,
   "metadata": {},
   "outputs": [],
   "source": [
    "pipeline = make_pipeline(StandardScaler(), SelectKBest(k = 10, score_func = f_classif), RandomForestClassifier(n_estimators = 100))"
   ]
  },
  {
   "cell_type": "code",
   "execution_count": 273,
   "metadata": {},
   "outputs": [
    {
     "data": {
      "text/plain": [
       "Pipeline(memory=None,\n",
       "         steps=[('standardscaler',\n",
       "                 StandardScaler(copy=True, with_mean=True, with_std=True)),\n",
       "                ('selectkbest',\n",
       "                 SelectKBest(k=10,\n",
       "                             score_func=<function f_classif at 0x000000E1279ACCA8>)),\n",
       "                ('randomforestclassifier',\n",
       "                 RandomForestClassifier(bootstrap=True, class_weight=None,\n",
       "                                        criterion='gini', max_depth=None,\n",
       "                                        max_features='auto',\n",
       "                                        max_leaf_nodes=None,\n",
       "                                        min_impurity_decrease=0.0,\n",
       "                                        min_impurity_split=None,\n",
       "                                        min_samples_leaf=1, min_samples_split=2,\n",
       "                                        min_weight_fraction_leaf=0.0,\n",
       "                                        n_estimators=100, n_jobs=None,\n",
       "                                        oob_score=False, random_state=None,\n",
       "                                        verbose=0, warm_start=False))],\n",
       "         verbose=False)"
      ]
     },
     "execution_count": 273,
     "metadata": {},
     "output_type": "execute_result"
    }
   ],
   "source": [
    "pipeline.fit(trainX, trainY)"
   ]
  },
  {
   "cell_type": "code",
   "execution_count": 274,
   "metadata": {},
   "outputs": [
    {
     "data": {
      "text/plain": [
       "0.8570381231671554"
      ]
     },
     "execution_count": 274,
     "metadata": {},
     "output_type": "execute_result"
    }
   ],
   "source": [
    "pipeline.score(testX, testY)"
   ]
  },
  {
   "cell_type": "code",
   "execution_count": 277,
   "metadata": {},
   "outputs": [
    {
     "name": "stdout",
     "output_type": "stream",
     "text": [
      "linear_model 0.2742948743683077\n",
      "logistic_model 0.7280058651026393\n"
     ]
    },
    {
     "name": "stderr",
     "output_type": "stream",
     "text": [
      "C:\\ProgramData\\Anaconda3\\lib\\site-packages\\sklearn\\linear_model\\logistic.py:432: FutureWarning: Default solver will be changed to 'lbfgs' in 0.22. Specify a solver to silence this warning.\n",
      "  FutureWarning)\n"
     ]
    },
    {
     "name": "stdout",
     "output_type": "stream",
     "text": [
      "Decision_tree 0.7998533724340176\n",
      "Naive_bayes 0.6796187683284457\n",
      "randomforest 0.8658357771260997\n",
      "xgbclassifier 0.8548387096774194\n"
     ]
    }
   ],
   "source": [
    "names = ['linear_model','logistic_model','Decision_tree','Naive_bayes','randomforest','xgbclassifier']\n",
    "models =  [LinearRegression(),LogisticRegression(),DecisionTreeClassifier(),GaussianNB(),RandomForestClassifier(n_estimators= 100),XGBClassifier()]\n",
    "for name, estimator in zip(names, models):\n",
    "    pipeline = make_pipeline(StandardScaler(), SelectKBest(k = 10, score_func = f_classif), estimator)\n",
    "    pipeline.fit(trainX,trainY)\n",
    "    print(name,pipeline.score(testX,testY))"
   ]
  }
 ],
 "metadata": {
  "kernelspec": {
   "display_name": "Python 3",
   "language": "python",
   "name": "python3"
  },
  "language_info": {
   "codemirror_mode": {
    "name": "ipython",
    "version": 3
   },
   "file_extension": ".py",
   "mimetype": "text/x-python",
   "name": "python",
   "nbconvert_exporter": "python",
   "pygments_lexer": "ipython3",
   "version": "3.7.4"
  }
 },
 "nbformat": 4,
 "nbformat_minor": 2
}
