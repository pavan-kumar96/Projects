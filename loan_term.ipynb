{
 "cells": [
  {
   "cell_type": "code",
   "execution_count": null,
   "metadata": {
    "colab": {
     "base_uri": "https://localhost:8080/",
     "height": 71,
     "resources": {
      "http://localhost:8080/nbextensions/google.colab/files.js": {
       "data": "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",
       "headers": [
        [
         "content-type",
         "application/javascript"
        ]
       ],
       "ok": true,
       "status": 200,
       "status_text": ""
      }
     }
    },
    "id": "FhGQa0d-32Rz",
    "outputId": "37edc0f8-c543-4736-f586-777e1c9c8d85"
   },
   "outputs": [
    {
     "data": {
      "text/html": [
       "\n",
       "     <input type=\"file\" id=\"files-648a2931-cfcb-4998-b299-eaf4eb95b717\" name=\"files[]\" multiple disabled\n",
       "        style=\"border:none\" />\n",
       "     <output id=\"result-648a2931-cfcb-4998-b299-eaf4eb95b717\">\n",
       "      Upload widget is only available when the cell has been executed in the\n",
       "      current browser session. Please rerun this cell to enable.\n",
       "      </output>\n",
       "      <script src=\"/nbextensions/google.colab/files.js\"></script> "
      ],
      "text/plain": [
       "<IPython.core.display.HTML object>"
      ]
     },
     "metadata": {
      "tags": []
     },
     "output_type": "display_data"
    },
    {
     "name": "stdout",
     "output_type": "stream",
     "text": [
      "Saving hacklive_AV_Dataset.zip to hacklive_AV_Dataset.zip\n"
     ]
    }
   ],
   "source": [
    "from google.colab import files\n",
    "files.upload()\n",
    "\n",
    "!unzip -q hacklive_AV_Dataset.zip"
   ]
  },
  {
   "cell_type": "code",
   "execution_count": null,
   "metadata": {
    "colab": {
     "base_uri": "https://localhost:8080/",
     "height": 52
    },
    "id": "1t8YPzNR0I4l",
    "outputId": "77a52216-eeed-488b-e927-faee250d2ec9"
   },
   "outputs": [
    {
     "name": "stdout",
     "output_type": "stream",
     "text": [
      "\u001b[K     |████████████████████████████████| 66.1MB 56kB/s \n",
      "\u001b[K     |████████████████████████████████| 286kB 2.7MB/s \n",
      "\u001b[?25h"
     ]
    }
   ],
   "source": [
    "!pip install -q catboost\n",
    "!pip install -q --upgrade seaborn"
   ]
  },
  {
   "cell_type": "code",
   "execution_count": null,
   "metadata": {
    "id": "ufnr3h6L4SFg"
   },
   "outputs": [],
   "source": [
    "import numpy as np\n",
    "import pandas as pd\n",
    "import matplotlib.pyplot as plt\n",
    "%matplotlib inline\n",
    "plt.style.use('seaborn-whitegrid')\n",
    "\n",
    "import seaborn as sns\n",
    "from sklearn.model_selection import train_test_split, StratifiedKFold\n",
    "from sklearn.metrics import accuracy_score, f1_score\n",
    "\n",
    "from sklearn.tree import DecisionTreeClassifier\n",
    "from sklearn.ensemble import RandomForestClassifier\n",
    "\n",
    "from sklearn.linear_model import LogisticRegression\n",
    "\n",
    "from lightgbm import LGBMClassifier\n",
    "from catboost import CatBoostClassifier\n",
    "from xgboost import XGBClassifier\n",
    "\n",
    "from IPython.core.interactiveshell import InteractiveShell\n",
    "InteractiveShell.ast_node_interactivity = \"all\"\n",
    "\n",
    "pd.set_option('display.max_colwidth', -1)\n",
    "\n",
    "import warnings\n",
    "warnings.simplefilter('ignore')"
   ]
  },
  {
   "cell_type": "code",
   "execution_count": null,
   "metadata": {
    "id": "ExDQb3dRO2ys"
   },
   "outputs": [],
   "source": [
    "ss = pd.read_csv('SampleSubmission_XkIpo3X.csv')\n",
    "train = pd.read_csv('Train_eP48B9k.csv')\n",
    "test = pd.read_csv('Test_jPKyvmK.csv')"
   ]
  },
  {
   "cell_type": "code",
   "execution_count": null,
   "metadata": {
    "id": "__8MjPZ1uAYZ"
   },
   "outputs": [],
   "source": [
    "ID_COL, TARGET_COL = 'id', 'term_deposit_subscribed'\n",
    "features = [c for c in train.columns if c not in [ID_COL, TARGET_COL]]\n",
    "\n",
    "cat_cols = ['job_type',\n",
    " 'marital',\n",
    " 'education',\n",
    " 'default',\n",
    " 'housing_loan',\n",
    " 'personal_loan',\n",
    " 'communication_type',\n",
    " 'month',\n",
    " 'prev_campaign_outcome']\n",
    "\n",
    "num_cols = [c for c in features if c not in cat_cols]"
   ]
  },
  {
   "cell_type": "code",
   "execution_count": null,
   "metadata": {
    "id": "-VbNuhtYxn7Y"
   },
   "outputs": [],
   "source": [
    "def download_preds(preds_test, file_name = 'hacklive_sub.csv'):\n",
    " \n",
    "  ## 1. Setting the target column with our obtained predictions\n",
    "  ss[TARGET_COL] = preds_test\n",
    "\n",
    "  ## 2. Saving our predictions to a csv file\n",
    "\n",
    "  ss.to_csv(file_name, index = False)\n",
    "\n",
    "  ## 3. Downloading and submitting the csv file\n",
    "  from google.colab import files\n",
    "  files.download(file_name)"
   ]
  },
  {
   "cell_type": "markdown",
   "metadata": {
    "id": "abKiAd9mpJ66"
   },
   "source": [
    "### **C. Classification Models.**\n",
    "\n",
    "\n",
    "There are a lot of classification models that can be used, many of them such as Gradient Boosting Models and Neural Networks are be used to win competitions. However, for the purpose of creating a baseline classification model, we will make the following:\n",
    "\n",
    "1. Logistic Regression.\n",
    "2. Decision Tree"
   ]
  },
  {
   "cell_type": "code",
   "execution_count": null,
   "metadata": {
    "colab": {
     "base_uri": "https://localhost:8080/",
     "height": 210
    },
    "id": "_oSGpobmTkcO",
    "outputId": "f3e9dc65-ac42-41a3-f684-a6a0b691862b"
   },
   "outputs": [
    {
     "data": {
      "text/html": [
       "<div>\n",
       "<style scoped>\n",
       "    .dataframe tbody tr th:only-of-type {\n",
       "        vertical-align: middle;\n",
       "    }\n",
       "\n",
       "    .dataframe tbody tr th {\n",
       "        vertical-align: top;\n",
       "    }\n",
       "\n",
       "    .dataframe thead th {\n",
       "        text-align: right;\n",
       "    }\n",
       "</style>\n",
       "<table border=\"1\" class=\"dataframe\">\n",
       "  <thead>\n",
       "    <tr style=\"text-align: right;\">\n",
       "      <th></th>\n",
       "      <th>id</th>\n",
       "      <th>customer_age</th>\n",
       "      <th>job_type</th>\n",
       "      <th>marital</th>\n",
       "      <th>education</th>\n",
       "      <th>default</th>\n",
       "      <th>balance</th>\n",
       "      <th>housing_loan</th>\n",
       "      <th>personal_loan</th>\n",
       "      <th>communication_type</th>\n",
       "      <th>day_of_month</th>\n",
       "      <th>month</th>\n",
       "      <th>last_contact_duration</th>\n",
       "      <th>num_contacts_in_campaign</th>\n",
       "      <th>days_since_prev_campaign_contact</th>\n",
       "      <th>num_contacts_prev_campaign</th>\n",
       "      <th>prev_campaign_outcome</th>\n",
       "      <th>term_deposit_subscribed</th>\n",
       "    </tr>\n",
       "  </thead>\n",
       "  <tbody>\n",
       "    <tr>\n",
       "      <th>0</th>\n",
       "      <td>id_43823</td>\n",
       "      <td>28.0</td>\n",
       "      <td>management</td>\n",
       "      <td>single</td>\n",
       "      <td>tertiary</td>\n",
       "      <td>no</td>\n",
       "      <td>285.0</td>\n",
       "      <td>yes</td>\n",
       "      <td>no</td>\n",
       "      <td>unknown</td>\n",
       "      <td>26</td>\n",
       "      <td>jun</td>\n",
       "      <td>303.0</td>\n",
       "      <td>4.0</td>\n",
       "      <td>NaN</td>\n",
       "      <td>0</td>\n",
       "      <td>unknown</td>\n",
       "      <td>0</td>\n",
       "    </tr>\n",
       "    <tr>\n",
       "      <th>1</th>\n",
       "      <td>id_32289</td>\n",
       "      <td>34.0</td>\n",
       "      <td>blue-collar</td>\n",
       "      <td>married</td>\n",
       "      <td>secondary</td>\n",
       "      <td>no</td>\n",
       "      <td>934.0</td>\n",
       "      <td>no</td>\n",
       "      <td>yes</td>\n",
       "      <td>cellular</td>\n",
       "      <td>18</td>\n",
       "      <td>nov</td>\n",
       "      <td>143.0</td>\n",
       "      <td>2.0</td>\n",
       "      <td>132.0</td>\n",
       "      <td>1</td>\n",
       "      <td>other</td>\n",
       "      <td>0</td>\n",
       "    </tr>\n",
       "    <tr>\n",
       "      <th>2</th>\n",
       "      <td>id_10523</td>\n",
       "      <td>46.0</td>\n",
       "      <td>technician</td>\n",
       "      <td>married</td>\n",
       "      <td>secondary</td>\n",
       "      <td>no</td>\n",
       "      <td>656.0</td>\n",
       "      <td>no</td>\n",
       "      <td>no</td>\n",
       "      <td>cellular</td>\n",
       "      <td>5</td>\n",
       "      <td>feb</td>\n",
       "      <td>101.0</td>\n",
       "      <td>4.0</td>\n",
       "      <td>NaN</td>\n",
       "      <td>0</td>\n",
       "      <td>unknown</td>\n",
       "      <td>0</td>\n",
       "    </tr>\n",
       "    <tr>\n",
       "      <th>3</th>\n",
       "      <td>id_43951</td>\n",
       "      <td>34.0</td>\n",
       "      <td>services</td>\n",
       "      <td>single</td>\n",
       "      <td>secondary</td>\n",
       "      <td>no</td>\n",
       "      <td>2.0</td>\n",
       "      <td>yes</td>\n",
       "      <td>no</td>\n",
       "      <td>unknown</td>\n",
       "      <td>20</td>\n",
       "      <td>may</td>\n",
       "      <td>127.0</td>\n",
       "      <td>3.0</td>\n",
       "      <td>NaN</td>\n",
       "      <td>0</td>\n",
       "      <td>unknown</td>\n",
       "      <td>0</td>\n",
       "    </tr>\n",
       "    <tr>\n",
       "      <th>4</th>\n",
       "      <td>id_40992</td>\n",
       "      <td>41.0</td>\n",
       "      <td>blue-collar</td>\n",
       "      <td>married</td>\n",
       "      <td>primary</td>\n",
       "      <td>no</td>\n",
       "      <td>1352.0</td>\n",
       "      <td>yes</td>\n",
       "      <td>no</td>\n",
       "      <td>cellular</td>\n",
       "      <td>13</td>\n",
       "      <td>may</td>\n",
       "      <td>49.0</td>\n",
       "      <td>2.0</td>\n",
       "      <td>NaN</td>\n",
       "      <td>0</td>\n",
       "      <td>unknown</td>\n",
       "      <td>0</td>\n",
       "    </tr>\n",
       "  </tbody>\n",
       "</table>\n",
       "</div>"
      ],
      "text/plain": [
       "         id  customer_age  ... prev_campaign_outcome term_deposit_subscribed\n",
       "0  id_43823  28.0          ...  unknown               0                     \n",
       "1  id_32289  34.0          ...  other                 0                     \n",
       "2  id_10523  46.0          ...  unknown               0                     \n",
       "3  id_43951  34.0          ...  unknown               0                     \n",
       "4  id_40992  41.0          ...  unknown               0                     \n",
       "\n",
       "[5 rows x 18 columns]"
      ]
     },
     "execution_count": 27,
     "metadata": {
      "tags": []
     },
     "output_type": "execute_result"
    }
   ],
   "source": [
    "train.head()"
   ]
  },
  {
   "cell_type": "code",
   "execution_count": null,
   "metadata": {
    "id": "CmM5AbLkT0Od"
   },
   "outputs": [],
   "source": [
    "?pd.get_dummies"
   ]
  },
  {
   "cell_type": "code",
   "execution_count": null,
   "metadata": {
    "colab": {
     "base_uri": "https://localhost:8080/",
     "height": 406
    },
    "id": "I4xAA9j8TvFy",
    "outputId": "7afbe179-b5f0-46b2-f29b-6f7289f7ca1e"
   },
   "outputs": [
    {
     "data": {
      "text/html": [
       "<div>\n",
       "<style scoped>\n",
       "    .dataframe tbody tr th:only-of-type {\n",
       "        vertical-align: middle;\n",
       "    }\n",
       "\n",
       "    .dataframe tbody tr th {\n",
       "        vertical-align: top;\n",
       "    }\n",
       "\n",
       "    .dataframe thead th {\n",
       "        text-align: right;\n",
       "    }\n",
       "</style>\n",
       "<table border=\"1\" class=\"dataframe\">\n",
       "  <thead>\n",
       "    <tr style=\"text-align: right;\">\n",
       "      <th></th>\n",
       "      <th>job_type_admin.</th>\n",
       "      <th>job_type_blue-collar</th>\n",
       "      <th>job_type_entrepreneur</th>\n",
       "      <th>job_type_housemaid</th>\n",
       "      <th>job_type_management</th>\n",
       "      <th>job_type_retired</th>\n",
       "      <th>job_type_self-employed</th>\n",
       "      <th>job_type_services</th>\n",
       "      <th>job_type_student</th>\n",
       "      <th>job_type_technician</th>\n",
       "      <th>job_type_unemployed</th>\n",
       "      <th>job_type_unknown</th>\n",
       "    </tr>\n",
       "  </thead>\n",
       "  <tbody>\n",
       "    <tr>\n",
       "      <th>0</th>\n",
       "      <td>0</td>\n",
       "      <td>0</td>\n",
       "      <td>0</td>\n",
       "      <td>0</td>\n",
       "      <td>1</td>\n",
       "      <td>0</td>\n",
       "      <td>0</td>\n",
       "      <td>0</td>\n",
       "      <td>0</td>\n",
       "      <td>0</td>\n",
       "      <td>0</td>\n",
       "      <td>0</td>\n",
       "    </tr>\n",
       "    <tr>\n",
       "      <th>1</th>\n",
       "      <td>0</td>\n",
       "      <td>1</td>\n",
       "      <td>0</td>\n",
       "      <td>0</td>\n",
       "      <td>0</td>\n",
       "      <td>0</td>\n",
       "      <td>0</td>\n",
       "      <td>0</td>\n",
       "      <td>0</td>\n",
       "      <td>0</td>\n",
       "      <td>0</td>\n",
       "      <td>0</td>\n",
       "    </tr>\n",
       "    <tr>\n",
       "      <th>2</th>\n",
       "      <td>0</td>\n",
       "      <td>0</td>\n",
       "      <td>0</td>\n",
       "      <td>0</td>\n",
       "      <td>0</td>\n",
       "      <td>0</td>\n",
       "      <td>0</td>\n",
       "      <td>0</td>\n",
       "      <td>0</td>\n",
       "      <td>1</td>\n",
       "      <td>0</td>\n",
       "      <td>0</td>\n",
       "    </tr>\n",
       "    <tr>\n",
       "      <th>3</th>\n",
       "      <td>0</td>\n",
       "      <td>0</td>\n",
       "      <td>0</td>\n",
       "      <td>0</td>\n",
       "      <td>0</td>\n",
       "      <td>0</td>\n",
       "      <td>0</td>\n",
       "      <td>1</td>\n",
       "      <td>0</td>\n",
       "      <td>0</td>\n",
       "      <td>0</td>\n",
       "      <td>0</td>\n",
       "    </tr>\n",
       "    <tr>\n",
       "      <th>4</th>\n",
       "      <td>0</td>\n",
       "      <td>1</td>\n",
       "      <td>0</td>\n",
       "      <td>0</td>\n",
       "      <td>0</td>\n",
       "      <td>0</td>\n",
       "      <td>0</td>\n",
       "      <td>0</td>\n",
       "      <td>0</td>\n",
       "      <td>0</td>\n",
       "      <td>0</td>\n",
       "      <td>0</td>\n",
       "    </tr>\n",
       "    <tr>\n",
       "      <th>...</th>\n",
       "      <td>...</td>\n",
       "      <td>...</td>\n",
       "      <td>...</td>\n",
       "      <td>...</td>\n",
       "      <td>...</td>\n",
       "      <td>...</td>\n",
       "      <td>...</td>\n",
       "      <td>...</td>\n",
       "      <td>...</td>\n",
       "      <td>...</td>\n",
       "      <td>...</td>\n",
       "      <td>...</td>\n",
       "    </tr>\n",
       "    <tr>\n",
       "      <th>31642</th>\n",
       "      <td>1</td>\n",
       "      <td>0</td>\n",
       "      <td>0</td>\n",
       "      <td>0</td>\n",
       "      <td>0</td>\n",
       "      <td>0</td>\n",
       "      <td>0</td>\n",
       "      <td>0</td>\n",
       "      <td>0</td>\n",
       "      <td>0</td>\n",
       "      <td>0</td>\n",
       "      <td>0</td>\n",
       "    </tr>\n",
       "    <tr>\n",
       "      <th>31643</th>\n",
       "      <td>0</td>\n",
       "      <td>0</td>\n",
       "      <td>0</td>\n",
       "      <td>0</td>\n",
       "      <td>1</td>\n",
       "      <td>0</td>\n",
       "      <td>0</td>\n",
       "      <td>0</td>\n",
       "      <td>0</td>\n",
       "      <td>0</td>\n",
       "      <td>0</td>\n",
       "      <td>0</td>\n",
       "    </tr>\n",
       "    <tr>\n",
       "      <th>31644</th>\n",
       "      <td>0</td>\n",
       "      <td>0</td>\n",
       "      <td>0</td>\n",
       "      <td>0</td>\n",
       "      <td>0</td>\n",
       "      <td>0</td>\n",
       "      <td>0</td>\n",
       "      <td>0</td>\n",
       "      <td>0</td>\n",
       "      <td>0</td>\n",
       "      <td>1</td>\n",
       "      <td>0</td>\n",
       "    </tr>\n",
       "    <tr>\n",
       "      <th>31645</th>\n",
       "      <td>0</td>\n",
       "      <td>0</td>\n",
       "      <td>0</td>\n",
       "      <td>0</td>\n",
       "      <td>0</td>\n",
       "      <td>0</td>\n",
       "      <td>0</td>\n",
       "      <td>1</td>\n",
       "      <td>0</td>\n",
       "      <td>0</td>\n",
       "      <td>0</td>\n",
       "      <td>0</td>\n",
       "    </tr>\n",
       "    <tr>\n",
       "      <th>31646</th>\n",
       "      <td>0</td>\n",
       "      <td>0</td>\n",
       "      <td>0</td>\n",
       "      <td>0</td>\n",
       "      <td>0</td>\n",
       "      <td>0</td>\n",
       "      <td>0</td>\n",
       "      <td>0</td>\n",
       "      <td>0</td>\n",
       "      <td>1</td>\n",
       "      <td>0</td>\n",
       "      <td>0</td>\n",
       "    </tr>\n",
       "  </tbody>\n",
       "</table>\n",
       "<p>31647 rows × 12 columns</p>\n",
       "</div>"
      ],
      "text/plain": [
       "       job_type_admin.  ...  job_type_unknown\n",
       "0      0                ...  0               \n",
       "1      0                ...  0               \n",
       "2      0                ...  0               \n",
       "3      0                ...  0               \n",
       "4      0                ...  0               \n",
       "...   ..                ... ..               \n",
       "31642  1                ...  0               \n",
       "31643  0                ...  0               \n",
       "31644  0                ...  0               \n",
       "31645  0                ...  0               \n",
       "31646  0                ...  0               \n",
       "\n",
       "[31647 rows x 12 columns]"
      ]
     },
     "execution_count": 29,
     "metadata": {
      "tags": []
     },
     "output_type": "execute_result"
    }
   ],
   "source": [
    "pd.get_dummies(train[['job_type']])"
   ]
  },
  {
   "cell_type": "markdown",
   "metadata": {
    "id": "tiTCYZJRpOZC"
   },
   "source": [
    "**Steps to Make a Baseline Classification Model**\n",
    "\n",
    "1. Concatenate/Join the train and test Datasets. All kinds of processing must be performed on both train and test datasets together.\n",
    "\n",
    "2. Convert all Categorical Variables to numbers. We will be use OneHot Encoding for this. \n",
    "\n",
    "3. Fill Null Values. This can be followed by other data processing and feature engineering steps, but we will go into it later.\n",
    "\n",
    "4. Split the dataset back into train and test datasets.\n",
    "\n",
    "5. Split the train set into train and validation sets.\n",
    "\n",
    "6. Fit a classification Model on train, check its results on validation set.\n",
    "\n",
    "7. Predict for the test set.\n"
   ]
  },
  {
   "cell_type": "markdown",
   "metadata": {
    "id": "aLmgx0DqpRHY"
   },
   "source": [
    "Lets complete each of these steps one by one."
   ]
  },
  {
   "cell_type": "markdown",
   "metadata": {
    "id": "ynwnZQ2-pR_j"
   },
   "source": [
    "**1. Concating/Joining train and test datasets.**\n"
   ]
  },
  {
   "cell_type": "code",
   "execution_count": null,
   "metadata": {
    "colab": {
     "base_uri": "https://localhost:8080/",
     "height": 34
    },
    "id": "wwMcVYKAU_Jc",
    "outputId": "8fe23e2e-3251-4b62-af22-13088c0feeff"
   },
   "outputs": [
    {
     "data": {
      "text/plain": [
       "((31647, 18), (13564, 17))"
      ]
     },
     "execution_count": 30,
     "metadata": {
      "tags": []
     },
     "output_type": "execute_result"
    }
   ],
   "source": [
    "train.shape, test.shape"
   ]
  },
  {
   "cell_type": "code",
   "execution_count": null,
   "metadata": {
    "colab": {
     "base_uri": "https://localhost:8080/",
     "height": 34
    },
    "id": "A-xQtLbmVCBr",
    "outputId": "3e320a1c-41b3-404d-b94e-03f9f995e32e"
   },
   "outputs": [
    {
     "data": {
      "text/plain": [
       "45211"
      ]
     },
     "execution_count": 31,
     "metadata": {
      "tags": []
     },
     "output_type": "execute_result"
    }
   ],
   "source": [
    "31647 + 13564"
   ]
  },
  {
   "cell_type": "code",
   "execution_count": null,
   "metadata": {
    "colab": {
     "base_uri": "https://localhost:8080/",
     "height": 34
    },
    "id": "rKWTNBY4pWlm",
    "outputId": "83cc049a-7797-4aad-fcdf-50f5365d1fa6"
   },
   "outputs": [
    {
     "data": {
      "text/plain": [
       "(45211, 18)"
      ]
     },
     "execution_count": 32,
     "metadata": {
      "tags": []
     },
     "output_type": "execute_result"
    }
   ],
   "source": [
    "df = pd.concat([train, test], axis=0).reset_index(drop = True)\n",
    "df.shape"
   ]
  },
  {
   "cell_type": "code",
   "execution_count": null,
   "metadata": {
    "colab": {
     "base_uri": "https://localhost:8080/",
     "height": 410
    },
    "id": "c3U7P_5hVItP",
    "outputId": "04840f4e-ed8f-43ae-908d-b2fc6af7fdfb"
   },
   "outputs": [
    {
     "data": {
      "text/html": [
       "<div>\n",
       "<style scoped>\n",
       "    .dataframe tbody tr th:only-of-type {\n",
       "        vertical-align: middle;\n",
       "    }\n",
       "\n",
       "    .dataframe tbody tr th {\n",
       "        vertical-align: top;\n",
       "    }\n",
       "\n",
       "    .dataframe thead th {\n",
       "        text-align: right;\n",
       "    }\n",
       "</style>\n",
       "<table border=\"1\" class=\"dataframe\">\n",
       "  <thead>\n",
       "    <tr style=\"text-align: right;\">\n",
       "      <th></th>\n",
       "      <th>id</th>\n",
       "      <th>customer_age</th>\n",
       "      <th>job_type</th>\n",
       "      <th>marital</th>\n",
       "      <th>education</th>\n",
       "      <th>default</th>\n",
       "      <th>balance</th>\n",
       "      <th>housing_loan</th>\n",
       "      <th>personal_loan</th>\n",
       "      <th>communication_type</th>\n",
       "      <th>day_of_month</th>\n",
       "      <th>month</th>\n",
       "      <th>last_contact_duration</th>\n",
       "      <th>num_contacts_in_campaign</th>\n",
       "      <th>days_since_prev_campaign_contact</th>\n",
       "      <th>num_contacts_prev_campaign</th>\n",
       "      <th>prev_campaign_outcome</th>\n",
       "      <th>term_deposit_subscribed</th>\n",
       "    </tr>\n",
       "  </thead>\n",
       "  <tbody>\n",
       "    <tr>\n",
       "      <th>0</th>\n",
       "      <td>id_43823</td>\n",
       "      <td>28.0</td>\n",
       "      <td>management</td>\n",
       "      <td>single</td>\n",
       "      <td>tertiary</td>\n",
       "      <td>no</td>\n",
       "      <td>285.0</td>\n",
       "      <td>yes</td>\n",
       "      <td>no</td>\n",
       "      <td>unknown</td>\n",
       "      <td>26</td>\n",
       "      <td>jun</td>\n",
       "      <td>303.0</td>\n",
       "      <td>4.0</td>\n",
       "      <td>NaN</td>\n",
       "      <td>0</td>\n",
       "      <td>unknown</td>\n",
       "      <td>0.0</td>\n",
       "    </tr>\n",
       "    <tr>\n",
       "      <th>1</th>\n",
       "      <td>id_32289</td>\n",
       "      <td>34.0</td>\n",
       "      <td>blue-collar</td>\n",
       "      <td>married</td>\n",
       "      <td>secondary</td>\n",
       "      <td>no</td>\n",
       "      <td>934.0</td>\n",
       "      <td>no</td>\n",
       "      <td>yes</td>\n",
       "      <td>cellular</td>\n",
       "      <td>18</td>\n",
       "      <td>nov</td>\n",
       "      <td>143.0</td>\n",
       "      <td>2.0</td>\n",
       "      <td>132.0</td>\n",
       "      <td>1</td>\n",
       "      <td>other</td>\n",
       "      <td>0.0</td>\n",
       "    </tr>\n",
       "    <tr>\n",
       "      <th>2</th>\n",
       "      <td>id_10523</td>\n",
       "      <td>46.0</td>\n",
       "      <td>technician</td>\n",
       "      <td>married</td>\n",
       "      <td>secondary</td>\n",
       "      <td>no</td>\n",
       "      <td>656.0</td>\n",
       "      <td>no</td>\n",
       "      <td>no</td>\n",
       "      <td>cellular</td>\n",
       "      <td>5</td>\n",
       "      <td>feb</td>\n",
       "      <td>101.0</td>\n",
       "      <td>4.0</td>\n",
       "      <td>NaN</td>\n",
       "      <td>0</td>\n",
       "      <td>unknown</td>\n",
       "      <td>0.0</td>\n",
       "    </tr>\n",
       "    <tr>\n",
       "      <th>3</th>\n",
       "      <td>id_43951</td>\n",
       "      <td>34.0</td>\n",
       "      <td>services</td>\n",
       "      <td>single</td>\n",
       "      <td>secondary</td>\n",
       "      <td>no</td>\n",
       "      <td>2.0</td>\n",
       "      <td>yes</td>\n",
       "      <td>no</td>\n",
       "      <td>unknown</td>\n",
       "      <td>20</td>\n",
       "      <td>may</td>\n",
       "      <td>127.0</td>\n",
       "      <td>3.0</td>\n",
       "      <td>NaN</td>\n",
       "      <td>0</td>\n",
       "      <td>unknown</td>\n",
       "      <td>0.0</td>\n",
       "    </tr>\n",
       "    <tr>\n",
       "      <th>4</th>\n",
       "      <td>id_40992</td>\n",
       "      <td>41.0</td>\n",
       "      <td>blue-collar</td>\n",
       "      <td>married</td>\n",
       "      <td>primary</td>\n",
       "      <td>no</td>\n",
       "      <td>1352.0</td>\n",
       "      <td>yes</td>\n",
       "      <td>no</td>\n",
       "      <td>cellular</td>\n",
       "      <td>13</td>\n",
       "      <td>may</td>\n",
       "      <td>49.0</td>\n",
       "      <td>2.0</td>\n",
       "      <td>NaN</td>\n",
       "      <td>0</td>\n",
       "      <td>unknown</td>\n",
       "      <td>0.0</td>\n",
       "    </tr>\n",
       "    <tr>\n",
       "      <th>...</th>\n",
       "      <td>...</td>\n",
       "      <td>...</td>\n",
       "      <td>...</td>\n",
       "      <td>...</td>\n",
       "      <td>...</td>\n",
       "      <td>...</td>\n",
       "      <td>...</td>\n",
       "      <td>...</td>\n",
       "      <td>...</td>\n",
       "      <td>...</td>\n",
       "      <td>...</td>\n",
       "      <td>...</td>\n",
       "      <td>...</td>\n",
       "      <td>...</td>\n",
       "      <td>...</td>\n",
       "      <td>...</td>\n",
       "      <td>...</td>\n",
       "      <td>...</td>\n",
       "    </tr>\n",
       "    <tr>\n",
       "      <th>45206</th>\n",
       "      <td>id_42406</td>\n",
       "      <td>29.0</td>\n",
       "      <td>management</td>\n",
       "      <td>single</td>\n",
       "      <td>tertiary</td>\n",
       "      <td>no</td>\n",
       "      <td>717.0</td>\n",
       "      <td>yes</td>\n",
       "      <td>no</td>\n",
       "      <td>cellular</td>\n",
       "      <td>15</td>\n",
       "      <td>jun</td>\n",
       "      <td>94.0</td>\n",
       "      <td>1.0</td>\n",
       "      <td>NaN</td>\n",
       "      <td>0</td>\n",
       "      <td>unknown</td>\n",
       "      <td>NaN</td>\n",
       "    </tr>\n",
       "    <tr>\n",
       "      <th>45207</th>\n",
       "      <td>id_14483</td>\n",
       "      <td>NaN</td>\n",
       "      <td>blue-collar</td>\n",
       "      <td>married</td>\n",
       "      <td>secondary</td>\n",
       "      <td>no</td>\n",
       "      <td>604.0</td>\n",
       "      <td>yes</td>\n",
       "      <td>no</td>\n",
       "      <td>telephone</td>\n",
       "      <td>10</td>\n",
       "      <td>jul</td>\n",
       "      <td>155.0</td>\n",
       "      <td>1.0</td>\n",
       "      <td>NaN</td>\n",
       "      <td>0</td>\n",
       "      <td>unknown</td>\n",
       "      <td>NaN</td>\n",
       "    </tr>\n",
       "    <tr>\n",
       "      <th>45208</th>\n",
       "      <td>id_43066</td>\n",
       "      <td>45.0</td>\n",
       "      <td>blue-collar</td>\n",
       "      <td>married</td>\n",
       "      <td>primary</td>\n",
       "      <td>no</td>\n",
       "      <td>237.0</td>\n",
       "      <td>yes</td>\n",
       "      <td>no</td>\n",
       "      <td>unknown</td>\n",
       "      <td>16</td>\n",
       "      <td>may</td>\n",
       "      <td>231.0</td>\n",
       "      <td>4.0</td>\n",
       "      <td>NaN</td>\n",
       "      <td>0</td>\n",
       "      <td>unknown</td>\n",
       "      <td>NaN</td>\n",
       "    </tr>\n",
       "    <tr>\n",
       "      <th>45209</th>\n",
       "      <td>id_18375</td>\n",
       "      <td>52.0</td>\n",
       "      <td>admin.</td>\n",
       "      <td>married</td>\n",
       "      <td>primary</td>\n",
       "      <td>no</td>\n",
       "      <td>241.0</td>\n",
       "      <td>yes</td>\n",
       "      <td>no</td>\n",
       "      <td>cellular</td>\n",
       "      <td>13</td>\n",
       "      <td>may</td>\n",
       "      <td>243.0</td>\n",
       "      <td>2.0</td>\n",
       "      <td>299.0</td>\n",
       "      <td>5</td>\n",
       "      <td>failure</td>\n",
       "      <td>NaN</td>\n",
       "    </tr>\n",
       "    <tr>\n",
       "      <th>45210</th>\n",
       "      <td>id_12898</td>\n",
       "      <td>51.0</td>\n",
       "      <td>technician</td>\n",
       "      <td>married</td>\n",
       "      <td>unknown</td>\n",
       "      <td>no</td>\n",
       "      <td>368.0</td>\n",
       "      <td>yes</td>\n",
       "      <td>no</td>\n",
       "      <td>cellular</td>\n",
       "      <td>15</td>\n",
       "      <td>jul</td>\n",
       "      <td>102.0</td>\n",
       "      <td>2.0</td>\n",
       "      <td>NaN</td>\n",
       "      <td>0</td>\n",
       "      <td>unknown</td>\n",
       "      <td>NaN</td>\n",
       "    </tr>\n",
       "  </tbody>\n",
       "</table>\n",
       "<p>45211 rows × 18 columns</p>\n",
       "</div>"
      ],
      "text/plain": [
       "             id  customer_age  ... prev_campaign_outcome term_deposit_subscribed\n",
       "0      id_43823  28.0          ...  unknown               0.0                   \n",
       "1      id_32289  34.0          ...  other                 0.0                   \n",
       "2      id_10523  46.0          ...  unknown               0.0                   \n",
       "3      id_43951  34.0          ...  unknown               0.0                   \n",
       "4      id_40992  41.0          ...  unknown               0.0                   \n",
       "...         ...   ...          ...      ...               ...                   \n",
       "45206  id_42406  29.0          ...  unknown              NaN                    \n",
       "45207  id_14483 NaN            ...  unknown              NaN                    \n",
       "45208  id_43066  45.0          ...  unknown              NaN                    \n",
       "45209  id_18375  52.0          ...  failure              NaN                    \n",
       "45210  id_12898  51.0          ...  unknown              NaN                    \n",
       "\n",
       "[45211 rows x 18 columns]"
      ]
     },
     "execution_count": 33,
     "metadata": {
      "tags": []
     },
     "output_type": "execute_result"
    }
   ],
   "source": [
    "df"
   ]
  },
  {
   "cell_type": "markdown",
   "metadata": {
    "id": "ffu_OMaLpaVd"
   },
   "source": [
    "**2. Encoding categorical columns.**\n",
    "\n",
    "There are multiple ways to encoded categorical variables. For the sake of simplicity, we will be using One-Hot Encoding."
   ]
  },
  {
   "cell_type": "code",
   "execution_count": null,
   "metadata": {
    "id": "MvyJaSJEpbTv"
   },
   "outputs": [],
   "source": [
    "df = pd.get_dummies(df, columns = cat_cols)"
   ]
  },
  {
   "cell_type": "code",
   "execution_count": null,
   "metadata": {
    "colab": {
     "base_uri": "https://localhost:8080/",
     "height": 226
    },
    "id": "-xeOQh0opr56",
    "outputId": "1d1f52e7-67a7-4940-f400-a98c48034794"
   },
   "outputs": [
    {
     "data": {
      "text/html": [
       "<div>\n",
       "<style scoped>\n",
       "    .dataframe tbody tr th:only-of-type {\n",
       "        vertical-align: middle;\n",
       "    }\n",
       "\n",
       "    .dataframe tbody tr th {\n",
       "        vertical-align: top;\n",
       "    }\n",
       "\n",
       "    .dataframe thead th {\n",
       "        text-align: right;\n",
       "    }\n",
       "</style>\n",
       "<table border=\"1\" class=\"dataframe\">\n",
       "  <thead>\n",
       "    <tr style=\"text-align: right;\">\n",
       "      <th></th>\n",
       "      <th>id</th>\n",
       "      <th>customer_age</th>\n",
       "      <th>balance</th>\n",
       "      <th>day_of_month</th>\n",
       "      <th>last_contact_duration</th>\n",
       "      <th>num_contacts_in_campaign</th>\n",
       "      <th>days_since_prev_campaign_contact</th>\n",
       "      <th>num_contacts_prev_campaign</th>\n",
       "      <th>term_deposit_subscribed</th>\n",
       "      <th>job_type_admin.</th>\n",
       "      <th>job_type_blue-collar</th>\n",
       "      <th>job_type_entrepreneur</th>\n",
       "      <th>job_type_housemaid</th>\n",
       "      <th>job_type_management</th>\n",
       "      <th>job_type_retired</th>\n",
       "      <th>job_type_self-employed</th>\n",
       "      <th>job_type_services</th>\n",
       "      <th>job_type_student</th>\n",
       "      <th>job_type_technician</th>\n",
       "      <th>job_type_unemployed</th>\n",
       "      <th>job_type_unknown</th>\n",
       "      <th>marital_divorced</th>\n",
       "      <th>marital_married</th>\n",
       "      <th>marital_single</th>\n",
       "      <th>education_primary</th>\n",
       "      <th>education_secondary</th>\n",
       "      <th>education_tertiary</th>\n",
       "      <th>education_unknown</th>\n",
       "      <th>default_no</th>\n",
       "      <th>default_yes</th>\n",
       "      <th>housing_loan_no</th>\n",
       "      <th>housing_loan_yes</th>\n",
       "      <th>personal_loan_no</th>\n",
       "      <th>personal_loan_yes</th>\n",
       "      <th>communication_type_cellular</th>\n",
       "      <th>communication_type_telephone</th>\n",
       "      <th>communication_type_unknown</th>\n",
       "      <th>month_apr</th>\n",
       "      <th>month_aug</th>\n",
       "      <th>month_dec</th>\n",
       "      <th>month_feb</th>\n",
       "      <th>month_jan</th>\n",
       "      <th>month_jul</th>\n",
       "      <th>month_jun</th>\n",
       "      <th>month_mar</th>\n",
       "      <th>month_may</th>\n",
       "      <th>month_nov</th>\n",
       "      <th>month_oct</th>\n",
       "      <th>month_sep</th>\n",
       "      <th>prev_campaign_outcome_failure</th>\n",
       "      <th>prev_campaign_outcome_other</th>\n",
       "      <th>prev_campaign_outcome_success</th>\n",
       "      <th>prev_campaign_outcome_unknown</th>\n",
       "    </tr>\n",
       "  </thead>\n",
       "  <tbody>\n",
       "    <tr>\n",
       "      <th>0</th>\n",
       "      <td>id_43823</td>\n",
       "      <td>28.0</td>\n",
       "      <td>285.0</td>\n",
       "      <td>26</td>\n",
       "      <td>303.0</td>\n",
       "      <td>4.0</td>\n",
       "      <td>NaN</td>\n",
       "      <td>0</td>\n",
       "      <td>0.0</td>\n",
       "      <td>0</td>\n",
       "      <td>0</td>\n",
       "      <td>0</td>\n",
       "      <td>0</td>\n",
       "      <td>1</td>\n",
       "      <td>0</td>\n",
       "      <td>0</td>\n",
       "      <td>0</td>\n",
       "      <td>0</td>\n",
       "      <td>0</td>\n",
       "      <td>0</td>\n",
       "      <td>0</td>\n",
       "      <td>0</td>\n",
       "      <td>0</td>\n",
       "      <td>1</td>\n",
       "      <td>0</td>\n",
       "      <td>0</td>\n",
       "      <td>1</td>\n",
       "      <td>0</td>\n",
       "      <td>1</td>\n",
       "      <td>0</td>\n",
       "      <td>0</td>\n",
       "      <td>1</td>\n",
       "      <td>1</td>\n",
       "      <td>0</td>\n",
       "      <td>0</td>\n",
       "      <td>0</td>\n",
       "      <td>1</td>\n",
       "      <td>0</td>\n",
       "      <td>0</td>\n",
       "      <td>0</td>\n",
       "      <td>0</td>\n",
       "      <td>0</td>\n",
       "      <td>0</td>\n",
       "      <td>1</td>\n",
       "      <td>0</td>\n",
       "      <td>0</td>\n",
       "      <td>0</td>\n",
       "      <td>0</td>\n",
       "      <td>0</td>\n",
       "      <td>0</td>\n",
       "      <td>0</td>\n",
       "      <td>0</td>\n",
       "      <td>1</td>\n",
       "    </tr>\n",
       "    <tr>\n",
       "      <th>1</th>\n",
       "      <td>id_32289</td>\n",
       "      <td>34.0</td>\n",
       "      <td>934.0</td>\n",
       "      <td>18</td>\n",
       "      <td>143.0</td>\n",
       "      <td>2.0</td>\n",
       "      <td>132.0</td>\n",
       "      <td>1</td>\n",
       "      <td>0.0</td>\n",
       "      <td>0</td>\n",
       "      <td>1</td>\n",
       "      <td>0</td>\n",
       "      <td>0</td>\n",
       "      <td>0</td>\n",
       "      <td>0</td>\n",
       "      <td>0</td>\n",
       "      <td>0</td>\n",
       "      <td>0</td>\n",
       "      <td>0</td>\n",
       "      <td>0</td>\n",
       "      <td>0</td>\n",
       "      <td>0</td>\n",
       "      <td>1</td>\n",
       "      <td>0</td>\n",
       "      <td>0</td>\n",
       "      <td>1</td>\n",
       "      <td>0</td>\n",
       "      <td>0</td>\n",
       "      <td>1</td>\n",
       "      <td>0</td>\n",
       "      <td>1</td>\n",
       "      <td>0</td>\n",
       "      <td>0</td>\n",
       "      <td>1</td>\n",
       "      <td>1</td>\n",
       "      <td>0</td>\n",
       "      <td>0</td>\n",
       "      <td>0</td>\n",
       "      <td>0</td>\n",
       "      <td>0</td>\n",
       "      <td>0</td>\n",
       "      <td>0</td>\n",
       "      <td>0</td>\n",
       "      <td>0</td>\n",
       "      <td>0</td>\n",
       "      <td>0</td>\n",
       "      <td>1</td>\n",
       "      <td>0</td>\n",
       "      <td>0</td>\n",
       "      <td>0</td>\n",
       "      <td>1</td>\n",
       "      <td>0</td>\n",
       "      <td>0</td>\n",
       "    </tr>\n",
       "    <tr>\n",
       "      <th>2</th>\n",
       "      <td>id_10523</td>\n",
       "      <td>46.0</td>\n",
       "      <td>656.0</td>\n",
       "      <td>5</td>\n",
       "      <td>101.0</td>\n",
       "      <td>4.0</td>\n",
       "      <td>NaN</td>\n",
       "      <td>0</td>\n",
       "      <td>0.0</td>\n",
       "      <td>0</td>\n",
       "      <td>0</td>\n",
       "      <td>0</td>\n",
       "      <td>0</td>\n",
       "      <td>0</td>\n",
       "      <td>0</td>\n",
       "      <td>0</td>\n",
       "      <td>0</td>\n",
       "      <td>0</td>\n",
       "      <td>1</td>\n",
       "      <td>0</td>\n",
       "      <td>0</td>\n",
       "      <td>0</td>\n",
       "      <td>1</td>\n",
       "      <td>0</td>\n",
       "      <td>0</td>\n",
       "      <td>1</td>\n",
       "      <td>0</td>\n",
       "      <td>0</td>\n",
       "      <td>1</td>\n",
       "      <td>0</td>\n",
       "      <td>1</td>\n",
       "      <td>0</td>\n",
       "      <td>1</td>\n",
       "      <td>0</td>\n",
       "      <td>1</td>\n",
       "      <td>0</td>\n",
       "      <td>0</td>\n",
       "      <td>0</td>\n",
       "      <td>0</td>\n",
       "      <td>0</td>\n",
       "      <td>1</td>\n",
       "      <td>0</td>\n",
       "      <td>0</td>\n",
       "      <td>0</td>\n",
       "      <td>0</td>\n",
       "      <td>0</td>\n",
       "      <td>0</td>\n",
       "      <td>0</td>\n",
       "      <td>0</td>\n",
       "      <td>0</td>\n",
       "      <td>0</td>\n",
       "      <td>0</td>\n",
       "      <td>1</td>\n",
       "    </tr>\n",
       "    <tr>\n",
       "      <th>3</th>\n",
       "      <td>id_43951</td>\n",
       "      <td>34.0</td>\n",
       "      <td>2.0</td>\n",
       "      <td>20</td>\n",
       "      <td>127.0</td>\n",
       "      <td>3.0</td>\n",
       "      <td>NaN</td>\n",
       "      <td>0</td>\n",
       "      <td>0.0</td>\n",
       "      <td>0</td>\n",
       "      <td>0</td>\n",
       "      <td>0</td>\n",
       "      <td>0</td>\n",
       "      <td>0</td>\n",
       "      <td>0</td>\n",
       "      <td>0</td>\n",
       "      <td>1</td>\n",
       "      <td>0</td>\n",
       "      <td>0</td>\n",
       "      <td>0</td>\n",
       "      <td>0</td>\n",
       "      <td>0</td>\n",
       "      <td>0</td>\n",
       "      <td>1</td>\n",
       "      <td>0</td>\n",
       "      <td>1</td>\n",
       "      <td>0</td>\n",
       "      <td>0</td>\n",
       "      <td>1</td>\n",
       "      <td>0</td>\n",
       "      <td>0</td>\n",
       "      <td>1</td>\n",
       "      <td>1</td>\n",
       "      <td>0</td>\n",
       "      <td>0</td>\n",
       "      <td>0</td>\n",
       "      <td>1</td>\n",
       "      <td>0</td>\n",
       "      <td>0</td>\n",
       "      <td>0</td>\n",
       "      <td>0</td>\n",
       "      <td>0</td>\n",
       "      <td>0</td>\n",
       "      <td>0</td>\n",
       "      <td>0</td>\n",
       "      <td>1</td>\n",
       "      <td>0</td>\n",
       "      <td>0</td>\n",
       "      <td>0</td>\n",
       "      <td>0</td>\n",
       "      <td>0</td>\n",
       "      <td>0</td>\n",
       "      <td>1</td>\n",
       "    </tr>\n",
       "    <tr>\n",
       "      <th>4</th>\n",
       "      <td>id_40992</td>\n",
       "      <td>41.0</td>\n",
       "      <td>1352.0</td>\n",
       "      <td>13</td>\n",
       "      <td>49.0</td>\n",
       "      <td>2.0</td>\n",
       "      <td>NaN</td>\n",
       "      <td>0</td>\n",
       "      <td>0.0</td>\n",
       "      <td>0</td>\n",
       "      <td>1</td>\n",
       "      <td>0</td>\n",
       "      <td>0</td>\n",
       "      <td>0</td>\n",
       "      <td>0</td>\n",
       "      <td>0</td>\n",
       "      <td>0</td>\n",
       "      <td>0</td>\n",
       "      <td>0</td>\n",
       "      <td>0</td>\n",
       "      <td>0</td>\n",
       "      <td>0</td>\n",
       "      <td>1</td>\n",
       "      <td>0</td>\n",
       "      <td>1</td>\n",
       "      <td>0</td>\n",
       "      <td>0</td>\n",
       "      <td>0</td>\n",
       "      <td>1</td>\n",
       "      <td>0</td>\n",
       "      <td>0</td>\n",
       "      <td>1</td>\n",
       "      <td>1</td>\n",
       "      <td>0</td>\n",
       "      <td>1</td>\n",
       "      <td>0</td>\n",
       "      <td>0</td>\n",
       "      <td>0</td>\n",
       "      <td>0</td>\n",
       "      <td>0</td>\n",
       "      <td>0</td>\n",
       "      <td>0</td>\n",
       "      <td>0</td>\n",
       "      <td>0</td>\n",
       "      <td>0</td>\n",
       "      <td>1</td>\n",
       "      <td>0</td>\n",
       "      <td>0</td>\n",
       "      <td>0</td>\n",
       "      <td>0</td>\n",
       "      <td>0</td>\n",
       "      <td>0</td>\n",
       "      <td>1</td>\n",
       "    </tr>\n",
       "  </tbody>\n",
       "</table>\n",
       "</div>"
      ],
      "text/plain": [
       "         id  ...  prev_campaign_outcome_unknown\n",
       "0  id_43823  ...  1                            \n",
       "1  id_32289  ...  0                            \n",
       "2  id_10523  ...  1                            \n",
       "3  id_43951  ...  1                            \n",
       "4  id_40992  ...  1                            \n",
       "\n",
       "[5 rows x 53 columns]"
      ]
     },
     "execution_count": 35,
     "metadata": {
      "tags": []
     },
     "output_type": "execute_result"
    }
   ],
   "source": [
    "df.head()"
   ]
  },
  {
   "cell_type": "code",
   "execution_count": null,
   "metadata": {
    "colab": {
     "base_uri": "https://localhost:8080/",
     "height": 34
    },
    "id": "hKg8ahqipuVz",
    "outputId": "c0fca861-d948-4fea-d26b-f8cc677482b4"
   },
   "outputs": [
    {
     "data": {
      "text/plain": [
       "(45211, 53)"
      ]
     },
     "execution_count": 36,
     "metadata": {
      "tags": []
     },
     "output_type": "execute_result"
    }
   ],
   "source": [
    "df.shape"
   ]
  },
  {
   "cell_type": "markdown",
   "metadata": {
    "id": "IdR78RyApu2V"
   },
   "source": [
    "**3. Filling Null Values**\n",
    "\n",
    "As seen earlier in our EDA, our dataset contains null values. There could be multiple ways to fill our Null Values, but for now we will fill it with a large negative random number say -999"
   ]
  },
  {
   "cell_type": "code",
   "execution_count": null,
   "metadata": {
    "colab": {
     "base_uri": "https://localhost:8080/",
     "height": 34
    },
    "id": "1pNCJ3D0pw1v",
    "outputId": "c5ad7f92-db79-400c-fa00-8ee4f13a8a94"
   },
   "outputs": [
    {
     "data": {
      "text/plain": [
       "0"
      ]
     },
     "execution_count": 37,
     "metadata": {
      "tags": []
     },
     "output_type": "execute_result"
    }
   ],
   "source": [
    "df = df.fillna(-999)\n",
    "df.isnull().sum().sum()"
   ]
  },
  {
   "cell_type": "markdown",
   "metadata": {
    "id": "P5pNqBQopyFm"
   },
   "source": [
    "**4. Split the processed dataset back into train and test datasets.**\n",
    "\n",
    "The first train.shape[0] of df are rows that belong to train and the rest are those that belong to test"
   ]
  },
  {
   "cell_type": "code",
   "execution_count": null,
   "metadata": {
    "id": "CL-1-uYapz_s"
   },
   "outputs": [],
   "source": [
    "train_proc, test_proc = df[:train.shape[0]], df[train.shape[0]:].reset_index(drop = True)\n",
    "features = [c for c in train_proc.columns if c not in [ID_COL, TARGET_COL]]"
   ]
  },
  {
   "cell_type": "code",
   "execution_count": null,
   "metadata": {
    "colab": {
     "base_uri": "https://localhost:8080/",
     "height": 34
    },
    "id": "oo3YC3geWC_Z",
    "outputId": "56abdab3-26b0-4f9c-e05c-9761b7889ac6"
   },
   "outputs": [
    {
     "data": {
      "text/plain": [
       "51"
      ]
     },
     "execution_count": 39,
     "metadata": {
      "tags": []
     },
     "output_type": "execute_result"
    }
   ],
   "source": [
    "len(features)"
   ]
  },
  {
   "cell_type": "markdown",
   "metadata": {
    "id": "_URxADdVp1yr"
   },
   "source": [
    "**5. Split the train set into train and validation sets.**\n",
    "\n",
    "We will use 80-20 split with 80% of the rows belonging to training data. Stratified Sampling is necessary, since the dataset is highly imbalanced. Stratified sampling ensures that the minority class is distributed proportionally among the two classes."
   ]
  },
  {
   "cell_type": "code",
   "execution_count": null,
   "metadata": {
    "id": "lALwWUTjp3vB"
   },
   "outputs": [],
   "source": [
    "trn, val = train_test_split(train_proc, test_size=0.2, random_state = 1, stratify = train_proc[TARGET_COL])\n",
    "\n",
    "###### Input to our model will be the features\n",
    "X_trn, X_val = trn[features], val[features]\n",
    "\n",
    "###### Output of our model will be the TARGET_COL\n",
    "y_trn, y_val = trn[TARGET_COL], val[TARGET_COL]\n",
    "\n",
    "##### Features for the test data that we will be predicting\n",
    "X_test = test_proc[features]"
   ]
  },
  {
   "cell_type": "markdown",
   "metadata": {
    "id": "1nIEVaN-p5k_"
   },
   "source": [
    "**6. Fit a classification Model on train, check its results on validation set.**"
   ]
  },
  {
   "cell_type": "markdown",
   "metadata": {
    "id": "7QFu-c5Xp_0p"
   },
   "source": [
    "##### **6A. Logistic Regression**\n",
    "\n",
    "Logistic regression is a statistical model that in its basic form uses a logistic function to model a binary dependent variable.\n",
    "\n",
    "https://en.wikipedia.org/wiki/Logistic_regression"
   ]
  },
  {
   "cell_type": "markdown",
   "metadata": {
    "id": "BQx-l1OxqAin"
   },
   "source": [
    "Normalizing and print coefs"
   ]
  },
  {
   "cell_type": "markdown",
   "metadata": {
    "id": "i43h0FurW3G4"
   },
   "source": [
    "height: 170cm, 180cm\n",
    "\n",
    "weight: 50 kg, 60 kg, 70 kg"
   ]
  },
  {
   "cell_type": "code",
   "execution_count": null,
   "metadata": {
    "colab": {
     "base_uri": "https://localhost:8080/",
     "height": 226
    },
    "id": "RPNgx14NXP6G",
    "outputId": "ff4ef513-8892-4af1-ad62-507d7fee82e0"
   },
   "outputs": [
    {
     "data": {
      "text/html": [
       "<div>\n",
       "<style scoped>\n",
       "    .dataframe tbody tr th:only-of-type {\n",
       "        vertical-align: middle;\n",
       "    }\n",
       "\n",
       "    .dataframe tbody tr th {\n",
       "        vertical-align: top;\n",
       "    }\n",
       "\n",
       "    .dataframe thead th {\n",
       "        text-align: right;\n",
       "    }\n",
       "</style>\n",
       "<table border=\"1\" class=\"dataframe\">\n",
       "  <thead>\n",
       "    <tr style=\"text-align: right;\">\n",
       "      <th></th>\n",
       "      <th>customer_age</th>\n",
       "      <th>balance</th>\n",
       "      <th>day_of_month</th>\n",
       "      <th>last_contact_duration</th>\n",
       "      <th>num_contacts_in_campaign</th>\n",
       "      <th>days_since_prev_campaign_contact</th>\n",
       "      <th>num_contacts_prev_campaign</th>\n",
       "      <th>job_type_admin.</th>\n",
       "      <th>job_type_blue-collar</th>\n",
       "      <th>job_type_entrepreneur</th>\n",
       "      <th>job_type_housemaid</th>\n",
       "      <th>job_type_management</th>\n",
       "      <th>job_type_retired</th>\n",
       "      <th>job_type_self-employed</th>\n",
       "      <th>job_type_services</th>\n",
       "      <th>job_type_student</th>\n",
       "      <th>job_type_technician</th>\n",
       "      <th>job_type_unemployed</th>\n",
       "      <th>job_type_unknown</th>\n",
       "      <th>marital_divorced</th>\n",
       "      <th>marital_married</th>\n",
       "      <th>marital_single</th>\n",
       "      <th>education_primary</th>\n",
       "      <th>education_secondary</th>\n",
       "      <th>education_tertiary</th>\n",
       "      <th>education_unknown</th>\n",
       "      <th>default_no</th>\n",
       "      <th>default_yes</th>\n",
       "      <th>housing_loan_no</th>\n",
       "      <th>housing_loan_yes</th>\n",
       "      <th>personal_loan_no</th>\n",
       "      <th>personal_loan_yes</th>\n",
       "      <th>communication_type_cellular</th>\n",
       "      <th>communication_type_telephone</th>\n",
       "      <th>communication_type_unknown</th>\n",
       "      <th>month_apr</th>\n",
       "      <th>month_aug</th>\n",
       "      <th>month_dec</th>\n",
       "      <th>month_feb</th>\n",
       "      <th>month_jan</th>\n",
       "      <th>month_jul</th>\n",
       "      <th>month_jun</th>\n",
       "      <th>month_mar</th>\n",
       "      <th>month_may</th>\n",
       "      <th>month_nov</th>\n",
       "      <th>month_oct</th>\n",
       "      <th>month_sep</th>\n",
       "      <th>prev_campaign_outcome_failure</th>\n",
       "      <th>prev_campaign_outcome_other</th>\n",
       "      <th>prev_campaign_outcome_success</th>\n",
       "      <th>prev_campaign_outcome_unknown</th>\n",
       "    </tr>\n",
       "  </thead>\n",
       "  <tbody>\n",
       "    <tr>\n",
       "      <th>21182</th>\n",
       "      <td>53.0</td>\n",
       "      <td>4963.0</td>\n",
       "      <td>8</td>\n",
       "      <td>98.0</td>\n",
       "      <td>1.0</td>\n",
       "      <td>333.0</td>\n",
       "      <td>1</td>\n",
       "      <td>0</td>\n",
       "      <td>0</td>\n",
       "      <td>0</td>\n",
       "      <td>0</td>\n",
       "      <td>0</td>\n",
       "      <td>1</td>\n",
       "      <td>0</td>\n",
       "      <td>0</td>\n",
       "      <td>0</td>\n",
       "      <td>0</td>\n",
       "      <td>0</td>\n",
       "      <td>0</td>\n",
       "      <td>0</td>\n",
       "      <td>1</td>\n",
       "      <td>0</td>\n",
       "      <td>0</td>\n",
       "      <td>1</td>\n",
       "      <td>0</td>\n",
       "      <td>0</td>\n",
       "      <td>1</td>\n",
       "      <td>0</td>\n",
       "      <td>1</td>\n",
       "      <td>0</td>\n",
       "      <td>1</td>\n",
       "      <td>0</td>\n",
       "      <td>1</td>\n",
       "      <td>0</td>\n",
       "      <td>0</td>\n",
       "      <td>0</td>\n",
       "      <td>0</td>\n",
       "      <td>0</td>\n",
       "      <td>1</td>\n",
       "      <td>0</td>\n",
       "      <td>0</td>\n",
       "      <td>0</td>\n",
       "      <td>0</td>\n",
       "      <td>0</td>\n",
       "      <td>0</td>\n",
       "      <td>0</td>\n",
       "      <td>0</td>\n",
       "      <td>0</td>\n",
       "      <td>1</td>\n",
       "      <td>0</td>\n",
       "      <td>0</td>\n",
       "    </tr>\n",
       "    <tr>\n",
       "      <th>4607</th>\n",
       "      <td>40.0</td>\n",
       "      <td>2152.0</td>\n",
       "      <td>5</td>\n",
       "      <td>310.0</td>\n",
       "      <td>2.0</td>\n",
       "      <td>169.0</td>\n",
       "      <td>1</td>\n",
       "      <td>0</td>\n",
       "      <td>1</td>\n",
       "      <td>0</td>\n",
       "      <td>0</td>\n",
       "      <td>0</td>\n",
       "      <td>0</td>\n",
       "      <td>0</td>\n",
       "      <td>0</td>\n",
       "      <td>0</td>\n",
       "      <td>0</td>\n",
       "      <td>0</td>\n",
       "      <td>0</td>\n",
       "      <td>0</td>\n",
       "      <td>1</td>\n",
       "      <td>0</td>\n",
       "      <td>0</td>\n",
       "      <td>1</td>\n",
       "      <td>0</td>\n",
       "      <td>0</td>\n",
       "      <td>1</td>\n",
       "      <td>0</td>\n",
       "      <td>0</td>\n",
       "      <td>1</td>\n",
       "      <td>1</td>\n",
       "      <td>0</td>\n",
       "      <td>1</td>\n",
       "      <td>0</td>\n",
       "      <td>0</td>\n",
       "      <td>0</td>\n",
       "      <td>0</td>\n",
       "      <td>0</td>\n",
       "      <td>0</td>\n",
       "      <td>0</td>\n",
       "      <td>0</td>\n",
       "      <td>0</td>\n",
       "      <td>0</td>\n",
       "      <td>1</td>\n",
       "      <td>0</td>\n",
       "      <td>0</td>\n",
       "      <td>0</td>\n",
       "      <td>1</td>\n",
       "      <td>0</td>\n",
       "      <td>0</td>\n",
       "      <td>0</td>\n",
       "    </tr>\n",
       "    <tr>\n",
       "      <th>14135</th>\n",
       "      <td>43.0</td>\n",
       "      <td>3.0</td>\n",
       "      <td>30</td>\n",
       "      <td>204.0</td>\n",
       "      <td>1.0</td>\n",
       "      <td>259.0</td>\n",
       "      <td>2</td>\n",
       "      <td>0</td>\n",
       "      <td>0</td>\n",
       "      <td>0</td>\n",
       "      <td>0</td>\n",
       "      <td>0</td>\n",
       "      <td>0</td>\n",
       "      <td>0</td>\n",
       "      <td>0</td>\n",
       "      <td>0</td>\n",
       "      <td>1</td>\n",
       "      <td>0</td>\n",
       "      <td>0</td>\n",
       "      <td>0</td>\n",
       "      <td>1</td>\n",
       "      <td>0</td>\n",
       "      <td>0</td>\n",
       "      <td>1</td>\n",
       "      <td>0</td>\n",
       "      <td>0</td>\n",
       "      <td>1</td>\n",
       "      <td>0</td>\n",
       "      <td>1</td>\n",
       "      <td>0</td>\n",
       "      <td>1</td>\n",
       "      <td>0</td>\n",
       "      <td>1</td>\n",
       "      <td>0</td>\n",
       "      <td>0</td>\n",
       "      <td>1</td>\n",
       "      <td>0</td>\n",
       "      <td>0</td>\n",
       "      <td>0</td>\n",
       "      <td>0</td>\n",
       "      <td>0</td>\n",
       "      <td>0</td>\n",
       "      <td>0</td>\n",
       "      <td>0</td>\n",
       "      <td>0</td>\n",
       "      <td>0</td>\n",
       "      <td>0</td>\n",
       "      <td>0</td>\n",
       "      <td>1</td>\n",
       "      <td>0</td>\n",
       "      <td>0</td>\n",
       "    </tr>\n",
       "    <tr>\n",
       "      <th>22687</th>\n",
       "      <td>30.0</td>\n",
       "      <td>6103.0</td>\n",
       "      <td>27</td>\n",
       "      <td>344.0</td>\n",
       "      <td>1.0</td>\n",
       "      <td>-999.0</td>\n",
       "      <td>0</td>\n",
       "      <td>1</td>\n",
       "      <td>0</td>\n",
       "      <td>0</td>\n",
       "      <td>0</td>\n",
       "      <td>0</td>\n",
       "      <td>0</td>\n",
       "      <td>0</td>\n",
       "      <td>0</td>\n",
       "      <td>0</td>\n",
       "      <td>0</td>\n",
       "      <td>0</td>\n",
       "      <td>0</td>\n",
       "      <td>0</td>\n",
       "      <td>0</td>\n",
       "      <td>1</td>\n",
       "      <td>0</td>\n",
       "      <td>1</td>\n",
       "      <td>0</td>\n",
       "      <td>0</td>\n",
       "      <td>1</td>\n",
       "      <td>0</td>\n",
       "      <td>1</td>\n",
       "      <td>0</td>\n",
       "      <td>1</td>\n",
       "      <td>0</td>\n",
       "      <td>0</td>\n",
       "      <td>0</td>\n",
       "      <td>1</td>\n",
       "      <td>0</td>\n",
       "      <td>0</td>\n",
       "      <td>1</td>\n",
       "      <td>0</td>\n",
       "      <td>0</td>\n",
       "      <td>0</td>\n",
       "      <td>0</td>\n",
       "      <td>0</td>\n",
       "      <td>0</td>\n",
       "      <td>0</td>\n",
       "      <td>0</td>\n",
       "      <td>0</td>\n",
       "      <td>0</td>\n",
       "      <td>0</td>\n",
       "      <td>0</td>\n",
       "      <td>1</td>\n",
       "    </tr>\n",
       "    <tr>\n",
       "      <th>2842</th>\n",
       "      <td>41.0</td>\n",
       "      <td>569.0</td>\n",
       "      <td>17</td>\n",
       "      <td>458.0</td>\n",
       "      <td>1.0</td>\n",
       "      <td>-999.0</td>\n",
       "      <td>0</td>\n",
       "      <td>0</td>\n",
       "      <td>0</td>\n",
       "      <td>0</td>\n",
       "      <td>0</td>\n",
       "      <td>0</td>\n",
       "      <td>0</td>\n",
       "      <td>0</td>\n",
       "      <td>0</td>\n",
       "      <td>0</td>\n",
       "      <td>1</td>\n",
       "      <td>0</td>\n",
       "      <td>0</td>\n",
       "      <td>0</td>\n",
       "      <td>1</td>\n",
       "      <td>0</td>\n",
       "      <td>0</td>\n",
       "      <td>1</td>\n",
       "      <td>0</td>\n",
       "      <td>0</td>\n",
       "      <td>1</td>\n",
       "      <td>0</td>\n",
       "      <td>0</td>\n",
       "      <td>1</td>\n",
       "      <td>0</td>\n",
       "      <td>1</td>\n",
       "      <td>1</td>\n",
       "      <td>0</td>\n",
       "      <td>0</td>\n",
       "      <td>1</td>\n",
       "      <td>0</td>\n",
       "      <td>0</td>\n",
       "      <td>0</td>\n",
       "      <td>0</td>\n",
       "      <td>0</td>\n",
       "      <td>0</td>\n",
       "      <td>0</td>\n",
       "      <td>0</td>\n",
       "      <td>0</td>\n",
       "      <td>0</td>\n",
       "      <td>0</td>\n",
       "      <td>0</td>\n",
       "      <td>0</td>\n",
       "      <td>0</td>\n",
       "      <td>1</td>\n",
       "    </tr>\n",
       "  </tbody>\n",
       "</table>\n",
       "</div>"
      ],
      "text/plain": [
       "       customer_age  ...  prev_campaign_outcome_unknown\n",
       "21182  53.0          ...  0                            \n",
       "4607   40.0          ...  0                            \n",
       "14135  43.0          ...  0                            \n",
       "22687  30.0          ...  1                            \n",
       "2842   41.0          ...  1                            \n",
       "\n",
       "[5 rows x 51 columns]"
      ]
     },
     "execution_count": 41,
     "metadata": {
      "tags": []
     },
     "output_type": "execute_result"
    }
   ],
   "source": [
    "X_trn.head()"
   ]
  },
  {
   "cell_type": "code",
   "execution_count": null,
   "metadata": {
    "id": "y3oRit8Uxz9F"
   },
   "outputs": [],
   "source": [
    "from sklearn.preprocessing import StandardScaler\n",
    "\n",
    "scaler = StandardScaler()\n",
    "_ = scaler.fit(X_trn)\n",
    "\n",
    "X_trn = scaler.transform(X_trn)\n",
    "X_val = scaler.transform(X_val)\n",
    "X_test = scaler.transform(X_test)"
   ]
  },
  {
   "cell_type": "code",
   "execution_count": null,
   "metadata": {
    "colab": {
     "base_uri": "https://localhost:8080/",
     "height": 34
    },
    "id": "c7GlvK_ZXd2W",
    "outputId": "b54f7997-338c-4612-8b9c-051d1bdffb3f"
   },
   "outputs": [
    {
     "data": {
      "text/plain": [
       "(25317, 51)"
      ]
     },
     "execution_count": 45,
     "metadata": {
      "tags": []
     },
     "output_type": "execute_result"
    }
   ],
   "source": [
    "X_trn.shape"
   ]
  },
  {
   "cell_type": "code",
   "execution_count": null,
   "metadata": {
    "colab": {
     "base_uri": "https://localhost:8080/",
     "height": 52
    },
    "id": "daZGdgi8XUp4",
    "outputId": "6707b7b5-7686-4b22-d250-62e4e2bef941"
   },
   "outputs": [
    {
     "data": {
      "text/plain": [
       "array([0.22766931, 0.13722697, 0.15809828, ..., 0.2137551 , 0.26245482,\n",
       "       0.19288379])"
      ]
     },
     "execution_count": 46,
     "metadata": {
      "tags": []
     },
     "output_type": "execute_result"
    }
   ],
   "source": [
    "X_trn[:,0]"
   ]
  },
  {
   "cell_type": "code",
   "execution_count": null,
   "metadata": {
    "colab": {
     "base_uri": "https://localhost:8080/",
     "height": 34
    },
    "id": "y5YHi-OvqE7B",
    "outputId": "32acef79-8385-4e86-cf00-c5c219398a6f"
   },
   "outputs": [
    {
     "data": {
      "text/plain": [
       "0.4720379146919431"
      ]
     },
     "execution_count": 47,
     "metadata": {
      "tags": []
     },
     "output_type": "execute_result"
    }
   ],
   "source": [
    "clf = LogisticRegression(random_state = 1)\n",
    "_ = clf.fit(X_trn, y_trn)\n",
    "\n",
    "preds_val = clf.predict(X_val)\n",
    "\n",
    "f1_score(y_val, preds_val)"
   ]
  },
  {
   "cell_type": "markdown",
   "metadata": {
    "id": "MQECBsXYqGtf"
   },
   "source": [
    "0.47, not bad. Much better than our rule based classifier of score 30"
   ]
  },
  {
   "cell_type": "markdown",
   "metadata": {
    "id": "6KiHVgrMqHfx"
   },
   "source": [
    "**0.463**, again near our validation score, its nice we are improving"
   ]
  },
  {
   "cell_type": "markdown",
   "metadata": {
    "id": "ICOnwdfIqJ97"
   },
   "source": [
    "##### **6B. Decision Tree**\n",
    "\n",
    "A Decision Tree is a flowchart like structure, where each node represents a decision, each branch represents an outcome of the decision, and each terminal node provides a prediction / label.\n",
    "\n",
    "https://courses.analyticsvidhya.com/courses/getting-started-with-decision-trees"
   ]
  },
  {
   "cell_type": "markdown",
   "metadata": {
    "id": "WmRZ5vgCzxAQ"
   },
   "source": [
    "Although trees don't require the data to be normalized, since our data is already normalized we will work with that."
   ]
  },
  {
   "cell_type": "code",
   "execution_count": null,
   "metadata": {
    "colab": {
     "base_uri": "https://localhost:8080/",
     "height": 34
    },
    "id": "PN4vCuNZqNZF",
    "outputId": "8d11bbba-77e1-4838-f6a1-25b40f0fa610"
   },
   "outputs": [
    {
     "data": {
      "text/plain": [
       "0.4971014492753624"
      ]
     },
     "execution_count": 49,
     "metadata": {
      "tags": []
     },
     "output_type": "execute_result"
    }
   ],
   "source": [
    "clf = DecisionTreeClassifier(random_state = 1)\n",
    "_ = clf.fit(X_trn, y_trn)\n",
    "\n",
    "preds_val = clf.predict(X_val)\n",
    "\n",
    "f1_score(y_val, preds_val)"
   ]
  },
  {
   "cell_type": "markdown",
   "metadata": {
    "id": "hcqvYP_GqPol"
   },
   "source": [
    "Decision Trees so far have given us the best validation score. "
   ]
  },
  {
   "cell_type": "markdown",
   "metadata": {
    "id": "fuAtlS220HAW"
   },
   "source": [
    "**0.4812**, slight improvement over our Logistic Regression scores"
   ]
  },
  {
   "cell_type": "markdown",
   "metadata": {
    "id": "HFZ6ntFsxRzf"
   },
   "source": [
    "# **Hyperparameter Tuning**\n",
    "\n",
    "In our decision tree model earlier, we did not change any of the parameters that were input to our model. However hyper-parameters and their values vary from dataset to dataset, and their optimal values have a large impact on the performance of our model.\n",
    "\n",
    "To perform hyperparameter-tuning we specify a list of hyper-parameters to tune and their possible values.\n",
    "\n",
    "For example:\n",
    "```\n",
    "max_depth: [6, 9, 12, 15]\n",
    "learning_rate: [0.0001, 0.005, 0.01, 0.05]\n",
    "```\n",
    "\n",
    "etc."
   ]
  },
  {
   "cell_type": "markdown",
   "metadata": {
    "id": "pfYCDeHLxeJ-"
   },
   "source": [
    "## **1. Grid Search**\n",
    "\n",
    "In grid search we try all possible combinations from the values of hyperparameters provided, to find the optimal hyper-parameter combination. However as the number of hyperparameters and their possible values grows, doing a grid search becomes infeasible.\n",
    "\n",
    "Consider there are 5 hyperparameters to tune, and each of them 5 have different possible values.\n",
    "\n",
    "Then total possible combinations of hyperparameters will be:\n",
    "\n",
    "5 x 5 x 5 x 5 x 5 = 3125.\n",
    "\n",
    "So you will have to wait for your model to run 3125 times, before getting the optimal set of hyperparameters.\n",
    "\n",
    "If you still think you want to run it these many times, you are most welcome :)"
   ]
  },
  {
   "cell_type": "markdown",
   "metadata": {
    "id": "ZV78ROf-pV1P"
   },
   "source": [
    "\n",
    "# **2. Random Search**\n",
    "\n",
    "In random search we will run our model only a fixed number of times, say 10, and among these 10 runs we will return the best hyper-parameter combination. Yes, you are right, this may not be the optimal hyper-parameter combination. But, it saves much more time, so we will go for random search."
   ]
  },
  {
   "cell_type": "code",
   "execution_count": null,
   "metadata": {
    "id": "waYWdB2ksSv1"
   },
   "outputs": [],
   "source": [
    "?DecisionTreeClassifier()"
   ]
  },
  {
   "cell_type": "code",
   "execution_count": null,
   "metadata": {
    "colab": {
     "base_uri": "https://localhost:8080/",
     "height": 121
    },
    "id": "XunDtouppVSm",
    "outputId": "6ee7d841-77a6-4360-9434-87ed94c54da7"
   },
   "outputs": [
    {
     "data": {
      "text/plain": [
       "{'class_weight': {0: 1, 1: 3},\n",
       " 'criterion': 'gini',\n",
       " 'max_depth': 10,\n",
       " 'max_features': 0.8,\n",
       " 'max_leaf_nodes': 32,\n",
       " 'min_samples_split': 20}"
      ]
     },
     "execution_count": 52,
     "metadata": {
      "tags": []
     },
     "output_type": "execute_result"
    }
   ],
   "source": [
    "from sklearn.model_selection import RandomizedSearchCV\n",
    "\n",
    "hyperparam_combs = {\n",
    "    'max_depth': [4, 6, 8, 10, 12],\n",
    "    'criterion': ['gini', 'entropy'],\n",
    "    'min_samples_split': [2, 10, 20, 30, 40],\n",
    "    'max_features': [0.2, 0.4, 0.6, 0.8, 1],\n",
    "    'max_leaf_nodes': [8, 16, 32, 64, 128],\n",
    "    'class_weight': [{0: 1, 1: 1}, {0: 1, 1: 2}, {0: 1, 1: 3}, {0: 1, 1: 4}, {0: 1, 1: 5}]\n",
    "}\n",
    "\n",
    "clf = RandomizedSearchCV(DecisionTreeClassifier(),\n",
    "                         hyperparam_combs,\n",
    "                         scoring='f1',\n",
    "                         random_state=1,\n",
    "                         n_iter=20)\n",
    "\n",
    "search = clf.fit(train_proc[features], train_proc[TARGET_COL])\n",
    "\n",
    "search.best_params_"
   ]
  },
  {
   "cell_type": "code",
   "execution_count": null,
   "metadata": {
    "colab": {
     "base_uri": "https://localhost:8080/",
     "height": 34
    },
    "id": "ujVJbDU7uJW8",
    "outputId": "6705e516-f4b4-4509-a1bd-8a9190c1947a"
   },
   "outputs": [
    {
     "data": {
      "text/plain": [
       "0.5991661703394877"
      ]
     },
     "execution_count": 53,
     "metadata": {
      "tags": []
     },
     "output_type": "execute_result"
    }
   ],
   "source": [
    "optimal_params = {'class_weight': {0: 1, 1: 3},\n",
    " 'criterion': 'gini',\n",
    " 'max_depth': 10,\n",
    " 'max_features': 0.8,\n",
    " 'max_leaf_nodes': 32,\n",
    " 'min_samples_split': 20}\n",
    "\n",
    "clf = DecisionTreeClassifier(random_state = 1, **optimal_params)\n",
    "_ = clf.fit(X_trn, y_trn)\n",
    "\n",
    "preds_val = clf.predict(X_val)\n",
    "\n",
    "f1_score(y_val, preds_val)"
   ]
  },
  {
   "cell_type": "markdown",
   "metadata": {
    "id": "VEx6eFpp00h4"
   },
   "source": [
    "**0.60**, that's quite a boost, a big boost , hyperparameter tuning is definitely important"
   ]
  },
  {
   "cell_type": "markdown",
   "metadata": {
    "id": "dsKCzsY4xlun"
   },
   "source": [
    "**Exercise**\n",
    "\n",
    "Try the same thing, i.e. RandomSearchCV for Logistic Regression.\n",
    "\n",
    "* Does the performance improve over basic LogisticRegression ?\n",
    "* Does the performance improve over DecisionTree ?\n",
    "\n",
    "Try other Classifiers in Scikit-Learn such as SVMs, Naive-Bayes, NNs, RandomForests etc. Then try to answer the following questions.\n",
    "\n",
    "* Which algorithm performs the best ?\n",
    "* Which algorithm takes the longest to run ?"
   ]
  },
  {
   "cell_type": "markdown",
   "metadata": {
    "id": "rUfLUZaY4t4Q"
   },
   "source": [
    "# **Validation Strategy.**\n",
    "\n",
    "**Problems with simple train_test_split validation**\n",
    "\n",
    "* We are not using complete 100 % of the dataset for training. More data implies more performance, if the data quality is good.\n",
    "\n",
    "* We are not using complete 100 % of the dataset for validation. Our validation now is biased towards the validation set we have got through train_test_split. What if the test set is different from the validation set ?\n"
   ]
  },
  {
   "cell_type": "markdown",
   "metadata": {
    "id": "Ovx1ULbo5ayK"
   },
   "source": [
    "## **K-Fold Validation**\n",
    "\n"
   ]
  },
  {
   "cell_type": "markdown",
   "metadata": {
    "id": "pfVPUUEs52DM"
   },
   "source": []
  },
  {
   "cell_type": "markdown",
   "metadata": {
    "id": "xyJHezYm_TKP"
   },
   "source": [
    "Now for each of these parts, we take them as validation one by one and rest of the parts for training. The unshaded or white box, represents the part among A, B, C, D, and E, that we take for validation. Rest are used for training in that particular fold.\n",
    "Then we make two predictions (shown in the right hand side of the diagram):\n",
    "\n",
    "**1. Predictions for the validation set:** This is also known as out-of-fold prediction.\n",
    "\n",
    "\n",
    "Finally if we combine the predictions for each of these folds we get OOFs or Out-of-Folds predictions. This is the prediction for the entire dataset. We can now see the performance our classifier on the entire training set.\n",
    "\n",
    "Also we take the mean of the test predictions for each fold, and get our final test_predictions. We then need to round it to 0 or 1, since our metric demands we submit a discrete output, ie. no probabilities. "
   ]
  },
  {
   "cell_type": "markdown",
   "metadata": {
    "id": "LuiKVRlYD9lN"
   },
   "source": []
  },
  {
   "cell_type": "markdown",
   "metadata": {
    "id": "sDqmmzWH7yDz"
   },
   "source": [
    "## **Stratified K-Fold.**\n",
    "\n",
    "One obvious problem with normal KFold, is that each in each fold the distribution of classes in the validation set, will be not be same. This is a big problem with imbalanced datasets. \n",
    "\n",
    "In our above example its possible that in any of the splits we could have could have a validation set with no positive examples. \n",
    "\n",
    "To overcome this problem we will use Stratified-KFold Validation. StratifiedKFold ensures that each of the splits have same proportion of examples of each class.\n",
    "\n"
   ]
  },
  {
   "cell_type": "markdown",
   "metadata": {
    "id": "CyaRIG2lMXYx"
   },
   "source": []
  },
  {
   "cell_type": "markdown",
   "metadata": {
    "id": "O2pz4LK5N2yT"
   },
   "source": [
    "On a side note seeing so many arrows, reminds of Neural Networks."
   ]
  },
  {
   "cell_type": "markdown",
   "metadata": {
    "id": "Z3vLCFXzMhRx"
   },
   "source": [
    "Lets make our Decision Tree Model with Stratified KFold Validation"
   ]
  },
  {
   "cell_type": "markdown",
   "metadata": {
    "id": "1nBO0xPKpUCI"
   },
   "source": [
    "**Function to Run KFold**"
   ]
  },
  {
   "cell_type": "code",
   "execution_count": null,
   "metadata": {
    "id": "4J7qwXeHeTGI"
   },
   "outputs": [],
   "source": [
    "from sklearn.model_selection import StratifiedKFold"
   ]
  },
  {
   "cell_type": "code",
   "execution_count": null,
   "metadata": {
    "id": "gOdiBDxU4tcb"
   },
   "outputs": [],
   "source": [
    "def run_clf_kfold(clf, train, test, features):\n",
    "\n",
    "  N_SPLITS = 5\n",
    "\n",
    "  oofs = np.zeros(len(train))\n",
    "  preds = np.zeros((len(test)))\n",
    "\n",
    "  folds = StratifiedKFold(n_splits = N_SPLITS)\n",
    "\n",
    "  for fold_, (trn_idx, val_idx) in enumerate(folds.split(train, train[TARGET_COL])):\n",
    "    print(f'\\n------------- Fold {fold_ + 1} -------------')\n",
    "\n",
    "    ############# Get train, validation and test sets along with targets ################\n",
    "  \n",
    "    ### Training Set\n",
    "    X_trn, y_trn = train[features].iloc[trn_idx], target.iloc[trn_idx]\n",
    "\n",
    "    ### Validation Set\n",
    "    X_val, y_val = train[features].iloc[val_idx], target.iloc[val_idx]\n",
    "\n",
    "    ### Test Set\n",
    "    X_test = test[features]\n",
    "\n",
    "    ############# Scaling Data ################\n",
    "    scaler = StandardScaler()\n",
    "    _ = scaler.fit(X_trn)\n",
    "\n",
    "    X_trn = scaler.transform(X_trn)\n",
    "    X_val = scaler.transform(X_val)\n",
    "    X_test = scaler.transform(X_test)\n",
    "\n",
    "\n",
    "    ############# Fitting and Predicting ################\n",
    "\n",
    "    _ = clf.fit(X_trn, y_trn)\n",
    "\n",
    "    ### Instead of directly predicting the classes we will obtain the probability of positive class.\n",
    "    preds_val = clf.predict_proba(X_val)[:, 1]\n",
    "    preds_test = clf.predict_proba(X_test)[:, 1]\n",
    "\n",
    "    fold_score = f1_score(y_val, preds_val.round())\n",
    "    print(f'\\nF1 score for validation set is {fold_score}')\n",
    "\n",
    "    oofs[val_idx] = preds_val\n",
    "    preds += preds_test / N_SPLITS\n",
    "\n",
    "\n",
    "  oofs_score = f1_score(target, oofs.round())\n",
    "  print(f'\\n\\nF1 score for oofs is {oofs_score}')\n",
    "\n",
    "  return oofs, preds"
   ]
  },
  {
   "cell_type": "markdown",
   "metadata": {
    "id": "3uGqrNqopZPx"
   },
   "source": [
    "**KFold on Decision Tree**"
   ]
  },
  {
   "cell_type": "code",
   "execution_count": null,
   "metadata": {
    "id": "FjIATWzKfHIG"
   },
   "outputs": [],
   "source": [
    "target = train[TARGET_COL]"
   ]
  },
  {
   "cell_type": "code",
   "execution_count": null,
   "metadata": {
    "colab": {
     "base_uri": "https://localhost:8080/",
     "height": 417
    },
    "id": "LurQ688clcdW",
    "outputId": "feb01422-ceb0-4f70-8649-ef66a66d72b5"
   },
   "outputs": [
    {
     "name": "stdout",
     "output_type": "stream",
     "text": [
      "\n",
      "------------- Fold 1 -------------\n",
      "\n",
      "F1 score for validation set is 0.5905905905905906\n",
      "\n",
      "------------- Fold 2 -------------\n",
      "\n",
      "F1 score for validation set is 0.6178307779670643\n",
      "\n",
      "------------- Fold 3 -------------\n",
      "\n",
      "F1 score for validation set is 0.5911330049261083\n",
      "\n",
      "------------- Fold 4 -------------\n",
      "\n",
      "F1 score for validation set is 0.5931428571428572\n",
      "\n",
      "------------- Fold 5 -------------\n",
      "\n",
      "F1 score for validation set is 0.5881045025013897\n",
      "\n",
      "\n",
      "F1 score for oofs is 0.5958449346755194\n"
     ]
    }
   ],
   "source": [
    "dt_params = {'class_weight': {0: 1, 1: 3},\n",
    "             'criterion': 'gini',\n",
    "             'max_depth': 10,\n",
    "             'max_features': 0.8,\n",
    "             'max_leaf_nodes': 32,\n",
    "             'min_samples_split': 20,\n",
    "             'random_state': 1\n",
    "             }\n",
    "\n",
    "clf = DecisionTreeClassifier(**dt_params)\n",
    "        \n",
    "\n",
    "dt_oofs, dt_preds = run_clf_kfold(clf, train_proc, test_proc, features)"
   ]
  },
  {
   "cell_type": "markdown",
   "metadata": {
    "id": "3VN9ndjW13WM"
   },
   "source": [
    "**0.5838**, little worse than our best LB score, but not much of a difference"
   ]
  },
  {
   "cell_type": "markdown",
   "metadata": {
    "id": "e60_DgYIvX62"
   },
   "source": [
    "# **Gradient Boosting**\n",
    "\n",
    "Gradient boosting is a machine learning technique for regression and classification problems, which produces a prediction model in the form of an ensemble of weak prediction models, typically decision trees. It builds the model in a stage-wise fashion like other boosting methods do, and it generalizes them by allowing optimization of an arbitrary differentiable loss function.\n",
    "\n",
    "https://en.wikipedia.org/wiki/Gradient_boosting\n",
    "\n",
    "https://www.analyticsvidhya.com/blog/2020/02/4-boosting-algorithms-machine-learning/\n",
    "\n",
    "Most Popular Variants of GradientBoosting\n",
    "----------------------------\n",
    "\n",
    "1. LightGBM\n",
    "\n",
    "2. XGBoost\n",
    "\n",
    "3. CatBoost"
   ]
  },
  {
   "cell_type": "markdown",
   "metadata": {
    "id": "9BWth6KqzoPV"
   },
   "source": [
    " ## **LightGBM**\n",
    "\n",
    "LightGBM is a gradient boosting framework that uses tree based learning algorithms. It is designed to be distributed and efficient with the following advantages:\n",
    "\n",
    "* Faster training speed and higher efficiency.\n",
    "\n",
    "* Lower memory usage.\n",
    "\n",
    "* Better accuracy.\n",
    "\n",
    "* Support of parallel and GPU learning.\n",
    "\n",
    "* Capable of handling large-scale data.\n",
    "\n",
    "https://lightgbm.readthedocs.io/en/latest/"
   ]
  },
  {
   "cell_type": "code",
   "execution_count": null,
   "metadata": {
    "id": "a-95loGCgbyM"
   },
   "outputs": [],
   "source": [
    "from lightgbm import LGBMClassifier"
   ]
  },
  {
   "cell_type": "code",
   "execution_count": null,
   "metadata": {
    "colab": {
     "base_uri": "https://localhost:8080/",
     "height": 417
    },
    "id": "Abf6cj4fq4ZM",
    "outputId": "fa35ecce-eb66-49ec-9faf-1b8f2d073ee4"
   },
   "outputs": [
    {
     "name": "stdout",
     "output_type": "stream",
     "text": [
      "\n",
      "------------- Fold 1 -------------\n",
      "\n",
      "F1 score for validation set is 0.5797101449275361\n",
      "\n",
      "------------- Fold 2 -------------\n",
      "\n",
      "F1 score for validation set is 0.5985518905872887\n",
      "\n",
      "------------- Fold 3 -------------\n",
      "\n",
      "F1 score for validation set is 0.5746753246753248\n",
      "\n",
      "------------- Fold 4 -------------\n",
      "\n",
      "F1 score for validation set is 0.5987055016181231\n",
      "\n",
      "------------- Fold 5 -------------\n",
      "\n",
      "F1 score for validation set is 0.5623471882640587\n",
      "\n",
      "\n",
      "F1 score for oofs is 0.5828478964401295\n"
     ]
    }
   ],
   "source": [
    "clf = LGBMClassifier()\n",
    "lgb_oofs, lgb_preds = run_clf_kfold(clf, train_proc, test_proc, features)"
   ]
  },
  {
   "cell_type": "code",
   "execution_count": null,
   "metadata": {
    "colab": {
     "base_uri": "https://localhost:8080/",
     "height": 35
    },
    "id": "AS-V84lQhbWF",
    "outputId": "012c4a6f-5d4d-456b-9de3-a4c24cac2e50"
   },
   "outputs": [
    {
     "data": {
      "text/plain": [
       "array([0., 0., 0., 1., 0.])"
      ]
     },
     "execution_count": 64,
     "metadata": {
      "tags": []
     },
     "output_type": "execute_result"
    }
   ],
   "source": [
    "preds = np.array([0.2, 0.4, 0.35, 0.7, 0.21])\n",
    "preds.round()"
   ]
  },
  {
   "cell_type": "markdown",
   "metadata": {
    "id": "QH8-gPCG9BQv"
   },
   "source": [
    "### **Hacking F1_Score or Threshold optimization**\n",
    "\n",
    "Rounding off means you are selecting a threshold of 0.5. Any predictions with probabilities greater than or equal to 0.5 will be rounded to 1, rest will be rounded to 0.\n",
    "\n",
    "But is 0.5 the best threshold to get an optimal F1-score ?\n",
    "\n",
    "Lets verify it ourselves by running all threholds from 0.01,0.02 to 0.99."
   ]
  },
  {
   "cell_type": "code",
   "execution_count": null,
   "metadata": {
    "colab": {
     "base_uri": "https://localhost:8080/",
     "height": 1000
    },
    "id": "QV5W4h0RsXgZ",
    "outputId": "19f5c4f9-d979-4117-f4ea-2ce953a1dd67"
   },
   "outputs": [
    {
     "name": "stdout",
     "output_type": "stream",
     "text": [
      "Threshold 0.0: 0.19371593276447588\n",
      "Threshold 0.01: 0.402852897473997\n",
      "Threshold 0.02: 0.480711743772242\n",
      "Threshold 0.03: 0.5229929851909586\n",
      "Threshold 0.04: 0.5470043439062371\n",
      "Threshold 0.05: 0.5652543814871533\n",
      "Threshold 0.06: 0.5774080560420315\n",
      "Threshold 0.07: 0.588689407540395\n",
      "Threshold 0.08: 0.5969027765050857\n",
      "Threshold 0.09: 0.6052557748059478\n",
      "Threshold 0.1: 0.6131859756097561\n",
      "Threshold 0.11: 0.6179240702980872\n",
      "Threshold 0.12: 0.6228182624987674\n",
      "Threshold 0.13: 0.627392044885282\n",
      "Threshold 0.14: 0.6309039087947882\n",
      "Threshold 0.15: 0.6322633914748684\n",
      "Threshold 0.16: 0.6337276248298963\n",
      "Threshold 0.17: 0.6366436537440254\n",
      "Threshold 0.18: 0.6390710676271368\n",
      "Threshold 0.19: 0.6401391606871059\n",
      "Threshold 0.2: 0.6435894609194136\n",
      "Threshold 0.21: 0.6456798392498325\n",
      "Threshold 0.22: 0.6452050152490681\n",
      "Threshold 0.23: 0.6462135036496351\n",
      "Threshold 0.24: 0.6475419317524581\n",
      "Threshold 0.25: 0.6483889865260692\n",
      "Threshold 0.26: 0.6486165538534615\n",
      "Threshold 0.27: 0.6495130455693159\n",
      "Threshold 0.28: 0.6484774665042632\n",
      "Threshold 0.29: 0.6469208934962359\n",
      "Threshold 0.3: 0.6483310413801725\n",
      "Threshold 0.31: 0.6468354430379747\n",
      "Threshold 0.32: 0.6455582617613127\n",
      "Threshold 0.33: 0.645571261833744\n",
      "Threshold 0.34: 0.6442547603414315\n",
      "Threshold 0.35: 0.6428286587797422\n",
      "Threshold 0.36: 0.640677510418067\n",
      "Threshold 0.37: 0.6360539583049462\n",
      "Threshold 0.38: 0.6327574291637871\n",
      "Threshold 0.39: 0.62989921612542\n",
      "Threshold 0.4: 0.626628895184136\n",
      "Threshold 0.41: 0.622866159804906\n",
      "Threshold 0.42: 0.6214213050428717\n",
      "Threshold 0.43: 0.6162448499117129\n",
      "Threshold 0.44: 0.6104824300178677\n",
      "Threshold 0.45: 0.6087481146304675\n",
      "Threshold 0.46: 0.6047648136835675\n",
      "Threshold 0.47: 0.5989769028057665\n",
      "Threshold 0.48: 0.5944418276024493\n",
      "Threshold 0.49: 0.5892288081580624\n",
      "Threshold 0.5: 0.5828478964401295\n",
      "Threshold 0.51: 0.5771701531872838\n",
      "Threshold 0.52: 0.5701857118955997\n",
      "Threshold 0.53: 0.5638406537282942\n",
      "Threshold 0.54: 0.556035227076498\n",
      "Threshold 0.55: 0.5457740291688631\n",
      "Threshold 0.56: 0.539281905439033\n",
      "Threshold 0.57: 0.531018267317779\n",
      "Threshold 0.58: 0.5213879199559391\n",
      "Threshold 0.59: 0.508791619902731\n",
      "Threshold 0.6: 0.4978149344480334\n",
      "Threshold 0.61: 0.48489542989930284\n",
      "Threshold 0.62: 0.472326176876108\n",
      "Threshold 0.63: 0.4621227263641815\n",
      "Threshold 0.64: 0.44204081632653064\n",
      "Threshold 0.65: 0.4298445595854922\n",
      "Threshold 0.66: 0.41341489137312804\n",
      "Threshold 0.67: 0.4027420736932305\n",
      "Threshold 0.68: 0.3865472810657349\n",
      "Threshold 0.69: 0.3714539007092199\n",
      "Threshold 0.7: 0.35624438454627133\n",
      "Threshold 0.71: 0.3451568894952251\n",
      "Threshold 0.72: 0.3281790906992846\n",
      "Threshold 0.73: 0.31391812865497076\n",
      "Threshold 0.74: 0.29995253915519693\n",
      "Threshold 0.75: 0.2878423834694858\n",
      "Threshold 0.76: 0.2726387536514119\n",
      "Threshold 0.77: 0.2626014261126137\n",
      "Threshold 0.78: 0.2491280518186348\n",
      "Threshold 0.79: 0.2352052379753211\n",
      "Threshold 0.8: 0.22233528364283894\n",
      "Threshold 0.81: 0.2102827763496144\n",
      "Threshold 0.82: 0.1911956238603803\n",
      "Threshold 0.83: 0.17251384858876284\n",
      "Threshold 0.84: 0.14721627408993573\n",
      "Threshold 0.85: 0.12794795337489837\n",
      "Threshold 0.86: 0.11345574129898602\n",
      "Threshold 0.87: 0.09386281588447655\n",
      "Threshold 0.88: 0.08223776223776225\n",
      "Threshold 0.89: 0.06677985285795135\n",
      "Threshold 0.9: 0.049771167048054926\n",
      "Threshold 0.91: 0.03690888119953864\n",
      "Threshold 0.92: 0.026117237376668604\n",
      "Threshold 0.93: 0.016345592527729127\n",
      "Threshold 0.94: 0.008797653958944282\n",
      "Threshold 0.95: 0.003529411764705883\n",
      "Threshold 0.96: 0.000589101620029455\n",
      "Threshold 0.97: 0.0\n",
      "Threshold 0.98: 0.0\n",
      "Threshold 0.99: 0.0\n"
     ]
    }
   ],
   "source": [
    "thresholds = np.arange(0, 100)/100\n",
    "for thresh in thresholds:\n",
    "  oofs_rounded = (lgb_oofs > thresh) * 1\n",
    "  thresh_score = f1_score(target, oofs_rounded)\n",
    "  print(f'Threshold {thresh}: {thresh_score}')"
   ]
  },
  {
   "cell_type": "code",
   "execution_count": null,
   "metadata": {
    "id": "Hwoc7LDos2_O"
   },
   "outputs": [],
   "source": [
    "def get_optimal_f1_thresh(target, oofs):\n",
    "  thresholds = np.arange(0, 100)/100\n",
    "  thresh_scores = []\n",
    "  for thresh in thresholds:\n",
    "    oofs_rounded = (lgb_oofs > thresh) * 1\n",
    "    thresh_score = f1_score(target, oofs_rounded)\n",
    "    thresh_scores.append(thresh_score)\n",
    "  \n",
    "  all_thresholds_and_scores = pd.Series(index = thresholds, data = thresh_scores)\n",
    "  all_thresholds_and_scores.plot(figsize=(10, 6), fontsize=14)\n",
    "  \n",
    "  plt.xlabel('Threshold', fontsize=14)\n",
    "  plt.ylabel('F1 Score', fontsize=14)\n",
    "\n",
    "  return all_thresholds_and_scores.sort_values(ascending=False).index.values[0]"
   ]
  },
  {
   "cell_type": "code",
   "execution_count": null,
   "metadata": {
    "colab": {
     "base_uri": "https://localhost:8080/",
     "height": 428
    },
    "id": "z2YEESjjt6W-",
    "outputId": "abb8a805-c599-4d25-d800-33273c4a6508"
   },
   "outputs": [
    {
     "name": "stdout",
     "output_type": "stream",
     "text": [
      "Optimal threhold is 0.27\n"
     ]
    },
    {
     "data": {
      "text/plain": [
       "0.6495130455693159"
      ]
     },
     "execution_count": 67,
     "metadata": {
      "tags": []
     },
     "output_type": "execute_result"
    },
    {
     "data": {
      "image/png": "[encoded data removed]",
      "text/plain": [
       "<Figure size 720x432 with 1 Axes>"
      ]
     },
     "metadata": {
      "tags": []
     },
     "output_type": "display_data"
    }
   ],
   "source": [
    "optimal_thresh = get_optimal_f1_thresh(target, lgb_oofs)\n",
    "print(f'Optimal threhold is {optimal_thresh}')\n",
    "f1_score(target, (lgb_oofs > optimal_thresh) * 1)"
   ]
  },
  {
   "cell_type": "markdown",
   "metadata": {
    "id": "QDqVsVR93bCG"
   },
   "source": [
    "**0.6616**, now that's the LGB we know."
   ]
  },
  {
   "cell_type": "markdown",
   "metadata": {
    "id": "K8zkhlV4xeF0"
   },
   "source": [
    "    ### **Tuning LightGBM**\n",
    "\n",
    "    * Early Stopping: Stopping the model training, when the model starts to overfit\n",
    "      * How do we know if model is overfitting ?\n",
    "    * HyperParameter Optimization.\n",
    "      * Is random search the best way to go ?"
   ]
  },
  {
   "cell_type": "markdown",
   "metadata": {
    "id": "9DloGAfAqixR"
   },
   "source": [
    "**Simple Function to Run Gradient Boosting**\n",
    "\n",
    "Let's make a simple function to call gradient boosting and get our oofs and predictions. Rather than copying and pasting the same code again and again/"
   ]
  },
  {
   "cell_type": "code",
   "execution_count": null,
   "metadata": {
    "id": "6kpppxN39l4d"
   },
   "outputs": [],
   "source": [
    "def run_gradient_boosting(clf, fit_params, train, test, features):\n",
    "    N_SPLITS = 5\n",
    "    oofs = np.zeros(len(train_proc))\n",
    "    preds = np.zeros((len(test_proc)))\n",
    "\n",
    "  folds = StratifiedKFold(n_splits = N_SPLITS)\n",
    "\n",
    "    for fold_, (trn_idx, val_idx) in enumerate(folds.split(train, train[TARGET_COL])):\n",
    "        print(f'\\n------------- Fold {fold_ + 1} -------------')\n",
    "\n",
    "        ### Training Set\n",
    "        X_trn, y_trn = train[features].iloc[trn_idx], target.iloc[trn_idx]\n",
    "\n",
    "        ### Validation Set\n",
    "        X_val, y_val = train[features].iloc[val_idx], target.iloc[val_idx]\n",
    "\n",
    "        ### Test Set\n",
    "        X_test = test[features]\n",
    "\n",
    "        scaler = StandardScaler()\n",
    "        _ = scaler.fit(X_trn)\n",
    "\n",
    "        X_trn = scaler.transform(X_trn)\n",
    "        X_val = scaler.transform(X_val)\n",
    "        X_test = scaler.transform(X_test)\n",
    "\n",
    "        _ = clf.fit(X_trn, y_trn, eval_set = [(X_val, y_val)], **fit_params)\n",
    "\n",
    "        ### Instead of directly predicting the classes we will obtain the probability of positive class.\n",
    "        preds_val = clf.predict_proba(X_val)[:, 1]\n",
    "        preds_test = clf.predict_proba(X_test)[:, 1]\n",
    "\n",
    "        fold_score = f1_score(y_val, preds_val.round())\n",
    "        print(f'\\nF1 score for validation set is {fold_score}')\n",
    "\n",
    "        oofs[val_idx] = preds_val\n",
    "        preds += preds_test / N_SPLITS\n",
    "\n",
    "\n",
    "    oofs_score = f1_score(target, oofs.round())\n",
    "    print(f'\\n\\nF1 score for oofs is {oofs_score}')\n",
    "\n",
    "    return oofs, preds"
   ]
  },
  {
   "cell_type": "markdown",
   "metadata": {
    "id": "Dj6t6uSTqpWQ"
   },
   "source": [
    "**Manual Tuning. Choosing Hyperparameters to Tune**"
   ]
  },
  {
   "cell_type": "code",
   "execution_count": null,
   "metadata": {
    "colab": {
     "base_uri": "https://localhost:8080/",
     "height": 1000
    },
    "id": "ZRbCsJYwxdqb",
    "outputId": "bf8a854e-591b-4232-c8e8-f2b416b76910"
   },
   "outputs": [
    {
     "name": "stdout",
     "output_type": "stream",
     "text": [
      "\n",
      "------------- Fold 1 -------------\n",
      "Training until validation scores don't improve for 100 rounds.\n",
      "[100]\tvalid_0's binary_logloss: 0.167919\n",
      "[200]\tvalid_0's binary_logloss: 0.165527\n",
      "[300]\tvalid_0's binary_logloss: 0.165441\n",
      "Early stopping, best iteration is:\n",
      "[210]\tvalid_0's binary_logloss: 0.165302\n",
      "\n",
      "F1 score for validation set is 0.5844897959183674\n",
      "\n",
      "------------- Fold 2 -------------\n",
      "Training until validation scores don't improve for 100 rounds.\n",
      "[100]\tvalid_0's binary_logloss: 0.165002\n",
      "[200]\tvalid_0's binary_logloss: 0.159994\n",
      "[300]\tvalid_0's binary_logloss: 0.1601\n",
      "Early stopping, best iteration is:\n",
      "[241]\tvalid_0's binary_logloss: 0.159718\n",
      "\n",
      "F1 score for validation set is 0.5933170334148329\n",
      "\n",
      "------------- Fold 3 -------------\n",
      "Training until validation scores don't improve for 100 rounds.\n",
      "[100]\tvalid_0's binary_logloss: 0.169094\n",
      "[200]\tvalid_0's binary_logloss: 0.164644\n",
      "[300]\tvalid_0's binary_logloss: 0.163774\n",
      "[400]\tvalid_0's binary_logloss: 0.163958\n",
      "Early stopping, best iteration is:\n",
      "[327]\tvalid_0's binary_logloss: 0.163352\n",
      "\n",
      "F1 score for validation set is 0.5690923957481603\n",
      "\n",
      "------------- Fold 4 -------------\n",
      "Training until validation scores don't improve for 100 rounds.\n",
      "[100]\tvalid_0's binary_logloss: 0.165466\n",
      "[200]\tvalid_0's binary_logloss: 0.160598\n",
      "[300]\tvalid_0's binary_logloss: 0.160831\n",
      "Early stopping, best iteration is:\n",
      "[225]\tvalid_0's binary_logloss: 0.160117\n",
      "\n",
      "F1 score for validation set is 0.5811258278145696\n",
      "\n",
      "------------- Fold 5 -------------\n",
      "Training until validation scores don't improve for 100 rounds.\n",
      "[100]\tvalid_0's binary_logloss: 0.173628\n",
      "[200]\tvalid_0's binary_logloss: 0.170091\n",
      "[300]\tvalid_0's binary_logloss: 0.170198\n",
      "Early stopping, best iteration is:\n",
      "[240]\tvalid_0's binary_logloss: 0.16962\n",
      "\n",
      "F1 score for validation set is 0.5630114566284778\n",
      "\n",
      "\n",
      "F1 score for oofs is 0.5782145782145783\n",
      "Optimal threhold is 0.28\n",
      "Optimized F1 is 0.6533854803226596\n"
     ]
    },
    {
     "data": {
      "image/png": "[encoded data removed]",
      "text/plain": [
       "<Figure size 720x432 with 1 Axes>"
      ]
     },
     "metadata": {
      "tags": []
     },
     "output_type": "display_data"
    }
   ],
   "source": [
    "clf = LGBMClassifier(n_estimators = 1000,\n",
    "                        learning_rate = 0.05,\n",
    "                        colsample_bytree = 0.76,\n",
    "                        )\n",
    "fit_params = {'verbose': 100, 'early_stopping_rounds': 100}\n",
    "\n",
    "lgb_oofs, lgb_preds = run_gradient_boosting(clf, fit_params, train_proc, test_proc, features)\n",
    "\n",
    "optimal_thresh = get_optimal_f1_thresh(target, lgb_oofs)\n",
    "print(f'Optimal threhold is {optimal_thresh}')\n",
    "optimized_f1 = f1_score(target, (lgb_oofs > optimal_thresh) * 1)\n",
    "print(f'Optimized F1 is {optimized_f1}')"
   ]
  },
  {
   "cell_type": "markdown",
   "metadata": {
    "id": "BMCAahd24STf"
   },
   "source": [
    "**0.6559**, CV increased but LB decreased :("
   ]
  },
  {
   "cell_type": "markdown",
   "metadata": {
    "id": "2MLqmluS4vY5"
   },
   "source": [
    "**Tuning Learning Rate**"
   ]
  },
  {
   "cell_type": "code",
   "execution_count": null,
   "metadata": {
    "colab": {
     "base_uri": "https://localhost:8080/",
     "height": 1000
    },
    "id": "KdWArHx-u0UC",
    "outputId": "065ebc20-4cfe-46f4-9851-d5530fc7cbd4"
   },
   "outputs": [
    {
     "name": "stdout",
     "output_type": "stream",
     "text": [
      "\n",
      "------------- Fold 1 -------------\n",
      "Training until validation scores don't improve for 200 rounds.\n",
      "[200]\tvalid_0's binary_logloss: 0.191005\n",
      "[400]\tvalid_0's binary_logloss: 0.173029\n",
      "[600]\tvalid_0's binary_logloss: 0.167575\n",
      "[800]\tvalid_0's binary_logloss: 0.165652\n",
      "[1000]\tvalid_0's binary_logloss: 0.165193\n",
      "[1200]\tvalid_0's binary_logloss: 0.165259\n",
      "Early stopping, best iteration is:\n",
      "[1073]\tvalid_0's binary_logloss: 0.165143\n",
      "\n",
      "F1 score for validation set is 0.5901639344262296\n",
      "\n",
      "------------- Fold 2 -------------\n",
      "Training until validation scores don't improve for 200 rounds.\n",
      "[200]\tvalid_0's binary_logloss: 0.189294\n",
      "[400]\tvalid_0's binary_logloss: 0.169347\n",
      "[600]\tvalid_0's binary_logloss: 0.162194\n",
      "[800]\tvalid_0's binary_logloss: 0.159335\n",
      "[1000]\tvalid_0's binary_logloss: 0.158345\n",
      "[1200]\tvalid_0's binary_logloss: 0.157803\n",
      "[1400]\tvalid_0's binary_logloss: 0.157511\n",
      "[1600]\tvalid_0's binary_logloss: 0.157439\n",
      "[1800]\tvalid_0's binary_logloss: 0.157614\n",
      "Early stopping, best iteration is:\n",
      "[1659]\tvalid_0's binary_logloss: 0.157384\n",
      "\n",
      "F1 score for validation set is 0.6013071895424837\n",
      "\n",
      "------------- Fold 3 -------------\n",
      "Training until validation scores don't improve for 200 rounds.\n",
      "[200]\tvalid_0's binary_logloss: 0.192927\n",
      "[400]\tvalid_0's binary_logloss: 0.174182\n",
      "[600]\tvalid_0's binary_logloss: 0.167259\n",
      "[800]\tvalid_0's binary_logloss: 0.165083\n",
      "[1000]\tvalid_0's binary_logloss: 0.164339\n",
      "[1200]\tvalid_0's binary_logloss: 0.163928\n",
      "[1400]\tvalid_0's binary_logloss: 0.163939\n",
      "Early stopping, best iteration is:\n",
      "[1303]\tvalid_0's binary_logloss: 0.163807\n",
      "\n",
      "F1 score for validation set is 0.5617232808616404\n",
      "\n",
      "------------- Fold 4 -------------\n",
      "Training until validation scores don't improve for 200 rounds.\n",
      "[200]\tvalid_0's binary_logloss: 0.192543\n",
      "[400]\tvalid_0's binary_logloss: 0.171278\n",
      "[600]\tvalid_0's binary_logloss: 0.164378\n",
      "[800]\tvalid_0's binary_logloss: 0.161586\n",
      "[1000]\tvalid_0's binary_logloss: 0.160601\n",
      "[1200]\tvalid_0's binary_logloss: 0.160404\n",
      "[1400]\tvalid_0's binary_logloss: 0.160411\n",
      "Early stopping, best iteration is:\n",
      "[1300]\tvalid_0's binary_logloss: 0.160345\n",
      "\n",
      "F1 score for validation set is 0.5740585774058578\n",
      "\n",
      "------------- Fold 5 -------------\n",
      "Training until validation scores don't improve for 200 rounds.\n",
      "[200]\tvalid_0's binary_logloss: 0.195689\n",
      "[400]\tvalid_0's binary_logloss: 0.177185\n",
      "[600]\tvalid_0's binary_logloss: 0.171139\n",
      "[800]\tvalid_0's binary_logloss: 0.168777\n",
      "[1000]\tvalid_0's binary_logloss: 0.16828\n",
      "Early stopping, best iteration is:\n",
      "[974]\tvalid_0's binary_logloss: 0.168189\n",
      "\n",
      "F1 score for validation set is 0.5635451505016723\n",
      "\n",
      "\n",
      "F1 score for oofs is 0.578285335981463\n",
      "Optimal threhold is 0.25\n",
      "Optimized F1 is 0.6541397533763946\n"
     ]
    },
    {
     "data": {
      "image/png": "[encoded data removed]",
      "text/plain": [
       "<Figure size 720x432 with 1 Axes>"
      ]
     },
     "metadata": {
      "tags": []
     },
     "output_type": "display_data"
    }
   ],
   "source": [
    "clf = LGBMClassifier(n_estimators = 2000,\n",
    "                     learning_rate = 0.01,\n",
    "                     colsample_bytree = 0.65,\n",
    "                     random_state = 2)\n",
    "fit_params = {'verbose': 200, 'early_stopping_rounds': 200}\n",
    "\n",
    "lgb_oofs, lgb_preds = run_gradient_boosting(clf, fit_params, train_proc, test_proc, features)\n",
    "\n",
    "optimal_thresh = get_optimal_f1_thresh(target, lgb_oofs)\n",
    "print(f'Optimal threhold is {optimal_thresh}')\n",
    "optimized_f1 = f1_score(target, (lgb_oofs > optimal_thresh) * 1)\n",
    "print(f'Optimized F1 is {optimized_f1}')"
   ]
  },
  {
   "cell_type": "markdown",
   "metadata": {
    "id": "8t1AEUzF44ER"
   },
   "source": [
    "**0.6585**, CV and LB both increased"
   ]
  },
  {
   "cell_type": "markdown",
   "metadata": {
    "id": "uduyi6sh_v0S"
   },
   "source": [
    "Enough of LightGBM, lets now look at other libraries"
   ]
  },
  {
   "cell_type": "markdown",
   "metadata": {
    "id": "XbD-_MWJq92Y"
   },
   "source": [
    "## **CatBoost**\n",
    "\n",
    "CatBoost is a high-performance open source library for gradient boosting on decision trees.\n",
    "\n",
    "Features\n",
    "\n",
    "* Great quality without parameter tuning: Reduce time spent on parameter tuning, because CatBoost provides great results with default parameters\n",
    "\n",
    "* Categorical features support: Improve your training results with CatBoost that allows you to use non-numeric factors, instead of having to pre-process your data or spend time and effort turning it to numbers.\n",
    "\n",
    "* Fast and scalable GPU version: Train your model on a fast implementation of gradient-boosting algorithm for GPU. Use a multi-card configuration for large datasets.\n",
    "\n",
    "* Improved accuracy: Reduce overfitting when constructing your models with a novel gradient-boosting scheme.\n",
    "\n",
    "* Fast prediction: Apply your trained model quickly and efficiently even to latency-critical tasks using CatBoost's model applier\n",
    "\n",
    "https://catboost.ai/"
   ]
  },
  {
   "cell_type": "code",
   "execution_count": null,
   "metadata": {
    "colab": {
     "base_uri": "https://localhost:8080/",
     "height": 1000
    },
    "id": "WBzsJF_y_0F-",
    "outputId": "726a4776-cf60-4a0d-acb3-6238222c23c5"
   },
   "outputs": [
    {
     "name": "stdout",
     "output_type": "stream",
     "text": [
      "\n",
      "------------- Fold 1 -------------\n",
      "0:\tlearn: 0.6813125\ttest: 0.6812521\tbest: 0.6812521 (0)\ttotal: 75.6ms\tremaining: 3m 46s\n",
      "200:\tlearn: 0.2051442\ttest: 0.2051839\tbest: 0.2051839 (200)\ttotal: 3.35s\tremaining: 46.6s\n",
      "400:\tlearn: 0.1820961\ttest: 0.1849985\tbest: 0.1849985 (400)\ttotal: 6.34s\tremaining: 41.1s\n",
      "600:\tlearn: 0.1714202\ttest: 0.1779313\tbest: 0.1779313 (600)\ttotal: 9.35s\tremaining: 37.3s\n",
      "800:\tlearn: 0.1636347\ttest: 0.1733997\tbest: 0.1733997 (800)\ttotal: 12.3s\tremaining: 33.8s\n",
      "1000:\tlearn: 0.1579302\ttest: 0.1706201\tbest: 0.1706201 (1000)\ttotal: 15.4s\tremaining: 30.7s\n",
      "1200:\tlearn: 0.1528147\ttest: 0.1683943\tbest: 0.1683932 (1198)\ttotal: 18.4s\tremaining: 27.5s\n",
      "1400:\tlearn: 0.1484515\ttest: 0.1668977\tbest: 0.1668977 (1400)\ttotal: 21.4s\tremaining: 24.4s\n",
      "1600:\tlearn: 0.1445013\ttest: 0.1658762\tbest: 0.1658762 (1600)\ttotal: 24.4s\tremaining: 21.3s\n",
      "1800:\tlearn: 0.1406907\ttest: 0.1652143\tbest: 0.1652061 (1796)\ttotal: 27.4s\tremaining: 18.2s\n",
      "2000:\tlearn: 0.1374177\ttest: 0.1647245\tbest: 0.1647245 (2000)\ttotal: 31.6s\tremaining: 15.8s\n",
      "2200:\tlearn: 0.1343241\ttest: 0.1643458\tbest: 0.1643246 (2192)\ttotal: 36.9s\tremaining: 13.4s\n",
      "2400:\tlearn: 0.1313588\ttest: 0.1640204\tbest: 0.1640142 (2398)\ttotal: 40.5s\tremaining: 10.1s\n",
      "2600:\tlearn: 0.1286006\ttest: 0.1640279\tbest: 0.1639081 (2484)\ttotal: 43.5s\tremaining: 6.67s\n",
      "Stopped by overfitting detector  (200 iterations wait)\n",
      "\n",
      "bestTest = 0.1639081107\n",
      "bestIteration = 2484\n",
      "\n",
      "Shrink model to first 2485 iterations.\n",
      "\n",
      "F1 score for validation set is 0.5928393005828477\n",
      "\n",
      "------------- Fold 2 -------------\n",
      "0:\tlearn: 0.6813122\ttest: 0.6812637\tbest: 0.6812637 (0)\ttotal: 15.8ms\tremaining: 47.3s\n",
      "200:\tlearn: 0.2049370\ttest: 0.2043777\tbest: 0.2043777 (200)\ttotal: 3.02s\tremaining: 42s\n",
      "400:\tlearn: 0.1830611\ttest: 0.1846248\tbest: 0.1846248 (400)\ttotal: 6.1s\tremaining: 39.5s\n",
      "600:\tlearn: 0.1723589\ttest: 0.1763961\tbest: 0.1763961 (600)\ttotal: 9.11s\tremaining: 36.3s\n",
      "800:\tlearn: 0.1646482\ttest: 0.1714666\tbest: 0.1714666 (800)\ttotal: 12.2s\tremaining: 33.4s\n",
      "1000:\tlearn: 0.1591558\ttest: 0.1682737\tbest: 0.1682737 (1000)\ttotal: 15.2s\tremaining: 30.3s\n",
      "1200:\tlearn: 0.1547064\ttest: 0.1660736\tbest: 0.1660736 (1200)\ttotal: 18.2s\tremaining: 27.2s\n",
      "1400:\tlearn: 0.1508374\ttest: 0.1645025\tbest: 0.1645025 (1400)\ttotal: 21.2s\tremaining: 24.2s\n",
      "1600:\tlearn: 0.1471076\ttest: 0.1630031\tbest: 0.1630031 (1600)\ttotal: 24.2s\tremaining: 21.1s\n",
      "1800:\tlearn: 0.1435685\ttest: 0.1619884\tbest: 0.1619884 (1800)\ttotal: 27.2s\tremaining: 18.1s\n",
      "2000:\tlearn: 0.1403189\ttest: 0.1611455\tbest: 0.1611455 (2000)\ttotal: 30.2s\tremaining: 15.1s\n",
      "2200:\tlearn: 0.1373402\ttest: 0.1606892\tbest: 0.1606818 (2197)\ttotal: 33.2s\tremaining: 12.1s\n",
      "2400:\tlearn: 0.1345425\ttest: 0.1602621\tbest: 0.1602621 (2400)\ttotal: 36.3s\tremaining: 9.04s\n",
      "2600:\tlearn: 0.1316915\ttest: 0.1599409\tbest: 0.1599237 (2595)\ttotal: 39.3s\tremaining: 6.03s\n",
      "2800:\tlearn: 0.1290169\ttest: 0.1598229\tbest: 0.1597945 (2790)\ttotal: 42.3s\tremaining: 3.01s\n",
      "2999:\tlearn: 0.1263365\ttest: 0.1595369\tbest: 0.1595310 (2998)\ttotal: 45.3s\tremaining: 0us\n",
      "\n",
      "bestTest = 0.1595309819\n",
      "bestIteration = 2998\n",
      "\n",
      "Shrink model to first 2999 iterations.\n",
      "\n",
      "F1 score for validation set is 0.5983471074380167\n",
      "\n",
      "------------- Fold 3 -------------\n",
      "0:\tlearn: 0.6812307\ttest: 0.6812811\tbest: 0.6812811 (0)\ttotal: 15.2ms\tremaining: 45.7s\n",
      "200:\tlearn: 0.2042400\ttest: 0.2084684\tbest: 0.2084684 (200)\ttotal: 3.06s\tremaining: 42.7s\n",
      "400:\tlearn: 0.1812665\ttest: 0.1887727\tbest: 0.1887727 (400)\ttotal: 6.1s\tremaining: 39.5s\n",
      "600:\tlearn: 0.1704226\ttest: 0.1816549\tbest: 0.1816549 (600)\ttotal: 9.17s\tremaining: 36.6s\n",
      "800:\tlearn: 0.1626951\ttest: 0.1774305\tbest: 0.1774305 (800)\ttotal: 12.2s\tremaining: 33.5s\n",
      "1000:\tlearn: 0.1566339\ttest: 0.1746352\tbest: 0.1746352 (1000)\ttotal: 15.3s\tremaining: 30.5s\n",
      "1200:\tlearn: 0.1516868\ttest: 0.1725709\tbest: 0.1725675 (1199)\ttotal: 18.3s\tremaining: 27.4s\n",
      "1400:\tlearn: 0.1473569\ttest: 0.1709298\tbest: 0.1709298 (1400)\ttotal: 21.3s\tremaining: 24.3s\n",
      "1600:\tlearn: 0.1434921\ttest: 0.1697398\tbest: 0.1697343 (1597)\ttotal: 24.3s\tremaining: 21.2s\n",
      "1800:\tlearn: 0.1397739\ttest: 0.1687074\tbest: 0.1687074 (1800)\ttotal: 27.3s\tremaining: 18.2s\n",
      "2000:\tlearn: 0.1364408\ttest: 0.1680310\tbest: 0.1680287 (1999)\ttotal: 30.3s\tremaining: 15.1s\n",
      "2200:\tlearn: 0.1331857\ttest: 0.1675348\tbest: 0.1675328 (2196)\ttotal: 33.4s\tremaining: 12.1s\n",
      "2400:\tlearn: 0.1301493\ttest: 0.1671095\tbest: 0.1671007 (2393)\ttotal: 36.4s\tremaining: 9.09s\n",
      "2600:\tlearn: 0.1272899\ttest: 0.1670142\tbest: 0.1669751 (2548)\ttotal: 39.4s\tremaining: 6.05s\n",
      "2800:\tlearn: 0.1245457\ttest: 0.1668117\tbest: 0.1668117 (2800)\ttotal: 42.5s\tremaining: 3.02s\n",
      "2999:\tlearn: 0.1218331\ttest: 0.1664690\tbest: 0.1664559 (2997)\ttotal: 45.5s\tremaining: 0us\n",
      "\n",
      "bestTest = 0.1664558773\n",
      "bestIteration = 2997\n",
      "\n",
      "Shrink model to first 2998 iterations.\n",
      "\n",
      "F1 score for validation set is 0.5742738589211618\n",
      "\n",
      "------------- Fold 4 -------------\n",
      "0:\tlearn: 0.6812951\ttest: 0.6813420\tbest: 0.6813420 (0)\ttotal: 15.4ms\tremaining: 46.1s\n",
      "200:\tlearn: 0.2037117\ttest: 0.2090453\tbest: 0.2090453 (200)\ttotal: 3.01s\tremaining: 41.9s\n",
      "400:\tlearn: 0.1821272\ttest: 0.1898916\tbest: 0.1898916 (400)\ttotal: 6.08s\tremaining: 39.4s\n",
      "600:\tlearn: 0.1713515\ttest: 0.1811705\tbest: 0.1811705 (600)\ttotal: 9.14s\tremaining: 36.5s\n",
      "800:\tlearn: 0.1640623\ttest: 0.1758055\tbest: 0.1758055 (800)\ttotal: 12.2s\tremaining: 33.6s\n",
      "1000:\tlearn: 0.1579553\ttest: 0.1719793\tbest: 0.1719793 (1000)\ttotal: 15.3s\tremaining: 30.5s\n",
      "1200:\tlearn: 0.1530039\ttest: 0.1693022\tbest: 0.1693022 (1200)\ttotal: 18.3s\tremaining: 27.4s\n",
      "1400:\tlearn: 0.1486292\ttest: 0.1675838\tbest: 0.1675816 (1399)\ttotal: 21.3s\tremaining: 24.3s\n",
      "1600:\tlearn: 0.1445320\ttest: 0.1661898\tbest: 0.1661898 (1600)\ttotal: 24.4s\tremaining: 21.3s\n",
      "1800:\tlearn: 0.1407531\ttest: 0.1649040\tbest: 0.1649040 (1800)\ttotal: 27.4s\tremaining: 18.3s\n",
      "2000:\tlearn: 0.1375029\ttest: 0.1641113\tbest: 0.1641095 (1991)\ttotal: 30.5s\tremaining: 15.2s\n",
      "2200:\tlearn: 0.1343386\ttest: 0.1637624\tbest: 0.1637429 (2174)\ttotal: 33.5s\tremaining: 12.2s\n",
      "2400:\tlearn: 0.1312591\ttest: 0.1633926\tbest: 0.1633916 (2399)\ttotal: 36.5s\tremaining: 9.11s\n",
      "2600:\tlearn: 0.1281328\ttest: 0.1629912\tbest: 0.1629912 (2600)\ttotal: 39.6s\tremaining: 6.07s\n",
      "2800:\tlearn: 0.1251700\ttest: 0.1626481\tbest: 0.1626481 (2800)\ttotal: 42.6s\tremaining: 3.03s\n",
      "2999:\tlearn: 0.1225016\ttest: 0.1625730\tbest: 0.1624920 (2888)\ttotal: 45.7s\tremaining: 0us\n",
      "\n",
      "bestTest = 0.1624920336\n",
      "bestIteration = 2888\n",
      "\n",
      "Shrink model to first 2889 iterations.\n",
      "\n",
      "F1 score for validation set is 0.5934618608549873\n",
      "\n",
      "------------- Fold 5 -------------\n",
      "0:\tlearn: 0.6812416\ttest: 0.6813034\tbest: 0.6813034 (0)\ttotal: 16ms\tremaining: 48s\n",
      "200:\tlearn: 0.2033920\ttest: 0.2101191\tbest: 0.2101191 (200)\ttotal: 3.02s\tremaining: 42.1s\n",
      "400:\tlearn: 0.1804919\ttest: 0.1916202\tbest: 0.1916202 (400)\ttotal: 6.06s\tremaining: 39.3s\n",
      "600:\tlearn: 0.1695690\ttest: 0.1846728\tbest: 0.1846728 (600)\ttotal: 9.13s\tremaining: 36.4s\n",
      "800:\tlearn: 0.1618112\ttest: 0.1804933\tbest: 0.1804933 (800)\ttotal: 12.2s\tremaining: 33.6s\n",
      "1000:\tlearn: 0.1555715\ttest: 0.1777442\tbest: 0.1777442 (1000)\ttotal: 15.3s\tremaining: 30.5s\n",
      "1200:\tlearn: 0.1500846\ttest: 0.1755468\tbest: 0.1755438 (1199)\ttotal: 18.4s\tremaining: 27.5s\n",
      "1400:\tlearn: 0.1454670\ttest: 0.1740557\tbest: 0.1740499 (1397)\ttotal: 21.5s\tremaining: 24.5s\n",
      "1600:\tlearn: 0.1414014\ttest: 0.1728847\tbest: 0.1728847 (1600)\ttotal: 24.5s\tremaining: 21.4s\n",
      "1800:\tlearn: 0.1377282\ttest: 0.1721186\tbest: 0.1721186 (1800)\ttotal: 27.5s\tremaining: 18.3s\n",
      "2000:\tlearn: 0.1342567\ttest: 0.1714822\tbest: 0.1714822 (2000)\ttotal: 30.6s\tremaining: 15.3s\n",
      "2200:\tlearn: 0.1311369\ttest: 0.1709555\tbest: 0.1709555 (2200)\ttotal: 33.6s\tremaining: 12.2s\n",
      "2400:\tlearn: 0.1282287\ttest: 0.1706529\tbest: 0.1706529 (2400)\ttotal: 36.7s\tremaining: 9.14s\n",
      "2600:\tlearn: 0.1253755\ttest: 0.1703173\tbest: 0.1702945 (2586)\ttotal: 39.7s\tremaining: 6.09s\n",
      "2800:\tlearn: 0.1226713\ttest: 0.1701542\tbest: 0.1701187 (2739)\ttotal: 42.8s\tremaining: 3.04s\n",
      "2999:\tlearn: 0.1201022\ttest: 0.1699708\tbest: 0.1699680 (2998)\ttotal: 45.8s\tremaining: 0us\n",
      "\n",
      "bestTest = 0.1699679818\n",
      "bestIteration = 2998\n",
      "\n",
      "Shrink model to first 2999 iterations.\n",
      "\n",
      "F1 score for validation set is 0.5647451963241438\n",
      "\n",
      "\n",
      "F1 score for oofs is 0.5847485847485848\n",
      "Optimal threhold is 0.25\n",
      "Optimized F1 is 0.6576067348165966\n"
     ]
    },
    {
     "data": {
      "image/png": "[encoded data removed]",
      "text/plain": [
       "<Figure size 720x432 with 1 Axes>"
      ]
     },
     "metadata": {
      "tags": []
     },
     "output_type": "display_data"
    }
   ],
   "source": [
    "clf = CatBoostClassifier(n_estimators = 3000,\n",
    "                       learning_rate = 0.01,\n",
    "                       rsm = 0.4, ## Analogous to colsample_bytree\n",
    "                       random_state=2054,\n",
    "                       )\n",
    "\n",
    "fit_params = {'verbose': 200, 'early_stopping_rounds': 200}\n",
    "\n",
    "cb_oofs, cb_preds = run_gradient_boosting(clf, fit_params, train_proc, test_proc, features)\n",
    "\n",
    "optimal_thresh = get_optimal_f1_thresh(target, cb_oofs)\n",
    "print(f'Optimal threhold is {optimal_thresh}')\n",
    "optimized_f1 = f1_score(target, (cb_oofs > optimal_thresh) * 1)\n",
    "print(f'Optimized F1 is {optimized_f1}')"
   ]
  },
  {
   "cell_type": "markdown",
   "metadata": {
    "id": "VISvhx1n6lhS"
   },
   "source": [
    "**0.6620**, amazing improvement in both CV and LB"
   ]
  },
  {
   "cell_type": "markdown",
   "metadata": {
    "id": "YvlYPqZOEVxC"
   },
   "source": [
    "**CatBoost: gives Improvement from 0.6585 to 0.6620**.\n",
    "\n",
    "* Is catboost better then LightGBM ?\n",
    "* Can catboost score be further improved ?\n",
    "* Can LighGBM be tuned to give a better score than CatBoost ?"
   ]
  },
  {
   "cell_type": "markdown",
   "metadata": {
    "id": "42tlvle-rozE"
   },
   "source": [
    "## **XGBoost**\n",
    "\n",
    "XGBoost is an optimized distributed gradient boosting library designed to be highly efficient, flexible and portable. It implements machine learning algorithms under the Gradient Boosting framework. XGBoost provides a parallel tree boosting (also known as GBDT, GBM) that solve many data science problems in a fast and accurate way. The same code runs on major distributed environment (Hadoop, SGE, MPI) and can solve problems beyond billions of examples.\n",
    "\n",
    "https://xgboost.readthedocs.io/en/latest/"
   ]
  },
  {
   "cell_type": "code",
   "execution_count": null,
   "metadata": {
    "colab": {
     "base_uri": "https://localhost:8080/",
     "height": 1000
    },
    "id": "LJnBB_VfA7u3",
    "outputId": "e40075e8-4772-4926-895b-5b939e88078d"
   },
   "outputs": [
    {
     "name": "stdout",
     "output_type": "stream",
     "text": [
      "\n",
      "------------- Fold 1 -------------\n",
      "[0]\tvalidation_0-error:0.097788\n",
      "Will train until validation_0-error hasn't improved in 200 rounds.\n",
      "[200]\tvalidation_0-error:0.077409\n",
      "[400]\tvalidation_0-error:0.080411\n",
      "Stopping. Best iteration:\n",
      "[205]\tvalidation_0-error:0.077251\n",
      "\n",
      "\n",
      "F1 score for validation set is 0.5880370682392586\n",
      "\n",
      "------------- Fold 2 -------------\n",
      "[0]\tvalidation_0-error:0.097156\n",
      "Will train until validation_0-error hasn't improved in 200 rounds.\n",
      "[200]\tvalidation_0-error:0.079305\n",
      "[400]\tvalidation_0-error:0.079147\n",
      "Stopping. Best iteration:\n",
      "[360]\tvalidation_0-error:0.077409\n",
      "\n",
      "\n",
      "F1 score for validation set is 0.5983606557377049\n",
      "\n",
      "------------- Fold 3 -------------\n",
      "[0]\tvalidation_0-error:0.099226\n",
      "Will train until validation_0-error hasn't improved in 200 rounds.\n",
      "[200]\tvalidation_0-error:0.086428\n",
      "[400]\tvalidation_0-error:0.083109\n",
      "[600]\tvalidation_0-error:0.083425\n",
      "Stopping. Best iteration:\n",
      "[515]\tvalidation_0-error:0.081845\n",
      "\n",
      "\n",
      "F1 score for validation set is 0.5711920529801325\n",
      "\n",
      "------------- Fold 4 -------------\n",
      "[0]\tvalidation_0-error:0.097804\n",
      "Will train until validation_0-error hasn't improved in 200 rounds.\n",
      "[200]\tvalidation_0-error:0.082951\n",
      "[400]\tvalidation_0-error:0.080107\n",
      "[600]\tvalidation_0-error:0.080265\n",
      "Stopping. Best iteration:\n",
      "[457]\tvalidation_0-error:0.079317\n",
      "\n",
      "\n",
      "F1 score for validation set is 0.580267558528428\n",
      "\n",
      "------------- Fold 5 -------------\n",
      "[0]\tvalidation_0-error:0.099384\n",
      "Will train until validation_0-error hasn't improved in 200 rounds.\n",
      "[200]\tvalidation_0-error:0.083425\n",
      "[400]\tvalidation_0-error:0.082319\n",
      "Stopping. Best iteration:\n",
      "[310]\tvalidation_0-error:0.081529\n",
      "\n",
      "\n",
      "F1 score for validation set is 0.5649241146711637\n",
      "\n",
      "\n",
      "F1 score for oofs is 0.5806236451559112\n",
      "Optimal threhold is 0.25\n",
      "Optimized F1 is 0.6508376521634326\n"
     ]
    },
    {
     "data": {
      "image/png": "[encoded data removed]",
      "text/plain": [
       "<Figure size 720x432 with 1 Axes>"
      ]
     },
     "metadata": {
      "tags": []
     },
     "output_type": "display_data"
    }
   ],
   "source": [
    "clf = XGBClassifier(n_estimators = 1000,\n",
    "                    max_depth = 6,\n",
    "                    learning_rate = 0.05,\n",
    "                    colsample_bytree = 0.5,\n",
    "                    random_state=1452,\n",
    "                    )\n",
    "\n",
    "fit_params = {'verbose': 200, 'early_stopping_rounds': 200}\n",
    "\n",
    "xgb_oofs, xgb_preds = run_gradient_boosting(clf, fit_params, train_proc, test_proc, features)\n",
    "\n",
    "optimal_thresh = get_optimal_f1_thresh(target, xgb_oofs)\n",
    "print(f'Optimal threhold is {optimal_thresh}')\n",
    "optimized_f1 = f1_score(target, (xgb_oofs > optimal_thresh) * 1)\n",
    "print(f'Optimized F1 is {optimized_f1}')"
   ]
  },
  {
   "cell_type": "markdown",
   "metadata": {
    "id": "TjalvfIa66Qd"
   },
   "source": [
    "**0.655**, decrease in both CV and LB"
   ]
  },
  {
   "cell_type": "markdown",
   "metadata": {
    "id": "g4Glb4dnFfXW"
   },
   "source": [
    "**Questions to think about XGBoost**\n",
    "\n",
    "* Is XGBoost worse than LightGBM and CatBoost ?\n",
    "\n",
    "* Can XGBoost be tuned more ?\n",
    "\n"
   ]
  },
  {
   "cell_type": "markdown",
   "metadata": {
    "id": "Zt_JmTNRSiZ8"
   },
   "source": [
    "# **Feature Engineering**"
   ]
  },
  {
   "cell_type": "markdown",
   "metadata": {
    "id": "79RNV5mSDoHL"
   },
   "source": [
    "* What does a model know about a sample ?\n",
    "\n",
    "* What the model does not know about the sample ?\n",
    "\n",
    "* How do we provide that unknown information to the model ?\n",
    "\n",
    "\n",
    "***Feature Engineering is one of the biggest difference maker in any ML competition.*** "
   ]
  },
  {
   "cell_type": "markdown",
   "metadata": {
    "id": "4seLY7rYFQSY"
   },
   "source": [
    "<br>\n",
    "<br>\n",
    "\n",
    "**Helper Functions**"
   ]
  },
  {
   "cell_type": "code",
   "execution_count": null,
   "metadata": {
    "id": "Ylv2Xpp-mdO1"
   },
   "outputs": [],
   "source": [
    "def join_df(train, test):\n",
    "\n",
    "  df = pd.concat([train, test], axis=0).reset_index(drop = True)\n",
    "  features = [c for c in df.columns if c not in [ID_COL, TARGET_COL]]\n",
    "\n",
    "  return df, features\n",
    "\n",
    "def split_df_and_get_features(df, train_nrows):\n",
    "\n",
    "  train, test = df[:train_nrows].reset_index(drop = True), df[train_nrows:].reset_index(drop = True)\n",
    "  features = [c for c in train.columns if c not in [ID_COL, TARGET_COL]]\n",
    "  \n",
    "  return train, test, features"
   ]
  },
  {
   "cell_type": "code",
   "execution_count": null,
   "metadata": {
    "colab": {
     "base_uri": "https://localhost:8080/",
     "height": 174
    },
    "id": "64TBScV_q5Qt",
    "outputId": "eab67e6c-257f-47db-b664-6c0453bf69db"
   },
   "outputs": [
    {
     "data": {
      "text/plain": [
       "['job_type',\n",
       " 'marital',\n",
       " 'education',\n",
       " 'default',\n",
       " 'housing_loan',\n",
       " 'personal_loan',\n",
       " 'communication_type',\n",
       " 'month',\n",
       " 'prev_campaign_outcome']"
      ]
     },
     "execution_count": 81,
     "metadata": {
      "tags": []
     },
     "output_type": "execute_result"
    }
   ],
   "source": [
    "cat_cols"
   ]
  },
  {
   "cell_type": "code",
   "execution_count": null,
   "metadata": {
    "colab": {
     "base_uri": "https://localhost:8080/",
     "height": 210
    },
    "id": "DkCH4YQxqokA",
    "outputId": "6cddf306-87cd-4ef1-cbe2-54e5913cede1"
   },
   "outputs": [
    {
     "data": {
      "text/html": [
       "<div>\n",
       "<style scoped>\n",
       "    .dataframe tbody tr th:only-of-type {\n",
       "        vertical-align: middle;\n",
       "    }\n",
       "\n",
       "    .dataframe tbody tr th {\n",
       "        vertical-align: top;\n",
       "    }\n",
       "\n",
       "    .dataframe thead th {\n",
       "        text-align: right;\n",
       "    }\n",
       "</style>\n",
       "<table border=\"1\" class=\"dataframe\">\n",
       "  <thead>\n",
       "    <tr style=\"text-align: right;\">\n",
       "      <th></th>\n",
       "      <th>id</th>\n",
       "      <th>customer_age</th>\n",
       "      <th>job_type</th>\n",
       "      <th>marital</th>\n",
       "      <th>education</th>\n",
       "      <th>default</th>\n",
       "      <th>balance</th>\n",
       "      <th>housing_loan</th>\n",
       "      <th>personal_loan</th>\n",
       "      <th>communication_type</th>\n",
       "      <th>day_of_month</th>\n",
       "      <th>month</th>\n",
       "      <th>last_contact_duration</th>\n",
       "      <th>num_contacts_in_campaign</th>\n",
       "      <th>days_since_prev_campaign_contact</th>\n",
       "      <th>num_contacts_prev_campaign</th>\n",
       "      <th>prev_campaign_outcome</th>\n",
       "      <th>term_deposit_subscribed</th>\n",
       "    </tr>\n",
       "  </thead>\n",
       "  <tbody>\n",
       "    <tr>\n",
       "      <th>0</th>\n",
       "      <td>id_43823</td>\n",
       "      <td>28.0</td>\n",
       "      <td>management</td>\n",
       "      <td>single</td>\n",
       "      <td>tertiary</td>\n",
       "      <td>no</td>\n",
       "      <td>285.0</td>\n",
       "      <td>yes</td>\n",
       "      <td>no</td>\n",
       "      <td>unknown</td>\n",
       "      <td>26</td>\n",
       "      <td>jun</td>\n",
       "      <td>303.0</td>\n",
       "      <td>4.0</td>\n",
       "      <td>NaN</td>\n",
       "      <td>0</td>\n",
       "      <td>unknown</td>\n",
       "      <td>0</td>\n",
       "    </tr>\n",
       "    <tr>\n",
       "      <th>1</th>\n",
       "      <td>id_32289</td>\n",
       "      <td>34.0</td>\n",
       "      <td>blue-collar</td>\n",
       "      <td>married</td>\n",
       "      <td>secondary</td>\n",
       "      <td>no</td>\n",
       "      <td>934.0</td>\n",
       "      <td>no</td>\n",
       "      <td>yes</td>\n",
       "      <td>cellular</td>\n",
       "      <td>18</td>\n",
       "      <td>nov</td>\n",
       "      <td>143.0</td>\n",
       "      <td>2.0</td>\n",
       "      <td>132.0</td>\n",
       "      <td>1</td>\n",
       "      <td>other</td>\n",
       "      <td>0</td>\n",
       "    </tr>\n",
       "    <tr>\n",
       "      <th>2</th>\n",
       "      <td>id_10523</td>\n",
       "      <td>46.0</td>\n",
       "      <td>technician</td>\n",
       "      <td>married</td>\n",
       "      <td>secondary</td>\n",
       "      <td>no</td>\n",
       "      <td>656.0</td>\n",
       "      <td>no</td>\n",
       "      <td>no</td>\n",
       "      <td>cellular</td>\n",
       "      <td>5</td>\n",
       "      <td>feb</td>\n",
       "      <td>101.0</td>\n",
       "      <td>4.0</td>\n",
       "      <td>NaN</td>\n",
       "      <td>0</td>\n",
       "      <td>unknown</td>\n",
       "      <td>0</td>\n",
       "    </tr>\n",
       "    <tr>\n",
       "      <th>3</th>\n",
       "      <td>id_43951</td>\n",
       "      <td>34.0</td>\n",
       "      <td>services</td>\n",
       "      <td>single</td>\n",
       "      <td>secondary</td>\n",
       "      <td>no</td>\n",
       "      <td>2.0</td>\n",
       "      <td>yes</td>\n",
       "      <td>no</td>\n",
       "      <td>unknown</td>\n",
       "      <td>20</td>\n",
       "      <td>may</td>\n",
       "      <td>127.0</td>\n",
       "      <td>3.0</td>\n",
       "      <td>NaN</td>\n",
       "      <td>0</td>\n",
       "      <td>unknown</td>\n",
       "      <td>0</td>\n",
       "    </tr>\n",
       "    <tr>\n",
       "      <th>4</th>\n",
       "      <td>id_40992</td>\n",
       "      <td>41.0</td>\n",
       "      <td>blue-collar</td>\n",
       "      <td>married</td>\n",
       "      <td>primary</td>\n",
       "      <td>no</td>\n",
       "      <td>1352.0</td>\n",
       "      <td>yes</td>\n",
       "      <td>no</td>\n",
       "      <td>cellular</td>\n",
       "      <td>13</td>\n",
       "      <td>may</td>\n",
       "      <td>49.0</td>\n",
       "      <td>2.0</td>\n",
       "      <td>NaN</td>\n",
       "      <td>0</td>\n",
       "      <td>unknown</td>\n",
       "      <td>0</td>\n",
       "    </tr>\n",
       "  </tbody>\n",
       "</table>\n",
       "</div>"
      ],
      "text/plain": [
       "         id  customer_age  ... prev_campaign_outcome term_deposit_subscribed\n",
       "0  id_43823  28.0          ...  unknown               0                     \n",
       "1  id_32289  34.0          ...  other                 0                     \n",
       "2  id_10523  46.0          ...  unknown               0                     \n",
       "3  id_43951  34.0          ...  unknown               0                     \n",
       "4  id_40992  41.0          ...  unknown               0                     \n",
       "\n",
       "[5 rows x 18 columns]"
      ]
     },
     "execution_count": 80,
     "metadata": {
      "tags": []
     },
     "output_type": "execute_result"
    }
   ],
   "source": [
    "train.head()"
   ]
  },
  {
   "cell_type": "code",
   "execution_count": null,
   "metadata": {
    "id": "oJzwvBcbrpqj"
   },
   "outputs": [],
   "source": [
    "df, features = join_df(train, test)"
   ]
  },
  {
   "cell_type": "code",
   "execution_count": null,
   "metadata": {
    "colab": {
     "base_uri": "https://localhost:8080/",
     "height": 210
    },
    "id": "gagvjFn_rqZP",
    "outputId": "c00264eb-ba59-417d-c4aa-935839dce9ae"
   },
   "outputs": [
    {
     "data": {
      "text/html": [
       "<div>\n",
       "<style scoped>\n",
       "    .dataframe tbody tr th:only-of-type {\n",
       "        vertical-align: middle;\n",
       "    }\n",
       "\n",
       "    .dataframe tbody tr th {\n",
       "        vertical-align: top;\n",
       "    }\n",
       "\n",
       "    .dataframe thead th {\n",
       "        text-align: right;\n",
       "    }\n",
       "</style>\n",
       "<table border=\"1\" class=\"dataframe\">\n",
       "  <thead>\n",
       "    <tr style=\"text-align: right;\">\n",
       "      <th></th>\n",
       "      <th>id</th>\n",
       "      <th>customer_age</th>\n",
       "      <th>job_type</th>\n",
       "      <th>marital</th>\n",
       "      <th>education</th>\n",
       "      <th>default</th>\n",
       "      <th>balance</th>\n",
       "      <th>housing_loan</th>\n",
       "      <th>personal_loan</th>\n",
       "      <th>communication_type</th>\n",
       "      <th>day_of_month</th>\n",
       "      <th>month</th>\n",
       "      <th>last_contact_duration</th>\n",
       "      <th>num_contacts_in_campaign</th>\n",
       "      <th>days_since_prev_campaign_contact</th>\n",
       "      <th>num_contacts_prev_campaign</th>\n",
       "      <th>prev_campaign_outcome</th>\n",
       "      <th>term_deposit_subscribed</th>\n",
       "    </tr>\n",
       "  </thead>\n",
       "  <tbody>\n",
       "    <tr>\n",
       "      <th>0</th>\n",
       "      <td>id_43823</td>\n",
       "      <td>28.0</td>\n",
       "      <td>management</td>\n",
       "      <td>single</td>\n",
       "      <td>tertiary</td>\n",
       "      <td>no</td>\n",
       "      <td>285.0</td>\n",
       "      <td>yes</td>\n",
       "      <td>no</td>\n",
       "      <td>unknown</td>\n",
       "      <td>26</td>\n",
       "      <td>jun</td>\n",
       "      <td>303.0</td>\n",
       "      <td>4.0</td>\n",
       "      <td>NaN</td>\n",
       "      <td>0</td>\n",
       "      <td>unknown</td>\n",
       "      <td>0.0</td>\n",
       "    </tr>\n",
       "    <tr>\n",
       "      <th>1</th>\n",
       "      <td>id_32289</td>\n",
       "      <td>34.0</td>\n",
       "      <td>blue-collar</td>\n",
       "      <td>married</td>\n",
       "      <td>secondary</td>\n",
       "      <td>no</td>\n",
       "      <td>934.0</td>\n",
       "      <td>no</td>\n",
       "      <td>yes</td>\n",
       "      <td>cellular</td>\n",
       "      <td>18</td>\n",
       "      <td>nov</td>\n",
       "      <td>143.0</td>\n",
       "      <td>2.0</td>\n",
       "      <td>132.0</td>\n",
       "      <td>1</td>\n",
       "      <td>other</td>\n",
       "      <td>0.0</td>\n",
       "    </tr>\n",
       "    <tr>\n",
       "      <th>2</th>\n",
       "      <td>id_10523</td>\n",
       "      <td>46.0</td>\n",
       "      <td>technician</td>\n",
       "      <td>married</td>\n",
       "      <td>secondary</td>\n",
       "      <td>no</td>\n",
       "      <td>656.0</td>\n",
       "      <td>no</td>\n",
       "      <td>no</td>\n",
       "      <td>cellular</td>\n",
       "      <td>5</td>\n",
       "      <td>feb</td>\n",
       "      <td>101.0</td>\n",
       "      <td>4.0</td>\n",
       "      <td>NaN</td>\n",
       "      <td>0</td>\n",
       "      <td>unknown</td>\n",
       "      <td>0.0</td>\n",
       "    </tr>\n",
       "    <tr>\n",
       "      <th>3</th>\n",
       "      <td>id_43951</td>\n",
       "      <td>34.0</td>\n",
       "      <td>services</td>\n",
       "      <td>single</td>\n",
       "      <td>secondary</td>\n",
       "      <td>no</td>\n",
       "      <td>2.0</td>\n",
       "      <td>yes</td>\n",
       "      <td>no</td>\n",
       "      <td>unknown</td>\n",
       "      <td>20</td>\n",
       "      <td>may</td>\n",
       "      <td>127.0</td>\n",
       "      <td>3.0</td>\n",
       "      <td>NaN</td>\n",
       "      <td>0</td>\n",
       "      <td>unknown</td>\n",
       "      <td>0.0</td>\n",
       "    </tr>\n",
       "    <tr>\n",
       "      <th>4</th>\n",
       "      <td>id_40992</td>\n",
       "      <td>41.0</td>\n",
       "      <td>blue-collar</td>\n",
       "      <td>married</td>\n",
       "      <td>primary</td>\n",
       "      <td>no</td>\n",
       "      <td>1352.0</td>\n",
       "      <td>yes</td>\n",
       "      <td>no</td>\n",
       "      <td>cellular</td>\n",
       "      <td>13</td>\n",
       "      <td>may</td>\n",
       "      <td>49.0</td>\n",
       "      <td>2.0</td>\n",
       "      <td>NaN</td>\n",
       "      <td>0</td>\n",
       "      <td>unknown</td>\n",
       "      <td>0.0</td>\n",
       "    </tr>\n",
       "  </tbody>\n",
       "</table>\n",
       "</div>"
      ],
      "text/plain": [
       "         id  customer_age  ... prev_campaign_outcome term_deposit_subscribed\n",
       "0  id_43823  28.0          ...  unknown               0.0                   \n",
       "1  id_32289  34.0          ...  other                 0.0                   \n",
       "2  id_10523  46.0          ...  unknown               0.0                   \n",
       "3  id_43951  34.0          ...  unknown               0.0                   \n",
       "4  id_40992  41.0          ...  unknown               0.0                   \n",
       "\n",
       "[5 rows x 18 columns]"
      ]
     },
     "execution_count": 85,
     "metadata": {
      "tags": []
     },
     "output_type": "execute_result"
    }
   ],
   "source": [
    "df.head()"
   ]
  },
  {
   "cell_type": "code",
   "execution_count": null,
   "metadata": {
    "colab": {
     "base_uri": "https://localhost:8080/",
     "height": 191
    },
    "id": "aNJsfkXGrs4t",
    "outputId": "a91aba4c-11e2-450f-9d91-de87898b098f"
   },
   "outputs": [
    {
     "data": {
      "text/plain": [
       "['id',\n",
       " 'job_type',\n",
       " 'marital',\n",
       " 'education',\n",
       " 'default',\n",
       " 'housing_loan',\n",
       " 'personal_loan',\n",
       " 'communication_type',\n",
       " 'month',\n",
       " 'prev_campaign_outcome']"
      ]
     },
     "execution_count": 86,
     "metadata": {
      "tags": []
     },
     "output_type": "execute_result"
    }
   ],
   "source": [
    "df.select_dtypes('object').columns.tolist()"
   ]
  },
  {
   "cell_type": "code",
   "execution_count": null,
   "metadata": {
    "id": "Wvz3iJS6knvZ"
   },
   "outputs": [],
   "source": [
    "df, features = join_df(train, test)\n",
    "\n",
    "### Label Encoding\n",
    "df[cat_cols] = df[cat_cols].apply(lambda x: pd.factorize(x)[0])\n",
    "\n",
    "#### No NaN filling required."
   ]
  },
  {
   "cell_type": "code",
   "execution_count": null,
   "metadata": {
    "colab": {
     "base_uri": "https://localhost:8080/",
     "height": 210
    },
    "id": "Z2j1DbTsrS6F",
    "outputId": "83e20cce-bf23-4da2-a89b-59e78a96ab99"
   },
   "outputs": [
    {
     "data": {
      "text/html": [
       "<div>\n",
       "<style scoped>\n",
       "    .dataframe tbody tr th:only-of-type {\n",
       "        vertical-align: middle;\n",
       "    }\n",
       "\n",
       "    .dataframe tbody tr th {\n",
       "        vertical-align: top;\n",
       "    }\n",
       "\n",
       "    .dataframe thead th {\n",
       "        text-align: right;\n",
       "    }\n",
       "</style>\n",
       "<table border=\"1\" class=\"dataframe\">\n",
       "  <thead>\n",
       "    <tr style=\"text-align: right;\">\n",
       "      <th></th>\n",
       "      <th>id</th>\n",
       "      <th>customer_age</th>\n",
       "      <th>job_type</th>\n",
       "      <th>marital</th>\n",
       "      <th>education</th>\n",
       "      <th>default</th>\n",
       "      <th>balance</th>\n",
       "      <th>housing_loan</th>\n",
       "      <th>personal_loan</th>\n",
       "      <th>communication_type</th>\n",
       "      <th>day_of_month</th>\n",
       "      <th>month</th>\n",
       "      <th>last_contact_duration</th>\n",
       "      <th>num_contacts_in_campaign</th>\n",
       "      <th>days_since_prev_campaign_contact</th>\n",
       "      <th>num_contacts_prev_campaign</th>\n",
       "      <th>prev_campaign_outcome</th>\n",
       "      <th>term_deposit_subscribed</th>\n",
       "    </tr>\n",
       "  </thead>\n",
       "  <tbody>\n",
       "    <tr>\n",
       "      <th>0</th>\n",
       "      <td>id_43823</td>\n",
       "      <td>28.0</td>\n",
       "      <td>0</td>\n",
       "      <td>0</td>\n",
       "      <td>0</td>\n",
       "      <td>0</td>\n",
       "      <td>285.0</td>\n",
       "      <td>0</td>\n",
       "      <td>0</td>\n",
       "      <td>0</td>\n",
       "      <td>26</td>\n",
       "      <td>0</td>\n",
       "      <td>303.0</td>\n",
       "      <td>4.0</td>\n",
       "      <td>NaN</td>\n",
       "      <td>0</td>\n",
       "      <td>0</td>\n",
       "      <td>0.0</td>\n",
       "    </tr>\n",
       "    <tr>\n",
       "      <th>1</th>\n",
       "      <td>id_32289</td>\n",
       "      <td>34.0</td>\n",
       "      <td>1</td>\n",
       "      <td>1</td>\n",
       "      <td>1</td>\n",
       "      <td>0</td>\n",
       "      <td>934.0</td>\n",
       "      <td>1</td>\n",
       "      <td>1</td>\n",
       "      <td>1</td>\n",
       "      <td>18</td>\n",
       "      <td>1</td>\n",
       "      <td>143.0</td>\n",
       "      <td>2.0</td>\n",
       "      <td>132.0</td>\n",
       "      <td>1</td>\n",
       "      <td>1</td>\n",
       "      <td>0.0</td>\n",
       "    </tr>\n",
       "    <tr>\n",
       "      <th>2</th>\n",
       "      <td>id_10523</td>\n",
       "      <td>46.0</td>\n",
       "      <td>2</td>\n",
       "      <td>1</td>\n",
       "      <td>1</td>\n",
       "      <td>0</td>\n",
       "      <td>656.0</td>\n",
       "      <td>1</td>\n",
       "      <td>0</td>\n",
       "      <td>1</td>\n",
       "      <td>5</td>\n",
       "      <td>2</td>\n",
       "      <td>101.0</td>\n",
       "      <td>4.0</td>\n",
       "      <td>NaN</td>\n",
       "      <td>0</td>\n",
       "      <td>0</td>\n",
       "      <td>0.0</td>\n",
       "    </tr>\n",
       "    <tr>\n",
       "      <th>3</th>\n",
       "      <td>id_43951</td>\n",
       "      <td>34.0</td>\n",
       "      <td>3</td>\n",
       "      <td>0</td>\n",
       "      <td>1</td>\n",
       "      <td>0</td>\n",
       "      <td>2.0</td>\n",
       "      <td>0</td>\n",
       "      <td>0</td>\n",
       "      <td>0</td>\n",
       "      <td>20</td>\n",
       "      <td>3</td>\n",
       "      <td>127.0</td>\n",
       "      <td>3.0</td>\n",
       "      <td>NaN</td>\n",
       "      <td>0</td>\n",
       "      <td>0</td>\n",
       "      <td>0.0</td>\n",
       "    </tr>\n",
       "    <tr>\n",
       "      <th>4</th>\n",
       "      <td>id_40992</td>\n",
       "      <td>41.0</td>\n",
       "      <td>1</td>\n",
       "      <td>1</td>\n",
       "      <td>2</td>\n",
       "      <td>0</td>\n",
       "      <td>1352.0</td>\n",
       "      <td>0</td>\n",
       "      <td>0</td>\n",
       "      <td>1</td>\n",
       "      <td>13</td>\n",
       "      <td>3</td>\n",
       "      <td>49.0</td>\n",
       "      <td>2.0</td>\n",
       "      <td>NaN</td>\n",
       "      <td>0</td>\n",
       "      <td>0</td>\n",
       "      <td>0.0</td>\n",
       "    </tr>\n",
       "  </tbody>\n",
       "</table>\n",
       "</div>"
      ],
      "text/plain": [
       "         id  customer_age  ...  prev_campaign_outcome  term_deposit_subscribed\n",
       "0  id_43823  28.0          ...  0                      0.0                    \n",
       "1  id_32289  34.0          ...  1                      0.0                    \n",
       "2  id_10523  46.0          ...  0                      0.0                    \n",
       "3  id_43951  34.0          ...  0                      0.0                    \n",
       "4  id_40992  41.0          ...  0                      0.0                    \n",
       "\n",
       "[5 rows x 18 columns]"
      ]
     },
     "execution_count": 96,
     "metadata": {
      "tags": []
     },
     "output_type": "execute_result"
    }
   ],
   "source": [
    "df.head()"
   ]
  },
  {
   "cell_type": "code",
   "execution_count": null,
   "metadata": {
    "id": "Y254aSQMrmS_"
   },
   "outputs": [],
   "source": []
  },
  {
   "cell_type": "markdown",
   "metadata": {
    "id": "QFWeoL7x3EZo"
   },
   "source": [
    "## **Frequency Features**"
   ]
  },
  {
   "cell_type": "markdown",
   "metadata": {
    "id": "wl0IG8fhHasR"
   },
   "source": [
    "![Frequency_encoding_2.jpg](data:image/jpeg;base64,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)"
   ]
  },
  {
   "cell_type": "code",
   "execution_count": null,
   "metadata": {
    "colab": {
     "base_uri": "https://localhost:8080/",
     "height": 243
    },
    "id": "FjJ2DAFmscRL",
    "outputId": "0c67f73c-6827-4c30-c5dc-508f6ecab568"
   },
   "outputs": [
    {
     "data": {
      "text/plain": [
       "1     9732\n",
       "0     9458\n",
       "2     7597\n",
       "6     5171\n",
       "3     4154\n",
       "4     2264\n",
       "9     1579\n",
       "5     1487\n",
       "11    1303\n",
       "8     1240\n",
       "7     938 \n",
       "10    288 \n",
       "Name: job_type, dtype: int64"
      ]
     },
     "execution_count": 97,
     "metadata": {
      "tags": []
     },
     "output_type": "execute_result"
    }
   ],
   "source": [
    "df['job_type'].value_counts()"
   ]
  },
  {
   "cell_type": "code",
   "execution_count": null,
   "metadata": {
    "colab": {
     "base_uri": "https://localhost:8080/",
     "height": 121
    },
    "id": "40VYAviysrfV",
    "outputId": "f91219c8-12dd-411e-fd90-9a58270e1414"
   },
   "outputs": [
    {
     "data": {
      "text/plain": [
       "0    0\n",
       "1    1\n",
       "2    2\n",
       "3    3\n",
       "4    1\n",
       "Name: job_type, dtype: int64"
      ]
     },
     "execution_count": 98,
     "metadata": {
      "tags": []
     },
     "output_type": "execute_result"
    }
   ],
   "source": [
    "df['job_type'].head()"
   ]
  },
  {
   "cell_type": "code",
   "execution_count": null,
   "metadata": {
    "colab": {
     "base_uri": "https://localhost:8080/",
     "height": 226
    },
    "id": "po8cKXYzslxW",
    "outputId": "0572ba5f-19d8-4b03-a1b9-c805cffff28b"
   },
   "outputs": [
    {
     "data": {
      "text/plain": [
       "0        9458\n",
       "1        9732\n",
       "2        7597\n",
       "3        4154\n",
       "4        9732\n",
       "         ... \n",
       "45206    9458\n",
       "45207    9732\n",
       "45208    9732\n",
       "45209    5171\n",
       "45210    7597\n",
       "Name: job_type, Length: 45211, dtype: int64"
      ]
     },
     "execution_count": 99,
     "metadata": {
      "tags": []
     },
     "output_type": "execute_result"
    }
   ],
   "source": [
    "df['job_type'].map(df['job_type'].value_counts())"
   ]
  },
  {
   "cell_type": "code",
   "execution_count": null,
   "metadata": {
    "id": "KrTBR3hptFee"
   },
   "outputs": [],
   "source": [
    "def get_frequency_features(df, cols):\n",
    "\n",
    "  df[[c + '_freq' for c in cols]] = df[cols].apply(lambda x: x.map(x.value_counts()))\n",
    "  \n",
    "  return df"
   ]
  },
  {
   "cell_type": "code",
   "execution_count": null,
   "metadata": {
    "colab": {
     "base_uri": "https://localhost:8080/",
     "height": 104
    },
    "id": "xGoMqJGzwLb-",
    "outputId": "5e39920e-7cd8-4928-b7f7-f4f10855fcfb"
   },
   "outputs": [
    {
     "data": {
      "text/plain": [
       "['job_type',\n",
       " 'day_of_month',\n",
       " 'month',\n",
       " 'num_contacts_in_campaign',\n",
       " 'num_contacts_prev_campaign']"
      ]
     },
     "execution_count": 101,
     "metadata": {
      "tags": []
     },
     "output_type": "execute_result"
    }
   ],
   "source": [
    "freq_cols = [c for c in df.columns if (train[c].nunique() > 10) and (train[c].nunique() < 50)]\n",
    "freq_cols"
   ]
  },
  {
   "cell_type": "code",
   "execution_count": null,
   "metadata": {
    "id": "vlT3BQACtP6J"
   },
   "outputs": [],
   "source": [
    "df = get_frequency_features(df, freq_cols)\n",
    "train_proc, test_proc, features = split_df_and_get_features(df, train.shape[0])"
   ]
  },
  {
   "cell_type": "code",
   "execution_count": null,
   "metadata": {
    "colab": {
     "base_uri": "https://localhost:8080/",
     "height": 1000
    },
    "id": "l34Xqzojk0I-",
    "outputId": "3000fd49-6f0f-4910-af36-e9261a3b5866"
   },
   "outputs": [
    {
     "name": "stdout",
     "output_type": "stream",
     "text": [
      "\n",
      "------------- Fold 1 -------------\n",
      "Training until validation scores don't improve for 200 rounds.\n",
      "[200]\tvalid_0's binary_logloss: 0.205458\n",
      "[400]\tvalid_0's binary_logloss: 0.180558\n",
      "[600]\tvalid_0's binary_logloss: 0.170463\n",
      "[800]\tvalid_0's binary_logloss: 0.166534\n",
      "[1000]\tvalid_0's binary_logloss: 0.164775\n",
      "[1200]\tvalid_0's binary_logloss: 0.163737\n",
      "[1400]\tvalid_0's binary_logloss: 0.163092\n",
      "[1600]\tvalid_0's binary_logloss: 0.162731\n",
      "[1800]\tvalid_0's binary_logloss: 0.162783\n",
      "Early stopping, best iteration is:\n",
      "[1725]\tvalid_0's binary_logloss: 0.162697\n",
      "\n",
      "F1 score for validation set is 0.5839536807278743\n",
      "\n",
      "------------- Fold 2 -------------\n",
      "Training until validation scores don't improve for 200 rounds.\n",
      "[200]\tvalid_0's binary_logloss: 0.20425\n",
      "[400]\tvalid_0's binary_logloss: 0.17895\n",
      "[600]\tvalid_0's binary_logloss: 0.168815\n",
      "[800]\tvalid_0's binary_logloss: 0.164977\n",
      "[1000]\tvalid_0's binary_logloss: 0.163323\n",
      "[1200]\tvalid_0's binary_logloss: 0.161824\n",
      "[1400]\tvalid_0's binary_logloss: 0.161171\n",
      "[1600]\tvalid_0's binary_logloss: 0.160798\n",
      "[1800]\tvalid_0's binary_logloss: 0.160723\n",
      "[2000]\tvalid_0's binary_logloss: 0.160652\n",
      "Did not meet early stopping. Best iteration is:\n",
      "[1871]\tvalid_0's binary_logloss: 0.160614\n",
      "\n",
      "F1 score for validation set is 0.5906480721903199\n",
      "\n",
      "------------- Fold 3 -------------\n",
      "Training until validation scores don't improve for 200 rounds.\n",
      "[200]\tvalid_0's binary_logloss: 0.207765\n",
      "[400]\tvalid_0's binary_logloss: 0.183435\n",
      "[600]\tvalid_0's binary_logloss: 0.173427\n",
      "[800]\tvalid_0's binary_logloss: 0.169593\n",
      "[1000]\tvalid_0's binary_logloss: 0.167787\n",
      "[1200]\tvalid_0's binary_logloss: 0.166559\n",
      "[1400]\tvalid_0's binary_logloss: 0.165626\n",
      "[1600]\tvalid_0's binary_logloss: 0.165219\n",
      "[1800]\tvalid_0's binary_logloss: 0.16504\n",
      "[2000]\tvalid_0's binary_logloss: 0.164892\n",
      "Did not meet early stopping. Best iteration is:\n",
      "[1984]\tvalid_0's binary_logloss: 0.164863\n",
      "\n",
      "F1 score for validation set is 0.5499999999999999\n",
      "\n",
      "------------- Fold 4 -------------\n",
      "Training until validation scores don't improve for 200 rounds.\n",
      "[200]\tvalid_0's binary_logloss: 0.205118\n",
      "[400]\tvalid_0's binary_logloss: 0.180072\n",
      "[600]\tvalid_0's binary_logloss: 0.169829\n",
      "[800]\tvalid_0's binary_logloss: 0.165807\n",
      "[1000]\tvalid_0's binary_logloss: 0.163668\n",
      "[1200]\tvalid_0's binary_logloss: 0.162107\n",
      "[1400]\tvalid_0's binary_logloss: 0.161419\n",
      "[1600]\tvalid_0's binary_logloss: 0.160974\n",
      "[1800]\tvalid_0's binary_logloss: 0.160869\n",
      "[2000]\tvalid_0's binary_logloss: 0.160735\n",
      "Did not meet early stopping. Best iteration is:\n",
      "[1976]\tvalid_0's binary_logloss: 0.160681\n",
      "\n",
      "F1 score for validation set is 0.5768911055694098\n",
      "\n",
      "------------- Fold 5 -------------\n",
      "Training until validation scores don't improve for 200 rounds.\n",
      "[200]\tvalid_0's binary_logloss: 0.208998\n",
      "[400]\tvalid_0's binary_logloss: 0.184689\n",
      "[600]\tvalid_0's binary_logloss: 0.175159\n",
      "[800]\tvalid_0's binary_logloss: 0.171559\n",
      "[1000]\tvalid_0's binary_logloss: 0.169824\n",
      "[1200]\tvalid_0's binary_logloss: 0.168453\n",
      "[1400]\tvalid_0's binary_logloss: 0.167791\n",
      "[1600]\tvalid_0's binary_logloss: 0.167402\n",
      "[1800]\tvalid_0's binary_logloss: 0.167255\n",
      "[2000]\tvalid_0's binary_logloss: 0.167247\n",
      "Did not meet early stopping. Best iteration is:\n",
      "[1903]\tvalid_0's binary_logloss: 0.167147\n",
      "\n",
      "F1 score for validation set is 0.5659751037344398\n",
      "\n",
      "\n",
      "F1 score for oofs is 0.573558648111332\n",
      "Optimal threhold is 0.26\n",
      "Optimized F1 is 0.6548094373865698\n"
     ]
    },
    {
     "data": {
      "image/png": "[encoded data removed]",
      "text/plain": [
       "<Figure size 720x432 with 1 Axes>"
      ]
     },
     "metadata": {
      "tags": []
     },
     "output_type": "display_data"
    }
   ],
   "source": [
    "clf = LGBMClassifier(n_estimators = 2000,\n",
    "                        learning_rate = 0.01,\n",
    "                        colsample_bytree = 0.4,\n",
    "                        reg_alpha = 1,\n",
    "                        reg_lambda = 1\n",
    "                        )\n",
    "fit_params = {'verbose': 200, 'early_stopping_rounds': 200}\n",
    "lgb_oofs, lgb_preds = run_gradient_boosting(clf, fit_params, train_proc, test_proc, features)\n",
    "\n",
    "optimal_thresh = get_optimal_f1_thresh(target, lgb_oofs)\n",
    "print(f'Optimal threhold is {optimal_thresh}')\n",
    "optimized_f1 = f1_score(target, (lgb_oofs > optimal_thresh) * 1)\n",
    "print(f'Optimized F1 is {optimized_f1}')"
   ]
  },
  {
   "cell_type": "markdown",
   "metadata": {
    "id": "LVIch7sv4Qw2"
   },
   "source": [
    "## **Interaction Features**\n",
    "\n",
    "Can any two features be combined to make more sense in the given dataset ?"
   ]
  },
  {
   "cell_type": "code",
   "execution_count": null,
   "metadata": {
    "colab": {
     "base_uri": "https://localhost:8080/",
     "height": 222
    },
    "id": "ZsyHH1IT3K5E",
    "outputId": "0e520647-8322-4700-edae-24c0fc33e572"
   },
   "outputs": [
    {
     "data": {
      "text/html": [
       "<div>\n",
       "<style scoped>\n",
       "    .dataframe tbody tr th:only-of-type {\n",
       "        vertical-align: middle;\n",
       "    }\n",
       "\n",
       "    .dataframe tbody tr th {\n",
       "        vertical-align: top;\n",
       "    }\n",
       "\n",
       "    .dataframe thead th {\n",
       "        text-align: right;\n",
       "    }\n",
       "</style>\n",
       "<table border=\"1\" class=\"dataframe\">\n",
       "  <thead>\n",
       "    <tr style=\"text-align: right;\">\n",
       "      <th></th>\n",
       "      <th>id</th>\n",
       "      <th>customer_age</th>\n",
       "      <th>job_type</th>\n",
       "      <th>marital</th>\n",
       "      <th>education</th>\n",
       "      <th>default</th>\n",
       "      <th>balance</th>\n",
       "      <th>housing_loan</th>\n",
       "      <th>personal_loan</th>\n",
       "      <th>communication_type</th>\n",
       "      <th>day_of_month</th>\n",
       "      <th>month</th>\n",
       "      <th>last_contact_duration</th>\n",
       "      <th>num_contacts_in_campaign</th>\n",
       "      <th>days_since_prev_campaign_contact</th>\n",
       "      <th>num_contacts_prev_campaign</th>\n",
       "      <th>prev_campaign_outcome</th>\n",
       "      <th>term_deposit_subscribed</th>\n",
       "      <th>job_type_freq</th>\n",
       "      <th>day_of_month_freq</th>\n",
       "      <th>month_freq</th>\n",
       "      <th>num_contacts_in_campaign_freq</th>\n",
       "      <th>num_contacts_prev_campaign_freq</th>\n",
       "    </tr>\n",
       "  </thead>\n",
       "  <tbody>\n",
       "    <tr>\n",
       "      <th>0</th>\n",
       "      <td>id_43823</td>\n",
       "      <td>28.0</td>\n",
       "      <td>0</td>\n",
       "      <td>0</td>\n",
       "      <td>0</td>\n",
       "      <td>0</td>\n",
       "      <td>285.0</td>\n",
       "      <td>0</td>\n",
       "      <td>0</td>\n",
       "      <td>0</td>\n",
       "      <td>26</td>\n",
       "      <td>0</td>\n",
       "      <td>303.0</td>\n",
       "      <td>4.0</td>\n",
       "      <td>NaN</td>\n",
       "      <td>0</td>\n",
       "      <td>0</td>\n",
       "      <td>0.0</td>\n",
       "      <td>9458</td>\n",
       "      <td>1035</td>\n",
       "      <td>5341</td>\n",
       "      <td>3510.0</td>\n",
       "      <td>36954</td>\n",
       "    </tr>\n",
       "    <tr>\n",
       "      <th>1</th>\n",
       "      <td>id_32289</td>\n",
       "      <td>34.0</td>\n",
       "      <td>1</td>\n",
       "      <td>1</td>\n",
       "      <td>1</td>\n",
       "      <td>0</td>\n",
       "      <td>934.0</td>\n",
       "      <td>1</td>\n",
       "      <td>1</td>\n",
       "      <td>1</td>\n",
       "      <td>18</td>\n",
       "      <td>1</td>\n",
       "      <td>143.0</td>\n",
       "      <td>2.0</td>\n",
       "      <td>132.0</td>\n",
       "      <td>1</td>\n",
       "      <td>1</td>\n",
       "      <td>0.0</td>\n",
       "      <td>9732</td>\n",
       "      <td>2308</td>\n",
       "      <td>3970</td>\n",
       "      <td>12454.0</td>\n",
       "      <td>2772</td>\n",
       "    </tr>\n",
       "    <tr>\n",
       "      <th>2</th>\n",
       "      <td>id_10523</td>\n",
       "      <td>46.0</td>\n",
       "      <td>2</td>\n",
       "      <td>1</td>\n",
       "      <td>1</td>\n",
       "      <td>0</td>\n",
       "      <td>656.0</td>\n",
       "      <td>1</td>\n",
       "      <td>0</td>\n",
       "      <td>1</td>\n",
       "      <td>5</td>\n",
       "      <td>2</td>\n",
       "      <td>101.0</td>\n",
       "      <td>4.0</td>\n",
       "      <td>NaN</td>\n",
       "      <td>0</td>\n",
       "      <td>0</td>\n",
       "      <td>0.0</td>\n",
       "      <td>7597</td>\n",
       "      <td>1910</td>\n",
       "      <td>2649</td>\n",
       "      <td>3510.0</td>\n",
       "      <td>36954</td>\n",
       "    </tr>\n",
       "    <tr>\n",
       "      <th>3</th>\n",
       "      <td>id_43951</td>\n",
       "      <td>34.0</td>\n",
       "      <td>3</td>\n",
       "      <td>0</td>\n",
       "      <td>1</td>\n",
       "      <td>0</td>\n",
       "      <td>2.0</td>\n",
       "      <td>0</td>\n",
       "      <td>0</td>\n",
       "      <td>0</td>\n",
       "      <td>20</td>\n",
       "      <td>3</td>\n",
       "      <td>127.0</td>\n",
       "      <td>3.0</td>\n",
       "      <td>NaN</td>\n",
       "      <td>0</td>\n",
       "      <td>0</td>\n",
       "      <td>0.0</td>\n",
       "      <td>4154</td>\n",
       "      <td>2752</td>\n",
       "      <td>13766</td>\n",
       "      <td>5502.0</td>\n",
       "      <td>36954</td>\n",
       "    </tr>\n",
       "    <tr>\n",
       "      <th>4</th>\n",
       "      <td>id_40992</td>\n",
       "      <td>41.0</td>\n",
       "      <td>1</td>\n",
       "      <td>1</td>\n",
       "      <td>2</td>\n",
       "      <td>0</td>\n",
       "      <td>1352.0</td>\n",
       "      <td>0</td>\n",
       "      <td>0</td>\n",
       "      <td>1</td>\n",
       "      <td>13</td>\n",
       "      <td>3</td>\n",
       "      <td>49.0</td>\n",
       "      <td>2.0</td>\n",
       "      <td>NaN</td>\n",
       "      <td>0</td>\n",
       "      <td>0</td>\n",
       "      <td>0.0</td>\n",
       "      <td>9732</td>\n",
       "      <td>1585</td>\n",
       "      <td>13766</td>\n",
       "      <td>12454.0</td>\n",
       "      <td>36954</td>\n",
       "    </tr>\n",
       "  </tbody>\n",
       "</table>\n",
       "</div>"
      ],
      "text/plain": [
       "         id  ...  num_contacts_prev_campaign_freq\n",
       "0  id_43823  ...  36954                          \n",
       "1  id_32289  ...  2772                           \n",
       "2  id_10523  ...  36954                          \n",
       "3  id_43951  ...  36954                          \n",
       "4  id_40992  ...  36954                          \n",
       "\n",
       "[5 rows x 23 columns]"
      ]
     },
     "execution_count": 26,
     "metadata": {
      "tags": []
     },
     "output_type": "execute_result"
    }
   ],
   "source": [
    "df.head()"
   ]
  },
  {
   "cell_type": "code",
   "execution_count": null,
   "metadata": {
    "colab": {
     "base_uri": "https://localhost:8080/",
     "height": 190
    },
    "id": "tLrq9BnF3OWX",
    "outputId": "16f17ce5-0a72-4987-93b1-ef1147b8e76d"
   },
   "outputs": [
    {
     "data": {
      "text/html": [
       "<div>\n",
       "<style scoped>\n",
       "    .dataframe tbody tr th:only-of-type {\n",
       "        vertical-align: middle;\n",
       "    }\n",
       "\n",
       "    .dataframe tbody tr th {\n",
       "        vertical-align: top;\n",
       "    }\n",
       "\n",
       "    .dataframe thead th {\n",
       "        text-align: right;\n",
       "    }\n",
       "</style>\n",
       "<table border=\"1\" class=\"dataframe\">\n",
       "  <thead>\n",
       "    <tr style=\"text-align: right;\">\n",
       "      <th></th>\n",
       "      <th>month</th>\n",
       "      <th>day_of_month</th>\n",
       "    </tr>\n",
       "  </thead>\n",
       "  <tbody>\n",
       "    <tr>\n",
       "      <th>0</th>\n",
       "      <td>0</td>\n",
       "      <td>26</td>\n",
       "    </tr>\n",
       "    <tr>\n",
       "      <th>1</th>\n",
       "      <td>1</td>\n",
       "      <td>18</td>\n",
       "    </tr>\n",
       "    <tr>\n",
       "      <th>2</th>\n",
       "      <td>2</td>\n",
       "      <td>5</td>\n",
       "    </tr>\n",
       "    <tr>\n",
       "      <th>3</th>\n",
       "      <td>3</td>\n",
       "      <td>20</td>\n",
       "    </tr>\n",
       "    <tr>\n",
       "      <th>4</th>\n",
       "      <td>3</td>\n",
       "      <td>13</td>\n",
       "    </tr>\n",
       "  </tbody>\n",
       "</table>\n",
       "</div>"
      ],
      "text/plain": [
       "   month  day_of_month\n",
       "0  0      26          \n",
       "1  1      18          \n",
       "2  2      5           \n",
       "3  3      20          \n",
       "4  3      13          "
      ]
     },
     "execution_count": 104,
     "metadata": {
      "tags": []
     },
     "output_type": "execute_result"
    }
   ],
   "source": [
    "df[['month', 'day_of_month']].head()"
   ]
  },
  {
   "cell_type": "code",
   "execution_count": null,
   "metadata": {
    "id": "-TJtOKX02UnU"
   },
   "outputs": [],
   "source": [
    "df['month_and_day_of_month'] = pd.factorize(df['month'].astype('str') + df['day_of_month'].astype('str'))[0]"
   ]
  },
  {
   "cell_type": "code",
   "execution_count": null,
   "metadata": {
    "colab": {
     "base_uri": "https://localhost:8080/",
     "height": 226
    },
    "id": "-HACIxAyuMw1",
    "outputId": "6337b2a6-5015-45f9-a8b8-10e3cf0d6cf6"
   },
   "outputs": [
    {
     "data": {
      "text/plain": [
       "0        0  \n",
       "1        1  \n",
       "2        2  \n",
       "3        3  \n",
       "4        4  \n",
       "        ..  \n",
       "45206    139\n",
       "45207    41 \n",
       "45208    108\n",
       "45209    4  \n",
       "45210    92 \n",
       "Name: month_and_day_of_month, Length: 45211, dtype: int64"
      ]
     },
     "execution_count": 107,
     "metadata": {
      "tags": []
     },
     "output_type": "execute_result"
    }
   ],
   "source": [
    "df['month_and_day_of_month']"
   ]
  },
  {
   "cell_type": "code",
   "execution_count": null,
   "metadata": {
    "colab": {
     "base_uri": "https://localhost:8080/",
     "height": 34
    },
    "id": "0goJ2tjb4kI8",
    "outputId": "ae5cc08e-77c8-4ff2-903a-67d3245ad775"
   },
   "outputs": [
    {
     "data": {
      "text/plain": [
       "311"
      ]
     },
     "execution_count": 108,
     "metadata": {
      "tags": []
     },
     "output_type": "execute_result"
    }
   ],
   "source": [
    "df['month_and_day_of_month'].nunique()"
   ]
  },
  {
   "cell_type": "code",
   "execution_count": null,
   "metadata": {
    "id": "OEsh88EN3TRC"
   },
   "outputs": [],
   "source": [
    "train_proc, test_proc, features = split_df_and_get_features(df, train.shape[0])"
   ]
  },
  {
   "cell_type": "code",
   "execution_count": null,
   "metadata": {
    "colab": {
     "base_uri": "https://localhost:8080/",
     "height": 1000
    },
    "id": "bBaHxcbwxtwF",
    "outputId": "e172cb5c-81d9-4f38-e828-9cc3bf4a89b2"
   },
   "outputs": [
    {
     "name": "stdout",
     "output_type": "stream",
     "text": [
      "\n",
      "------------- Fold 1 -------------\n",
      "Training until validation scores don't improve for 400 rounds.\n",
      "[200]\tvalid_0's binary_logloss: 0.207034\n",
      "[400]\tvalid_0's binary_logloss: 0.179554\n",
      "[600]\tvalid_0's binary_logloss: 0.169858\n",
      "[800]\tvalid_0's binary_logloss: 0.165635\n",
      "[1000]\tvalid_0's binary_logloss: 0.163723\n",
      "[1200]\tvalid_0's binary_logloss: 0.162504\n",
      "[1400]\tvalid_0's binary_logloss: 0.16176\n",
      "[1600]\tvalid_0's binary_logloss: 0.161409\n",
      "[1800]\tvalid_0's binary_logloss: 0.161364\n",
      "[2000]\tvalid_0's binary_logloss: 0.161416\n",
      "Early stopping, best iteration is:\n",
      "[1664]\tvalid_0's binary_logloss: 0.161346\n",
      "\n",
      "F1 score for validation set is 0.582716049382716\n",
      "\n",
      "------------- Fold 2 -------------\n",
      "Training until validation scores don't improve for 400 rounds.\n",
      "[200]\tvalid_0's binary_logloss: 0.204002\n",
      "[400]\tvalid_0's binary_logloss: 0.176246\n",
      "[600]\tvalid_0's binary_logloss: 0.166566\n",
      "[800]\tvalid_0's binary_logloss: 0.162407\n",
      "[1000]\tvalid_0's binary_logloss: 0.160111\n",
      "[1200]\tvalid_0's binary_logloss: 0.158753\n",
      "[1400]\tvalid_0's binary_logloss: 0.158332\n",
      "[1600]\tvalid_0's binary_logloss: 0.158035\n",
      "[1800]\tvalid_0's binary_logloss: 0.157988\n",
      "[2000]\tvalid_0's binary_logloss: 0.158007\n",
      "[2200]\tvalid_0's binary_logloss: 0.158098\n",
      "Early stopping, best iteration is:\n",
      "[1858]\tvalid_0's binary_logloss: 0.157932\n",
      "\n",
      "F1 score for validation set is 0.5972108285479902\n",
      "\n",
      "------------- Fold 3 -------------\n",
      "Training until validation scores don't improve for 400 rounds.\n",
      "[200]\tvalid_0's binary_logloss: 0.209101\n",
      "[400]\tvalid_0's binary_logloss: 0.182578\n",
      "[600]\tvalid_0's binary_logloss: 0.173168\n",
      "[800]\tvalid_0's binary_logloss: 0.168747\n",
      "[1000]\tvalid_0's binary_logloss: 0.166353\n",
      "[1200]\tvalid_0's binary_logloss: 0.164894\n",
      "[1400]\tvalid_0's binary_logloss: 0.164224\n",
      "[1600]\tvalid_0's binary_logloss: 0.163695\n",
      "[1800]\tvalid_0's binary_logloss: 0.163364\n",
      "[2000]\tvalid_0's binary_logloss: 0.163269\n",
      "[2200]\tvalid_0's binary_logloss: 0.163275\n",
      "[2400]\tvalid_0's binary_logloss: 0.163293\n",
      "[2600]\tvalid_0's binary_logloss: 0.163472\n",
      "Early stopping, best iteration is:\n",
      "[2268]\tvalid_0's binary_logloss: 0.163218\n",
      "\n",
      "F1 score for validation set is 0.5714285714285714\n",
      "\n",
      "------------- Fold 4 -------------\n",
      "Training until validation scores don't improve for 400 rounds.\n",
      "[200]\tvalid_0's binary_logloss: 0.204887\n",
      "[400]\tvalid_0's binary_logloss: 0.177806\n",
      "[600]\tvalid_0's binary_logloss: 0.168279\n",
      "[800]\tvalid_0's binary_logloss: 0.164075\n",
      "[1000]\tvalid_0's binary_logloss: 0.161766\n",
      "[1200]\tvalid_0's binary_logloss: 0.16057\n",
      "[1400]\tvalid_0's binary_logloss: 0.159903\n",
      "[1600]\tvalid_0's binary_logloss: 0.159558\n",
      "[1800]\tvalid_0's binary_logloss: 0.15946\n",
      "[2000]\tvalid_0's binary_logloss: 0.159622\n",
      "[2200]\tvalid_0's binary_logloss: 0.159882\n",
      "Early stopping, best iteration is:\n",
      "[1808]\tvalid_0's binary_logloss: 0.159452\n",
      "\n",
      "F1 score for validation set is 0.5846407927332783\n",
      "\n",
      "------------- Fold 5 -------------\n",
      "Training until validation scores don't improve for 400 rounds.\n",
      "[200]\tvalid_0's binary_logloss: 0.209378\n",
      "[400]\tvalid_0's binary_logloss: 0.183121\n",
      "[600]\tvalid_0's binary_logloss: 0.174155\n",
      "[800]\tvalid_0's binary_logloss: 0.170289\n",
      "[1000]\tvalid_0's binary_logloss: 0.167925\n",
      "[1200]\tvalid_0's binary_logloss: 0.166552\n",
      "[1400]\tvalid_0's binary_logloss: 0.165916\n",
      "[1600]\tvalid_0's binary_logloss: 0.165548\n",
      "[1800]\tvalid_0's binary_logloss: 0.165475\n",
      "[2000]\tvalid_0's binary_logloss: 0.16547\n",
      "[2200]\tvalid_0's binary_logloss: 0.165556\n",
      "Early stopping, best iteration is:\n",
      "[1881]\tvalid_0's binary_logloss: 0.165388\n",
      "\n",
      "F1 score for validation set is 0.5579470198675496\n",
      "\n",
      "\n",
      "F1 score for oofs is 0.578825857519789\n",
      "Optimal threhold is 0.23\n",
      "Optimized F1 is 0.66\n"
     ]
    },
    {
     "data": {
      "image/png": "[encoded data removed]",
      "text/plain": [
       "<Figure size 720x432 with 1 Axes>"
      ]
     },
     "metadata": {
      "tags": []
     },
     "output_type": "display_data"
    }
   ],
   "source": [
    "clf = LGBMClassifier(n_estimators = 3000,\n",
    "                        learning_rate = 0.01,\n",
    "                        colsample_bytree = 0.38,\n",
    "                        reg_alpha = 1,\n",
    "                        reg_lambda = 1,\n",
    "                        )\n",
    "fit_params = {'verbose': 200, 'early_stopping_rounds': 400}\n",
    "lgb_oofs, lgb_preds = run_gradient_boosting(clf, fit_params, train_proc, test_proc, features)\n",
    "\n",
    "optimal_thresh = get_optimal_f1_thresh(target, lgb_oofs)\n",
    "print(f'Optimal threhold is {optimal_thresh}')\n",
    "optimized_f1 = f1_score(target, (lgb_oofs > optimal_thresh) * 1)\n",
    "print(f'Optimized F1 is {optimized_f1}')"
   ]
  },
  {
   "cell_type": "markdown",
   "metadata": {
    "id": "UszCijqOnX7h"
   },
   "source": [
    "**EDA and features from EDA**"
   ]
  },
  {
   "cell_type": "code",
   "execution_count": null,
   "metadata": {
    "colab": {
     "base_uri": "https://localhost:8080/",
     "height": 226
    },
    "id": "xEwjWX4jvnpu",
    "outputId": "d80f9191-dc7a-469c-9b9f-164b1c4f7b4d"
   },
   "outputs": [
    {
     "data": {
      "text/plain": [
       "47     1126\n",
       "31     1011\n",
       "4      1002\n",
       "11     891 \n",
       "45     841 \n",
       "      ...  \n",
       "308    1   \n",
       "309    1   \n",
       "293    1   \n",
       "310    1   \n",
       "300    1   \n",
       "Name: month_and_day_of_month, Length: 311, dtype: int64"
      ]
     },
     "execution_count": 112,
     "metadata": {
      "tags": []
     },
     "output_type": "execute_result"
    }
   ],
   "source": [
    "df['month_and_day_of_month'].value_counts()"
   ]
  },
  {
   "cell_type": "code",
   "execution_count": null,
   "metadata": {
    "id": "64GRulIO4wrU"
   },
   "outputs": [],
   "source": [
    "df = get_frequency_features(df, ['month_and_day_of_month'])\n",
    "train_proc, test_proc, features = split_df_and_get_features(df, train.shape[0])"
   ]
  },
  {
   "cell_type": "code",
   "execution_count": null,
   "metadata": {
    "colab": {
     "base_uri": "https://localhost:8080/",
     "height": 17
    },
    "id": "Rt43xGyJvNSF",
    "outputId": "13d0af68-7a01-4ef8-dc0d-a3ddd51f031d"
   },
   "outputs": [
    {
     "data": {
      "application/javascript": [
       "\n",
       "    async function download(id, filename, size) {\n",
       "      if (!google.colab.kernel.accessAllowed) {\n",
       "        return;\n",
       "      }\n",
       "      const div = document.createElement('div');\n",
       "      const label = document.createElement('label');\n",
       "      label.textContent = `Downloading \"${filename}\": `;\n",
       "      div.appendChild(label);\n",
       "      const progress = document.createElement('progress');\n",
       "      progress.max = size;\n",
       "      div.appendChild(progress);\n",
       "      document.body.appendChild(div);\n",
       "\n",
       "      const buffers = [];\n",
       "      let downloaded = 0;\n",
       "\n",
       "      const channel = await google.colab.kernel.comms.open(id);\n",
       "      // Send a message to notify the kernel that we're ready.\n",
       "      channel.send({})\n",
       "\n",
       "      for await (const message of channel.messages) {\n",
       "        // Send a message to notify the kernel that we're ready.\n",
       "        channel.send({})\n",
       "        if (message.buffers) {\n",
       "          for (const buffer of message.buffers) {\n",
       "            buffers.push(buffer);\n",
       "            downloaded += buffer.byteLength;\n",
       "            progress.value = downloaded;\n",
       "          }\n",
       "        }\n",
       "      }\n",
       "      const blob = new Blob(buffers, {type: 'application/binary'});\n",
       "      const a = document.createElement('a');\n",
       "      a.href = window.URL.createObjectURL(blob);\n",
       "      a.download = filename;\n",
       "      div.appendChild(a);\n",
       "      a.click();\n",
       "      div.remove();\n",
       "    }\n",
       "  "
      ],
      "text/plain": [
       "<IPython.core.display.Javascript object>"
      ]
     },
     "metadata": {
      "tags": []
     },
     "output_type": "display_data"
    },
    {
     "data": {
      "application/javascript": [
       "download(\"download_36a8ca94-a6c4-4099-b21c-7a411fc3bafa\", \"hacklive_lgb_5_folds_fe.csv\", 145831)"
      ],
      "text/plain": [
       "<IPython.core.display.Javascript object>"
      ]
     },
     "metadata": {
      "tags": []
     },
     "output_type": "display_data"
    }
   ],
   "source": [
    "lgb_preds_rounded = (lgb_preds > optimal_thresh) * 1\n",
    "download_preds(lgb_preds_rounded, file_name = 'hacklive_lgb_5_folds_fe.csv')"
   ]
  },
  {
   "cell_type": "code",
   "execution_count": null,
   "metadata": {
    "colab": {
     "base_uri": "https://localhost:8080/",
     "height": 226
    },
    "id": "t7FvW4XfwS9K",
    "outputId": "3bdf1d96-6588-4742-9c0a-68843ce7c6bb"
   },
   "outputs": [
    {
     "data": {
      "text/plain": [
       "0        3.0\n",
       "1        2.0\n",
       "2        2.0\n",
       "3        2.0\n",
       "4        1.0\n",
       "        ... \n",
       "31642    2.0\n",
       "31643    3.0\n",
       "31644    1.0\n",
       "31645    2.0\n",
       "31646    3.0\n",
       "Name: education, Length: 31647, dtype: float64"
      ]
     },
     "execution_count": 118,
     "metadata": {
      "tags": []
     },
     "output_type": "execute_result"
    }
   ],
   "source": [
    "train['education'].map({'primary': 1, 'secondary': 2, 'tertiary': 3})"
   ]
  },
  {
   "cell_type": "code",
   "execution_count": null,
   "metadata": {
    "colab": {
     "base_uri": "https://localhost:8080/",
     "height": 1000
    },
    "id": "fgqGipkz5YDp",
    "outputId": "7b64eb72-1b21-4ade-b330-7e5787c957aa"
   },
   "outputs": [
    {
     "name": "stdout",
     "output_type": "stream",
     "text": [
      "\n",
      "------------- Fold 1 -------------\n",
      "Training until validation scores don't improve for 400 rounds.\n",
      "[200]\tvalid_0's binary_logloss: 0.207293\n",
      "[400]\tvalid_0's binary_logloss: 0.178549\n",
      "[600]\tvalid_0's binary_logloss: 0.169959\n",
      "[800]\tvalid_0's binary_logloss: 0.165109\n",
      "[1000]\tvalid_0's binary_logloss: 0.163458\n",
      "[1200]\tvalid_0's binary_logloss: 0.161927\n",
      "[1400]\tvalid_0's binary_logloss: 0.161026\n",
      "[1600]\tvalid_0's binary_logloss: 0.160614\n",
      "[1800]\tvalid_0's binary_logloss: 0.160538\n",
      "[2000]\tvalid_0's binary_logloss: 0.160391\n",
      "[2200]\tvalid_0's binary_logloss: 0.16044\n",
      "[2400]\tvalid_0's binary_logloss: 0.160494\n",
      "Early stopping, best iteration is:\n",
      "[2075]\tvalid_0's binary_logloss: 0.160337\n",
      "\n",
      "F1 score for validation set is 0.5905383360522023\n",
      "\n",
      "------------- Fold 2 -------------\n",
      "Training until validation scores don't improve for 400 rounds.\n",
      "[200]\tvalid_0's binary_logloss: 0.203244\n",
      "[400]\tvalid_0's binary_logloss: 0.174633\n",
      "[600]\tvalid_0's binary_logloss: 0.166271\n",
      "[800]\tvalid_0's binary_logloss: 0.161494\n",
      "[1000]\tvalid_0's binary_logloss: 0.159842\n",
      "[1200]\tvalid_0's binary_logloss: 0.158234\n",
      "[1400]\tvalid_0's binary_logloss: 0.157413\n",
      "[1600]\tvalid_0's binary_logloss: 0.157173\n",
      "[1800]\tvalid_0's binary_logloss: 0.157115\n",
      "[2000]\tvalid_0's binary_logloss: 0.157252\n",
      "Early stopping, best iteration is:\n",
      "[1747]\tvalid_0's binary_logloss: 0.157051\n",
      "\n",
      "F1 score for validation set is 0.6030719482619241\n",
      "\n",
      "------------- Fold 3 -------------\n",
      "Training until validation scores don't improve for 400 rounds.\n",
      "[200]\tvalid_0's binary_logloss: 0.209053\n",
      "[400]\tvalid_0's binary_logloss: 0.181596\n",
      "[600]\tvalid_0's binary_logloss: 0.173299\n",
      "[800]\tvalid_0's binary_logloss: 0.168101\n",
      "[1000]\tvalid_0's binary_logloss: 0.166266\n",
      "[1200]\tvalid_0's binary_logloss: 0.164403\n",
      "[1400]\tvalid_0's binary_logloss: 0.163453\n",
      "[1600]\tvalid_0's binary_logloss: 0.162822\n",
      "[1800]\tvalid_0's binary_logloss: 0.162538\n",
      "[2000]\tvalid_0's binary_logloss: 0.162484\n",
      "[2200]\tvalid_0's binary_logloss: 0.162342\n",
      "[2400]\tvalid_0's binary_logloss: 0.16227\n",
      "[2600]\tvalid_0's binary_logloss: 0.162363\n",
      "Early stopping, best iteration is:\n",
      "[2332]\tvalid_0's binary_logloss: 0.162247\n",
      "\n",
      "F1 score for validation set is 0.5709624796084828\n",
      "\n",
      "------------- Fold 4 -------------\n",
      "Training until validation scores don't improve for 400 rounds.\n",
      "[200]\tvalid_0's binary_logloss: 0.204467\n",
      "[400]\tvalid_0's binary_logloss: 0.176295\n",
      "[600]\tvalid_0's binary_logloss: 0.167554\n",
      "[800]\tvalid_0's binary_logloss: 0.16272\n",
      "[1000]\tvalid_0's binary_logloss: 0.160633\n",
      "[1200]\tvalid_0's binary_logloss: 0.15905\n",
      "[1400]\tvalid_0's binary_logloss: 0.158138\n",
      "[1600]\tvalid_0's binary_logloss: 0.157667\n",
      "[1800]\tvalid_0's binary_logloss: 0.15753\n",
      "[2000]\tvalid_0's binary_logloss: 0.157462\n",
      "[2200]\tvalid_0's binary_logloss: 0.157622\n",
      "[2400]\tvalid_0's binary_logloss: 0.157863\n",
      "Early stopping, best iteration is:\n",
      "[2016]\tvalid_0's binary_logloss: 0.157453\n",
      "\n",
      "F1 score for validation set is 0.5868852459016394\n",
      "\n",
      "------------- Fold 5 -------------\n",
      "Training until validation scores don't improve for 400 rounds.\n",
      "[200]\tvalid_0's binary_logloss: 0.209803\n",
      "[400]\tvalid_0's binary_logloss: 0.182384\n",
      "[600]\tvalid_0's binary_logloss: 0.174429\n",
      "[800]\tvalid_0's binary_logloss: 0.169682\n",
      "[1000]\tvalid_0's binary_logloss: 0.16806\n",
      "[1200]\tvalid_0's binary_logloss: 0.166588\n",
      "[1400]\tvalid_0's binary_logloss: 0.165691\n",
      "[1600]\tvalid_0's binary_logloss: 0.165402\n",
      "[1800]\tvalid_0's binary_logloss: 0.165268\n",
      "[2000]\tvalid_0's binary_logloss: 0.16536\n",
      "Early stopping, best iteration is:\n",
      "[1795]\tvalid_0's binary_logloss: 0.165258\n",
      "\n",
      "F1 score for validation set is 0.5721352019785655\n",
      "\n",
      "\n",
      "F1 score for oofs is 0.5847762169225742\n",
      "Optimal threhold is 0.26\n",
      "Optimized F1 is 0.6612805980947787\n"
     ]
    },
    {
     "data": {
      "image/png": "[encoded data removed]",
      "text/plain": [
       "<Figure size 720x432 with 1 Axes>"
      ]
     },
     "metadata": {
      "tags": []
     },
     "output_type": "display_data"
    }
   ],
   "source": [
    "clf = LGBMClassifier(n_estimators = 3000,\n",
    "                        learning_rate = 0.01,\n",
    "                        colsample_bytree = 0.38,\n",
    "                        reg_alpha = 1,\n",
    "                        reg_lambda = 1,\n",
    "                        )\n",
    "fit_params = {'verbose': 200, 'early_stopping_rounds': 400}\n",
    "lgb_oofs, lgb_preds = run_gradient_boosting(clf, fit_params, train_proc, test_proc, features)\n",
    "\n",
    "optimal_thresh = get_optimal_f1_thresh(target, lgb_oofs)\n",
    "print(f'Optimal threhold is {optimal_thresh}')\n",
    "optimized_f1 = f1_score(target, (lgb_oofs > optimal_thresh) * 1)\n",
    "print(f'Optimized F1 is {optimized_f1}')"
   ]
  },
  {
   "cell_type": "code",
   "execution_count": null,
   "metadata": {
    "colab": {
     "base_uri": "https://localhost:8080/",
     "height": 17
    },
    "id": "wtVcTPiZww-1",
    "outputId": "eb7d40f4-3bf1-4f41-b57d-24bafd7667a4"
   },
   "outputs": [
    {
     "data": {
      "application/javascript": [
       "\n",
       "    async function download(id, filename, size) {\n",
       "      if (!google.colab.kernel.accessAllowed) {\n",
       "        return;\n",
       "      }\n",
       "      const div = document.createElement('div');\n",
       "      const label = document.createElement('label');\n",
       "      label.textContent = `Downloading \"${filename}\": `;\n",
       "      div.appendChild(label);\n",
       "      const progress = document.createElement('progress');\n",
       "      progress.max = size;\n",
       "      div.appendChild(progress);\n",
       "      document.body.appendChild(div);\n",
       "\n",
       "      const buffers = [];\n",
       "      let downloaded = 0;\n",
       "\n",
       "      const channel = await google.colab.kernel.comms.open(id);\n",
       "      // Send a message to notify the kernel that we're ready.\n",
       "      channel.send({})\n",
       "\n",
       "      for await (const message of channel.messages) {\n",
       "        // Send a message to notify the kernel that we're ready.\n",
       "        channel.send({})\n",
       "        if (message.buffers) {\n",
       "          for (const buffer of message.buffers) {\n",
       "            buffers.push(buffer);\n",
       "            downloaded += buffer.byteLength;\n",
       "            progress.value = downloaded;\n",
       "          }\n",
       "        }\n",
       "      }\n",
       "      const blob = new Blob(buffers, {type: 'application/binary'});\n",
       "      const a = document.createElement('a');\n",
       "      a.href = window.URL.createObjectURL(blob);\n",
       "      a.download = filename;\n",
       "      div.appendChild(a);\n",
       "      a.click();\n",
       "      div.remove();\n",
       "    }\n",
       "  "
      ],
      "text/plain": [
       "<IPython.core.display.Javascript object>"
      ]
     },
     "metadata": {
      "tags": []
     },
     "output_type": "display_data"
    },
    {
     "data": {
      "application/javascript": [
       "download(\"download_f0700a2b-886a-4507-8a33-6f67942b17b0\", \"hacklive_lgb_5_folds_fe_freq.csv\", 145831)"
      ],
      "text/plain": [
       "<IPython.core.display.Javascript object>"
      ]
     },
     "metadata": {
      "tags": []
     },
     "output_type": "display_data"
    }
   ],
   "source": [
    "lgb_preds_rounded = (lgb_preds > optimal_thresh) * 1\n",
    "download_preds(lgb_preds_rounded, file_name = 'hacklive_lgb_5_folds_fe_freq.csv')"
   ]
  },
  {
   "cell_type": "markdown",
   "metadata": {
    "id": "N5hw9Cke6GnB"
   },
   "source": [
    "## **Grouping Features**"
   ]
  },
  {
   "cell_type": "code",
   "execution_count": null,
   "metadata": {
    "id": "UlQMUiBs6GQ_"
   },
   "outputs": [],
   "source": [
    "df['mean_age_for_customer_on_month_and_day_of_month'] = df.groupby('month_and_day_of_month')['customer_age'].transform('mean')\n",
    "train_proc, test_proc, features = split_df_and_get_features(df, train.shape[0])"
   ]
  },
  {
   "cell_type": "code",
   "execution_count": null,
   "metadata": {
    "colab": {
     "base_uri": "https://localhost:8080/",
     "height": 1000
    },
    "id": "ttESXgg16avp",
    "outputId": "15c4bce8-c4be-4169-92ff-50a124d7062b"
   },
   "outputs": [
    {
     "name": "stdout",
     "output_type": "stream",
     "text": [
      "\n",
      "------------- Fold 1 -------------\n",
      "Training until validation scores don't improve for 400 rounds.\n",
      "[200]\tvalid_0's binary_logloss: 0.202053\n",
      "[400]\tvalid_0's binary_logloss: 0.17671\n",
      "[600]\tvalid_0's binary_logloss: 0.16704\n",
      "[800]\tvalid_0's binary_logloss: 0.163316\n",
      "[1000]\tvalid_0's binary_logloss: 0.161244\n",
      "[1200]\tvalid_0's binary_logloss: 0.160354\n",
      "[1400]\tvalid_0's binary_logloss: 0.160107\n",
      "[1600]\tvalid_0's binary_logloss: 0.159898\n",
      "[1800]\tvalid_0's binary_logloss: 0.159865\n",
      "[2000]\tvalid_0's binary_logloss: 0.159911\n",
      "Early stopping, best iteration is:\n",
      "[1705]\tvalid_0's binary_logloss: 0.159833\n",
      "\n",
      "F1 score for validation set is 0.5842880523731587\n",
      "\n",
      "------------- Fold 2 -------------\n",
      "Training until validation scores don't improve for 400 rounds.\n",
      "[200]\tvalid_0's binary_logloss: 0.199161\n",
      "[400]\tvalid_0's binary_logloss: 0.173862\n",
      "[600]\tvalid_0's binary_logloss: 0.164341\n",
      "[800]\tvalid_0's binary_logloss: 0.160841\n",
      "[1000]\tvalid_0's binary_logloss: 0.158901\n",
      "[1200]\tvalid_0's binary_logloss: 0.158041\n",
      "[1400]\tvalid_0's binary_logloss: 0.15772\n",
      "[1600]\tvalid_0's binary_logloss: 0.157613\n",
      "[1800]\tvalid_0's binary_logloss: 0.157507\n",
      "[2000]\tvalid_0's binary_logloss: 0.157452\n",
      "[2200]\tvalid_0's binary_logloss: 0.157526\n",
      "[2400]\tvalid_0's binary_logloss: 0.157715\n",
      "Early stopping, best iteration is:\n",
      "[2014]\tvalid_0's binary_logloss: 0.157421\n",
      "\n",
      "F1 score for validation set is 0.6042003231017772\n",
      "\n",
      "------------- Fold 3 -------------\n",
      "Training until validation scores don't improve for 400 rounds.\n",
      "[200]\tvalid_0's binary_logloss: 0.204594\n",
      "[400]\tvalid_0's binary_logloss: 0.180119\n",
      "[600]\tvalid_0's binary_logloss: 0.170723\n",
      "[800]\tvalid_0's binary_logloss: 0.166944\n",
      "[1000]\tvalid_0's binary_logloss: 0.16481\n",
      "[1200]\tvalid_0's binary_logloss: 0.163371\n",
      "[1400]\tvalid_0's binary_logloss: 0.162739\n",
      "[1600]\tvalid_0's binary_logloss: 0.162412\n",
      "[1800]\tvalid_0's binary_logloss: 0.162039\n",
      "[2000]\tvalid_0's binary_logloss: 0.161942\n",
      "[2200]\tvalid_0's binary_logloss: 0.161956\n",
      "[2400]\tvalid_0's binary_logloss: 0.162052\n",
      "Early stopping, best iteration is:\n",
      "[2111]\tvalid_0's binary_logloss: 0.1619\n",
      "\n",
      "F1 score for validation set is 0.5728234336859236\n",
      "\n",
      "------------- Fold 4 -------------\n",
      "Training until validation scores don't improve for 400 rounds.\n",
      "[200]\tvalid_0's binary_logloss: 0.200185\n",
      "[400]\tvalid_0's binary_logloss: 0.174899\n",
      "[600]\tvalid_0's binary_logloss: 0.165077\n",
      "[800]\tvalid_0's binary_logloss: 0.16108\n",
      "[1000]\tvalid_0's binary_logloss: 0.158699\n",
      "[1200]\tvalid_0's binary_logloss: 0.157611\n",
      "[1400]\tvalid_0's binary_logloss: 0.15722\n",
      "[1600]\tvalid_0's binary_logloss: 0.156918\n",
      "[1800]\tvalid_0's binary_logloss: 0.156768\n",
      "[2000]\tvalid_0's binary_logloss: 0.156807\n",
      "[2200]\tvalid_0's binary_logloss: 0.157152\n",
      "Early stopping, best iteration is:\n",
      "[1878]\tvalid_0's binary_logloss: 0.156722\n",
      "\n",
      "F1 score for validation set is 0.5899513776337115\n",
      "\n",
      "------------- Fold 5 -------------\n",
      "Training until validation scores don't improve for 400 rounds.\n",
      "[200]\tvalid_0's binary_logloss: 0.205112\n",
      "[400]\tvalid_0's binary_logloss: 0.180961\n",
      "[600]\tvalid_0's binary_logloss: 0.171922\n",
      "[800]\tvalid_0's binary_logloss: 0.168526\n",
      "[1000]\tvalid_0's binary_logloss: 0.166699\n",
      "[1200]\tvalid_0's binary_logloss: 0.165746\n",
      "[1400]\tvalid_0's binary_logloss: 0.165632\n",
      "[1600]\tvalid_0's binary_logloss: 0.16547\n",
      "[1800]\tvalid_0's binary_logloss: 0.165519\n",
      "[2000]\tvalid_0's binary_logloss: 0.165508\n",
      "Early stopping, best iteration is:\n",
      "[1607]\tvalid_0's binary_logloss: 0.165444\n",
      "\n",
      "F1 score for validation set is 0.5756578947368421\n",
      "\n",
      "\n",
      "F1 score for oofs is 0.5854373676494544\n",
      "Optimal threhold is 0.29\n",
      "Optimized F1 is 0.6621067031463749\n"
     ]
    },
    {
     "data": {
      "image/png": "[encoded data removed]",
      "text/plain": [
       "<Figure size 720x432 with 1 Axes>"
      ]
     },
     "metadata": {
      "tags": []
     },
     "output_type": "display_data"
    }
   ],
   "source": [
    "clf = LGBMClassifier(n_estimators = 3000,\n",
    "                        learning_rate = 0.01,\n",
    "                        colsample_bytree = 0.38,\n",
    "                        reg_alpha = 1,\n",
    "                        reg_lambda = 1,\n",
    "                        )\n",
    "fit_params = {'verbose': 200, 'early_stopping_rounds': 400}\n",
    "lgb_oofs, lgb_preds = run_gradient_boosting(clf, fit_params, train_proc, test_proc, features)\n",
    "\n",
    "optimal_thresh = get_optimal_f1_thresh(target, lgb_oofs)\n",
    "print(f'Optimal threhold is {optimal_thresh}')\n",
    "optimized_f1 = f1_score(target, (lgb_oofs > optimal_thresh) * 1)\n",
    "print(f'Optimized F1 is {optimized_f1}')"
   ]
  },
  {
   "cell_type": "code",
   "execution_count": null,
   "metadata": {
    "colab": {
     "base_uri": "https://localhost:8080/",
     "height": 17
    },
    "id": "ob8gmn3YyIm6",
    "outputId": "e1a4816d-40ac-44dd-dee1-be55a9ccb432"
   },
   "outputs": [
    {
     "data": {
      "application/javascript": [
       "\n",
       "    async function download(id, filename, size) {\n",
       "      if (!google.colab.kernel.accessAllowed) {\n",
       "        return;\n",
       "      }\n",
       "      const div = document.createElement('div');\n",
       "      const label = document.createElement('label');\n",
       "      label.textContent = `Downloading \"${filename}\": `;\n",
       "      div.appendChild(label);\n",
       "      const progress = document.createElement('progress');\n",
       "      progress.max = size;\n",
       "      div.appendChild(progress);\n",
       "      document.body.appendChild(div);\n",
       "\n",
       "      const buffers = [];\n",
       "      let downloaded = 0;\n",
       "\n",
       "      const channel = await google.colab.kernel.comms.open(id);\n",
       "      // Send a message to notify the kernel that we're ready.\n",
       "      channel.send({})\n",
       "\n",
       "      for await (const message of channel.messages) {\n",
       "        // Send a message to notify the kernel that we're ready.\n",
       "        channel.send({})\n",
       "        if (message.buffers) {\n",
       "          for (const buffer of message.buffers) {\n",
       "            buffers.push(buffer);\n",
       "            downloaded += buffer.byteLength;\n",
       "            progress.value = downloaded;\n",
       "          }\n",
       "        }\n",
       "      }\n",
       "      const blob = new Blob(buffers, {type: 'application/binary'});\n",
       "      const a = document.createElement('a');\n",
       "      a.href = window.URL.createObjectURL(blob);\n",
       "      a.download = filename;\n",
       "      div.appendChild(a);\n",
       "      a.click();\n",
       "      div.remove();\n",
       "    }\n",
       "  "
      ],
      "text/plain": [
       "<IPython.core.display.Javascript object>"
      ]
     },
     "metadata": {
      "tags": []
     },
     "output_type": "display_data"
    },
    {
     "data": {
      "application/javascript": [
       "download(\"download_0c0f467a-50c6-48f5-92c9-b616b6208a5f\", \"hacklive_lgb_5_folds_fe_freq_grouped.csv\", 145831)"
      ],
      "text/plain": [
       "<IPython.core.display.Javascript object>"
      ]
     },
     "metadata": {
      "tags": []
     },
     "output_type": "display_data"
    }
   ],
   "source": [
    "lgb_preds_rounded = (lgb_preds > optimal_thresh) * 1\n",
    "download_preds(lgb_preds_rounded, file_name = 'hacklive_lgb_5_folds_fe_freq_grouped.csv')"
   ]
  },
  {
   "cell_type": "markdown",
   "metadata": {
    "id": "B9kdESaZsma2"
   },
   "source": [
    "# **Ensembling**\n",
    "\n",
    "In statistics and machine learning, ensemble methods use multiple learning algorithms to obtain better predictive performance than could be obtained from any of the constituent learning algorithms alone.\n",
    "\n",
    "\n",
    "\n",
    "* What are our best performing algorithms ?\n",
    "* How do we combine these algorithms to get a better performance ?"
   ]
  },
  {
   "cell_type": "markdown",
   "metadata": {
    "id": "uxCGQlaTPqJr"
   },
   "source": [
    "![Ensembling.jpg](data:image/jpeg;base64,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)"
   ]
  },
  {
   "cell_type": "markdown",
   "metadata": {
    "id": "VA3CvC6gPpXA"
   },
   "source": [
    "https://courses.analyticsvidhya.com/courses/ensemble-learning-and-ensemble-learning-techniques"
   ]
  },
  {
   "cell_type": "code",
   "execution_count": null,
   "metadata": {
    "id": "Xb5Rbh49Lqvn"
   },
   "outputs": [],
   "source": [
    "train_new = train[[ID_COL, TARGET_COL]]\n",
    "test_new = test[[ID_COL]]\n",
    "\n",
    "train_new['lgb'] = lgb_oofs\n",
    "test_new['lgb'] = lgb_preds\n",
    "\n",
    "train_new['cb'] = cb_oofs\n",
    "test_new['cb'] = cb_preds\n",
    "\n",
    "train_new['xgb'] = xgb_oofs\n",
    "test_new['xgb'] = xgb_preds\n",
    "\n",
    "features = [c for c in train_new.columns if c not in [ID_COL, TARGET_COL]]"
   ]
  },
  {
   "cell_type": "code",
   "execution_count": null,
   "metadata": {
    "colab": {
     "base_uri": "https://localhost:8080/",
     "height": 35
    },
    "id": "k7jvffM_064b",
    "outputId": "e75cdf81-541d-44a8-c022-3f9fb5f3ca8e"
   },
   "outputs": [
    {
     "data": {
      "text/plain": [
       "['lgb', 'cb', 'xgb']"
      ]
     },
     "execution_count": 126,
     "metadata": {
      "tags": []
     },
     "output_type": "execute_result"
    }
   ],
   "source": [
    "features"
   ]
  },
  {
   "cell_type": "code",
   "execution_count": null,
   "metadata": {
    "colab": {
     "base_uri": "https://localhost:8080/",
     "height": 1000
    },
    "id": "DYqIhdSJNQ4W",
    "outputId": "2efb309d-fd3a-48ca-9e41-f7cad3dc2390"
   },
   "outputs": [
    {
     "name": "stdout",
     "output_type": "stream",
     "text": [
      "\n",
      "------------- Fold 1 -------------\n",
      "Training until validation scores don't improve for 200 rounds.\n",
      "[200]\tvalid_0's binary_logloss: 0.166744\n",
      "[400]\tvalid_0's binary_logloss: 0.157022\n",
      "[600]\tvalid_0's binary_logloss: 0.156442\n",
      "Early stopping, best iteration is:\n",
      "[554]\tvalid_0's binary_logloss: 0.156391\n",
      "\n",
      "F1 score for validation set is 0.6134185303514378\n",
      "\n",
      "------------- Fold 2 -------------\n",
      "Training until validation scores don't improve for 200 rounds.\n",
      "[200]\tvalid_0's binary_logloss: 0.164457\n",
      "[400]\tvalid_0's binary_logloss: 0.154572\n",
      "[600]\tvalid_0's binary_logloss: 0.153962\n",
      "Early stopping, best iteration is:\n",
      "[574]\tvalid_0's binary_logloss: 0.15394\n",
      "\n",
      "F1 score for validation set is 0.6297739672642244\n",
      "\n",
      "------------- Fold 3 -------------\n",
      "Training until validation scores don't improve for 200 rounds.\n",
      "[200]\tvalid_0's binary_logloss: 0.167124\n",
      "[400]\tvalid_0's binary_logloss: 0.158289\n",
      "[600]\tvalid_0's binary_logloss: 0.157992\n",
      "Early stopping, best iteration is:\n",
      "[503]\tvalid_0's binary_logloss: 0.157857\n",
      "\n",
      "F1 score for validation set is 0.5899053627760252\n",
      "\n",
      "------------- Fold 4 -------------\n",
      "Training until validation scores don't improve for 200 rounds.\n",
      "[200]\tvalid_0's binary_logloss: 0.165397\n",
      "[400]\tvalid_0's binary_logloss: 0.155319\n",
      "[600]\tvalid_0's binary_logloss: 0.154809\n",
      "Early stopping, best iteration is:\n",
      "[513]\tvalid_0's binary_logloss: 0.154702\n",
      "\n",
      "F1 score for validation set is 0.6159936658749011\n",
      "\n",
      "------------- Fold 5 -------------\n",
      "Training until validation scores don't improve for 200 rounds.\n",
      "[200]\tvalid_0's binary_logloss: 0.17085\n",
      "[400]\tvalid_0's binary_logloss: 0.162259\n",
      "[600]\tvalid_0's binary_logloss: 0.161589\n",
      "Early stopping, best iteration is:\n",
      "[542]\tvalid_0's binary_logloss: 0.161551\n",
      "\n",
      "F1 score for validation set is 0.6007843137254902\n",
      "\n",
      "\n",
      "F1 score for oofs is 0.6099984229616779\n",
      "Optimal threhold is 0.31\n",
      "Optimized F1 is 0.6624128559612431\n"
     ]
    },
    {
     "data": {
      "image/png": "[encoded data removed]",
      "text/plain": [
       "<Figure size 720x432 with 1 Axes>"
      ]
     },
     "metadata": {
      "tags": []
     },
     "output_type": "display_data"
    }
   ],
   "source": [
    "clf = LGBMClassifier(n_estimators = 2000,\n",
    "                        learning_rate = 0.01,\n",
    "                        colsample_bytree = 0.75,\n",
    "                        reg_alpha=1,\n",
    "                        reg_lambda=1,\n",
    "                        )\n",
    "fit_params = {'verbose': 200, 'early_stopping_rounds': 200}\n",
    "lgb_oofs, lgb_preds = run_gradient_boosting(clf, fit_params, train_new, test_new, features)\n",
    "\n",
    "optimal_thresh = get_optimal_f1_thresh(target, lgb_oofs)\n",
    "print(f'Optimal threhold is {optimal_thresh}')\n",
    "optimized_f1 = f1_score(target, (lgb_oofs > optimal_thresh) * 1)\n",
    "print(f'Optimized F1 is {optimized_f1}')"
   ]
  },
  {
   "cell_type": "markdown",
   "metadata": {
    "id": "1CYVrDiqT8Vl"
   },
   "source": [
    "# Conclusions:\n"
   ]
  },
  {
   "cell_type": "markdown",
   "metadata": {
    "id": "WdmuewkJ8GAT"
   },
   "source": [
    "\n",
    "1. LightBGMu has produced very good results than any other.\n",
    "2. There is chance in increase in the efficiency of model by feature engineering\n",
    "3. Threshold optimization helped in achieving good results."
   ]
  },
  {
   "cell_type": "markdown",
   "metadata": {
    "id": "lbEGDH7_84Zk"
   },
   "source": []
  }
 ],
 "metadata": {
  "colab": {
   "name": "Copy of Hacklive_Day2.ipynb",
   "provenance": []
  },
  "kernelspec": {
   "display_name": "Python 3",
   "language": "python",
   "name": "python3"
  },
  "language_info": {
   "codemirror_mode": {
    "name": "ipython",
    "version": 3
   },
   "file_extension": ".py",
   "mimetype": "text/x-python",
   "name": "python",
   "nbconvert_exporter": "python",
   "pygments_lexer": "ipython3",
   "version": "3.8.3"
  }
 },
 "nbformat": 4,
 "nbformat_minor": 1
}
