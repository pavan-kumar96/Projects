{
 "cells": [
  {
   "cell_type": "markdown",
   "metadata": {},
   "source": [
    "## Task - 1\n",
    "### Movie set"
   ]
  },
  {
   "cell_type": "code",
   "execution_count": null,
   "metadata": {},
   "outputs": [],
   "source": [
    "import pandas as pd\n",
    "import ast"
   ]
  },
  {
   "cell_type": "code",
   "execution_count": 167,
   "metadata": {},
   "outputs": [],
   "source": [
    "movies = pd.read_csv(\"movies.csv\")\n",
    "credits= pd.read_csv(\"credits.csv\")"
   ]
  },
  {
   "cell_type": "code",
   "execution_count": 168,
   "metadata": {},
   "outputs": [],
   "source": [
    "df=pd.merge(movies ,credits,right_on='movie_id', left_on='id')"
   ]
  },
  {
   "cell_type": "markdown",
   "metadata": {},
   "source": [
    "##### Cleaning Production companies column"
   ]
  },
  {
   "cell_type": "code",
   "execution_count": 169,
   "metadata": {},
   "outputs": [],
   "source": [
    "df.production_companies = df.production_companies.str.split(\":\",n=1,expand=True)[1]\n",
    "df.production_companies = df.production_companies.str.split(\",\",n=0,expand=True)[0]\n"
   ]
  },
  {
   "cell_type": "code",
   "execution_count": 170,
   "metadata": {},
   "outputs": [],
   "source": [
    "df.production_companies =  df['production_companies'].str.replace('\"', '')\n",
    "\n",
    "df['production_companies'] = df['production_companies'].str.strip()"
   ]
  },
  {
   "cell_type": "code",
   "execution_count": null,
   "metadata": {},
   "outputs": [],
   "source": []
  },
  {
   "cell_type": "markdown",
   "metadata": {},
   "source": [
    "##### Cleaning genres column"
   ]
  },
  {
   "cell_type": "code",
   "execution_count": 171,
   "metadata": {},
   "outputs": [
    {
     "data": {
      "text/plain": [
       "0              \"name\": \"Action\"}\n",
       "1           \"name\": \"Adventure\"}\n",
       "2              \"name\": \"Action\"}\n",
       "3              \"name\": \"Action\"}\n",
       "4              \"name\": \"Action\"}\n",
       "                  ...           \n",
       "4798           \"name\": \"Action\"}\n",
       "4799           \"name\": \"Comedy\"}\n",
       "4800           \"name\": \"Comedy\"}\n",
       "4801                        None\n",
       "4802     \"name\": \"Documentary\"}]\n",
       "Name: genres, Length: 4803, dtype: object"
      ]
     },
     "execution_count": 171,
     "metadata": {},
     "output_type": "execute_result"
    }
   ],
   "source": [
    "df.genres = df.genres.str.split(\",\",n=2,expand=True)[1]\n",
    "df.genres"
   ]
  },
  {
   "cell_type": "code",
   "execution_count": 172,
   "metadata": {},
   "outputs": [],
   "source": [
    "df.genres.dropna(inplace=True)"
   ]
  },
  {
   "cell_type": "code",
   "execution_count": 173,
   "metadata": {},
   "outputs": [],
   "source": [
    "df['genres'] = df['genres'].apply(lambda x: x.split('\"name\"')[1])"
   ]
  },
  {
   "cell_type": "code",
   "execution_count": 174,
   "metadata": {},
   "outputs": [],
   "source": [
    "df['genres'] =  df['genres'].str.replace('\"', '')\n",
    "df['genres'] =  df['genres'].str.replace('\"', '')\n",
    "df['genres'] =  df['genres'].str.replace(':', '')\n",
    "df['genres'] =  df['genres'].str.replace(']', '')\n",
    "df['genres'] =  df['genres'].str.replace('}', '')\n"
   ]
  },
  {
   "cell_type": "code",
   "execution_count": 175,
   "metadata": {},
   "outputs": [],
   "source": [
    "df['genres'] = df['genres'].str.strip()"
   ]
  },
  {
   "cell_type": "markdown",
   "metadata": {},
   "source": [
    "##### Converting the dtype to Datetime and getting the year  columns"
   ]
  },
  {
   "cell_type": "code",
   "execution_count": 176,
   "metadata": {},
   "outputs": [],
   "source": [
    "df['release_date'] = pd.to_datetime(df['release_date'])\n",
    "df['year'] = df['release_date'].dt.year\n",
    "df.year = df.year.fillna(0).astype(int)\n"
   ]
  },
  {
   "cell_type": "markdown",
   "metadata": {},
   "source": [
    "###### Cleaning the cast column"
   ]
  },
  {
   "cell_type": "code",
   "execution_count": 177,
   "metadata": {},
   "outputs": [],
   "source": [
    "df['cast'] = df['cast'].str.split(\":\",n=6,expand=True)[6]\n",
    "df['cast'] = df['cast'].str.split(\",\",n=0,expand=True)[0]"
   ]
  },
  {
   "cell_type": "code",
   "execution_count": 178,
   "metadata": {},
   "outputs": [],
   "source": [
    "df['cast'] =  df['cast'].str.replace('\"', '')\n",
    "df['cast'] = df['cast'].str.strip()"
   ]
  },
  {
   "cell_type": "markdown",
   "metadata": {},
   "source": [
    "#### 1. Which actor/actress has done the most number of Action movies"
   ]
  },
  {
   "cell_type": "code",
   "execution_count": 180,
   "metadata": {},
   "outputs": [],
   "source": [
    "action_hero = df[df.genres =='Action']"
   ]
  },
  {
   "cell_type": "code",
   "execution_count": 211,
   "metadata": {},
   "outputs": [
    {
     "data": {
      "text/html": [
       "<div>\n",
       "<style scoped>\n",
       "    .dataframe tbody tr th:only-of-type {\n",
       "        vertical-align: middle;\n",
       "    }\n",
       "\n",
       "    .dataframe tbody tr th {\n",
       "        vertical-align: top;\n",
       "    }\n",
       "\n",
       "    .dataframe thead th {\n",
       "        text-align: right;\n",
       "    }\n",
       "</style>\n",
       "<table border=\"1\" class=\"dataframe\">\n",
       "  <thead>\n",
       "    <tr style=\"text-align: right;\">\n",
       "      <th></th>\n",
       "      <th>index</th>\n",
       "      <th>cast</th>\n",
       "    </tr>\n",
       "  </thead>\n",
       "  <tbody>\n",
       "    <tr>\n",
       "      <th>0</th>\n",
       "      <td>Bruce Willis</td>\n",
       "      <td>16</td>\n",
       "    </tr>\n",
       "    <tr>\n",
       "      <th>1</th>\n",
       "      <td>Sylvester Stallone</td>\n",
       "      <td>16</td>\n",
       "    </tr>\n",
       "    <tr>\n",
       "      <th>2</th>\n",
       "      <td>Arnold Schwarzenegger</td>\n",
       "      <td>12</td>\n",
       "    </tr>\n",
       "  </tbody>\n",
       "</table>\n",
       "</div>"
      ],
      "text/plain": [
       "                   index  cast\n",
       "0           Bruce Willis    16\n",
       "1     Sylvester Stallone    16\n",
       "2  Arnold Schwarzenegger    12"
      ]
     },
     "execution_count": 211,
     "metadata": {},
     "output_type": "execute_result"
    }
   ],
   "source": [
    "Powerful_hero = action_hero.cast.value_counts()[:3]\n",
    "Powerful_hero.reset_index()\n"
   ]
  },
  {
   "cell_type": "code",
   "execution_count": 213,
   "metadata": {},
   "outputs": [
    {
     "name": "stdout",
     "output_type": "stream",
     "text": [
      "The hero with more action movies is ['Bruce Willis']\n"
     ]
    }
   ],
   "source": [
    "print(\"The hero with more action movies is\", Powerful_hero.index[:1].values)"
   ]
  },
  {
   "cell_type": "code",
   "execution_count": 208,
   "metadata": {},
   "outputs": [
    {
     "data": {
      "text/plain": [
       "<matplotlib.axes._subplots.AxesSubplot at 0x7f4b31576280>"
      ]
     },
     "execution_count": 208,
     "metadata": {},
     "output_type": "execute_result"
    },
    {
     "data": {
      "image/png": "[encoded data removed]",
      "text/plain": [
       "<Figure size 432x288 with 1 Axes>"
      ]
     },
     "metadata": {
      "needs_background": "light"
     },
     "output_type": "display_data"
    }
   ],
   "source": [
    "action_hero.cast.value_counts()[:7].plot(kind = 'bar')"
   ]
  },
  {
   "cell_type": "markdown",
   "metadata": {},
   "source": [
    "####  2. What is the total revenue of movies produced by \"Twentieth Century Fox Film Corporation\" that were released after the year 2000 and had the actor Will Smith in it?m`"
   ]
  },
  {
   "cell_type": "code",
   "execution_count": 216,
   "metadata": {},
   "outputs": [],
   "source": [
    "new_data = df[(df.production_companies == 'Twentieth Century Fox Film Corporation')& (df.year > 2000) & (df.cast == 'Will Smith')]"
   ]
  },
  {
   "cell_type": "code",
   "execution_count": 219,
   "metadata": {},
   "outputs": [
    {
     "name": "stdout",
     "output_type": "stream",
     "text": [
      "The total amount of revenue is RS 347234916\n"
     ]
    }
   ],
   "source": [
    "print(\"The total amount of revenue is RS\",new_data.revenue.sum())"
   ]
  },
  {
   "cell_type": "code",
   "execution_count": 225,
   "metadata": {},
   "outputs": [
    {
     "data": {
      "text/plain": [
       "<matplotlib.axes._subplots.AxesSubplot at 0x7f4b316770d0>"
      ]
     },
     "execution_count": 225,
     "metadata": {},
     "output_type": "execute_result"
    },
    {
     "data": {
      "image/png": "[encoded data removed]",
      "text/plain": [
       "<Figure size 432x288 with 1 Axes>"
      ]
     },
     "metadata": {
      "needs_background": "light"
     },
     "output_type": "display_data"
    }
   ],
   "source": [
    "new_data.plot(x = 'original_title', y = \"revenue\", kind = 'bar')"
   ]
  },
  {
   "cell_type": "markdown",
   "metadata": {},
   "source": [
    "#### 3. Create a summary dataset listing different movie genre and the production company making most movies in the particular genre.`m"
   ]
  },
  {
   "cell_type": "code",
   "execution_count": 229,
   "metadata": {},
   "outputs": [
    {
     "data": {
      "text/plain": [
       "genres   production_companies                  \n",
       "Action   Paramount Pictures                        55\n",
       "         Columbia Pictures                         48\n",
       "         Universal Pictures                        48\n",
       "         Twentieth Century Fox Film Corporation    44\n",
       "         New Line Cinema                           26\n",
       "                                                   ..\n",
       "Western  The Javelina Film Company                  1\n",
       "         The Selznik Studio                         1\n",
       "         Tig Productions                            1\n",
       "         Tree Line Films                            1\n",
       "         Universal Pictures                         1\n",
       "Name: production_companies, Length: 2127, dtype: int64"
      ]
     },
     "execution_count": 229,
     "metadata": {},
     "output_type": "execute_result"
    }
   ],
   "source": [
    "df.groupby('genres').production_companies.value_counts()"
   ]
  },
  {
   "cell_type": "markdown",
   "metadata": {},
   "source": [
    "#### Conclusion: From the above table We  can say that \"Paramount_companies\" has produced more films in \"Action\" Genre"
   ]
  },
  {
   "cell_type": "code",
   "execution_count": 231,
   "metadata": {},
   "outputs": [
    {
     "data": {
      "text/plain": [
       "<matplotlib.axes._subplots.AxesSubplot at 0x7f4b2da03c70>"
      ]
     },
     "execution_count": 231,
     "metadata": {},
     "output_type": "execute_result"
    },
    {
     "data": {
      "image/png": "[encoded data removed]",
      "text/plain": [
       "<Figure size 432x288 with 1 Axes>"
      ]
     },
     "metadata": {
      "needs_background": "light"
     },
     "output_type": "display_data"
    }
   ],
   "source": [
    "df.groupby('genres').production_companies.value_counts()[:5].plot(kind = 'bar')"
   ]
  },
  {
   "cell_type": "markdown",
   "metadata": {},
   "source": [
    "#### 4. Rank the production company based on the mean popularity of the produced movies."
   ]
  },
  {
   "cell_type": "code",
   "execution_count": 232,
   "metadata": {},
   "outputs": [
    {
     "name": "stdout",
     "output_type": "stream",
     "text": [
      "The Top Five Production comapnies with their mean is as follows :\n",
      "                                popularity\n",
      "production_companies                      \n",
      "Black Bear Pictures             145.364591\n",
      "Marvel Studios                  134.390332\n",
      "Gotham Group                    113.161483\n",
      "Lightstorm Entertainment        101.741550\n",
      "Patalex IV Productions Limited  101.250416\n"
     ]
    }
   ],
   "source": [
    "rank_data = pd.DataFrame(df.groupby('production_companies').popularity.mean())\n",
    "rank_data.reset_index(inplace = True)\n",
    "\n",
    "print(\"The Top Five Production comapnies with their mean is as follows :\")\n",
    "print(rank_data.sort_values(by= 'popularity', ascending = False).set_index(\"production_companies\")[:5])"
   ]
  },
  {
   "cell_type": "code",
   "execution_count": 234,
   "metadata": {},
   "outputs": [],
   "source": [
    "import matplotlib.pyplot as plt"
   ]
  },
  {
   "cell_type": "code",
   "execution_count": 235,
   "metadata": {},
   "outputs": [
    {
     "data": {
      "text/plain": [
       "Text(0, 0.5, 'mean popularity value')"
      ]
     },
     "execution_count": 235,
     "metadata": {},
     "output_type": "execute_result"
    },
    {
     "data": {
      "image/png": "[encoded data removed]",
      "text/plain": [
       "<Figure size 432x288 with 1 Axes>"
      ]
     },
     "metadata": {
      "needs_background": "light"
     },
     "output_type": "display_data"
    }
   ],
   "source": [
    "rank_data.sort_values(by= 'popularity', ascending = False).set_index(\"production_companies\")[:5].plot(kind = 'bar')\n",
    "plt.ylabel(\"mean popularity value\")"
   ]
  }
 ],
 "metadata": {
  "kernelspec": {
   "display_name": "Python 3",
   "language": "python",
   "name": "python3"
  },
  "language_info": {
   "codemirror_mode": {
    "name": "ipython",
    "version": 3
   },
   "file_extension": ".py",
   "mimetype": "text/x-python",
   "name": "python",
   "nbconvert_exporter": "python",
   "pygments_lexer": "ipython3",
   "version": "3.8.3"
  }
 },
 "nbformat": 4,
 "nbformat_minor": 4
}
